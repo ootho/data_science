{
 "cells": [
  {
   "attachments": {},
   "cell_type": "markdown",
   "id": "e0485038-6a46-4d87-8c98-744df0a05b31",
   "metadata": {},
   "source": [
    "# Предсказание оттока клиентов\n",
    "\n",
    "Источник данных: [https://www.kaggle.com/barelydedicated/bank-customer-churn-modeling](https://www.kaggle.com/barelydedicated/bank-customer-churn-modeling)\n",
    "\n",
    "Для проекта по анализу оттока клиентов из банка необходимо сделать прогноз, уйдет ли клиент в ближайшем будущем или нет. Имеются исторические данные о поведении клиентов и расторжении договоров с банком.\n",
    "\n",
    "Нужно спрогнозировать, уйдёт клиент из банка в ближайшее время или нет."
   ]
  },
  {
   "attachments": {},
   "cell_type": "markdown",
   "id": "98c4838a-aa00-4552-9d02-4110368ef823",
   "metadata": {},
   "source": [
    "## Подготовка данных"
   ]
  },
  {
   "attachments": {},
   "cell_type": "markdown",
   "id": "cf31fb48",
   "metadata": {},
   "source": [
    "Установим необходимые пакеты, если они отсутствуют"
   ]
  },
  {
   "cell_type": "code",
   "execution_count": 70,
   "id": "8caa8555",
   "metadata": {},
   "outputs": [
    {
     "name": "stdout",
     "output_type": "stream",
     "text": [
      "invalid syntax (<string>, line 1)\n",
      "Requirement already satisfied: scikit-learn==1.1.3 in c:\\users\\danii\\anaconda3\\lib\\site-packages (1.1.3)\n",
      "Requirement already satisfied: threadpoolctl>=2.0.0 in c:\\users\\danii\\anaconda3\\lib\\site-packages (from scikit-learn==1.1.3) (2.2.0)\n",
      "Requirement already satisfied: joblib>=1.0.0 in c:\\users\\danii\\anaconda3\\lib\\site-packages (from scikit-learn==1.1.3) (1.2.0)\n",
      "Requirement already satisfied: scipy>=1.3.2 in c:\\users\\danii\\anaconda3\\lib\\site-packages (from scikit-learn==1.1.3) (1.9.1)\n",
      "Requirement already satisfied: numpy>=1.17.3 in c:\\users\\danii\\anaconda3\\lib\\site-packages (from scikit-learn==1.1.3) (1.21.5)\n"
     ]
    }
   ],
   "source": [
    "def check_if_installed(packages):\n",
    "    for package in packages:\n",
    "        try:\n",
    "            exec(f'import {package}')\n",
    "        except Exception as ex:\n",
    "            print(ex)\n",
    "            !pip install {package}\n",
    "            # exec(f'import {package}')\n",
    "\n",
    "libs = [\n",
    "    'scikit-learn==1.1.3',\n",
    "    'imblearn'\n",
    "]\n",
    "\n",
    "check_if_installed(libs)\n"
   ]
  },
  {
   "cell_type": "code",
   "execution_count": 71,
   "id": "b9c731e3-03b0-473a-b964-cdfbd015e5f7",
   "metadata": {},
   "outputs": [],
   "source": [
    "import os\n",
    "\n",
    "from catboost import CatBoostClassifier\n",
    "import pandas as pd\n",
    "import numpy as np\n",
    "import matplotlib.pyplot as plt\n",
    "\n",
    "from sklearn.preprocessing import StandardScaler\n",
    "from sklearn.preprocessing import OneHotEncoder\n",
    "from sklearn.utils import shuffle\n",
    "from sklearn.linear_model import LogisticRegression\n",
    "from sklearn.tree import DecisionTreeClassifier\n",
    "from sklearn.ensemble import RandomForestClassifier\n",
    "from sklearn.model_selection import train_test_split\n",
    "from sklearn.model_selection import GridSearchCV\n",
    "from sklearn.metrics import f1_score\n",
    "from sklearn.metrics import roc_auc_score\n",
    "from sklearn.metrics import accuracy_score\n",
    "from sklearn.metrics import recall_score\n",
    "from sklearn.metrics import precision_score\n",
    "from sklearn.metrics import plot_roc_curve\n",
    "from sklearn.metrics import roc_curve\n",
    "from sklearn.compose import ColumnTransformer\n",
    "from imblearn.over_sampling import SMOTE\n",
    "from imblearn.under_sampling import RandomUnderSampler\n",
    "\n",
    "    import warnings\n",
    "    warnings.simplefilter(action='ignore', category=FutureWarning)"
   ]
  },
  {
   "attachments": {},
   "cell_type": "markdown",
   "id": "6ce8df86",
   "metadata": {},
   "source": [
    "Загрузим датасет и посмотрим на данные."
   ]
  },
  {
   "cell_type": "code",
   "execution_count": 72,
   "id": "a5e20d79-c608-4b7d-acbe-76531413f4bb",
   "metadata": {},
   "outputs": [],
   "source": [
    "BASE_DIR = os.getcwd()\n",
    "\n",
    "df = pd.read_csv(f'{BASE_DIR}/datasets/Churn_Modelling.csv')"
   ]
  },
  {
   "cell_type": "code",
   "execution_count": 73,
   "id": "b0519fcc-3e06-4f19-8b12-45a4101c5e24",
   "metadata": {},
   "outputs": [
    {
     "data": {
      "text/html": [
       "<div>\n",
       "<style scoped>\n",
       "    .dataframe tbody tr th:only-of-type {\n",
       "        vertical-align: middle;\n",
       "    }\n",
       "\n",
       "    .dataframe tbody tr th {\n",
       "        vertical-align: top;\n",
       "    }\n",
       "\n",
       "    .dataframe thead th {\n",
       "        text-align: right;\n",
       "    }\n",
       "</style>\n",
       "<table border=\"1\" class=\"dataframe\">\n",
       "  <thead>\n",
       "    <tr style=\"text-align: right;\">\n",
       "      <th></th>\n",
       "      <th>RowNumber</th>\n",
       "      <th>CustomerId</th>\n",
       "      <th>Surname</th>\n",
       "      <th>CreditScore</th>\n",
       "      <th>Geography</th>\n",
       "      <th>Gender</th>\n",
       "      <th>Age</th>\n",
       "      <th>Tenure</th>\n",
       "      <th>Balance</th>\n",
       "      <th>NumOfProducts</th>\n",
       "      <th>HasCrCard</th>\n",
       "      <th>IsActiveMember</th>\n",
       "      <th>EstimatedSalary</th>\n",
       "      <th>Exited</th>\n",
       "    </tr>\n",
       "  </thead>\n",
       "  <tbody>\n",
       "    <tr>\n",
       "      <th>0</th>\n",
       "      <td>1</td>\n",
       "      <td>15634602</td>\n",
       "      <td>Hargrave</td>\n",
       "      <td>619</td>\n",
       "      <td>France</td>\n",
       "      <td>Female</td>\n",
       "      <td>42</td>\n",
       "      <td>2</td>\n",
       "      <td>0.00</td>\n",
       "      <td>1</td>\n",
       "      <td>1</td>\n",
       "      <td>1</td>\n",
       "      <td>101348.88</td>\n",
       "      <td>1</td>\n",
       "    </tr>\n",
       "    <tr>\n",
       "      <th>1</th>\n",
       "      <td>2</td>\n",
       "      <td>15647311</td>\n",
       "      <td>Hill</td>\n",
       "      <td>608</td>\n",
       "      <td>Spain</td>\n",
       "      <td>Female</td>\n",
       "      <td>41</td>\n",
       "      <td>1</td>\n",
       "      <td>83807.86</td>\n",
       "      <td>1</td>\n",
       "      <td>0</td>\n",
       "      <td>1</td>\n",
       "      <td>112542.58</td>\n",
       "      <td>0</td>\n",
       "    </tr>\n",
       "    <tr>\n",
       "      <th>2</th>\n",
       "      <td>3</td>\n",
       "      <td>15619304</td>\n",
       "      <td>Onio</td>\n",
       "      <td>502</td>\n",
       "      <td>France</td>\n",
       "      <td>Female</td>\n",
       "      <td>42</td>\n",
       "      <td>8</td>\n",
       "      <td>159660.80</td>\n",
       "      <td>3</td>\n",
       "      <td>1</td>\n",
       "      <td>0</td>\n",
       "      <td>113931.57</td>\n",
       "      <td>1</td>\n",
       "    </tr>\n",
       "    <tr>\n",
       "      <th>3</th>\n",
       "      <td>4</td>\n",
       "      <td>15701354</td>\n",
       "      <td>Boni</td>\n",
       "      <td>699</td>\n",
       "      <td>France</td>\n",
       "      <td>Female</td>\n",
       "      <td>39</td>\n",
       "      <td>1</td>\n",
       "      <td>0.00</td>\n",
       "      <td>2</td>\n",
       "      <td>0</td>\n",
       "      <td>0</td>\n",
       "      <td>93826.63</td>\n",
       "      <td>0</td>\n",
       "    </tr>\n",
       "    <tr>\n",
       "      <th>4</th>\n",
       "      <td>5</td>\n",
       "      <td>15737888</td>\n",
       "      <td>Mitchell</td>\n",
       "      <td>850</td>\n",
       "      <td>Spain</td>\n",
       "      <td>Female</td>\n",
       "      <td>43</td>\n",
       "      <td>2</td>\n",
       "      <td>125510.82</td>\n",
       "      <td>1</td>\n",
       "      <td>1</td>\n",
       "      <td>1</td>\n",
       "      <td>79084.10</td>\n",
       "      <td>0</td>\n",
       "    </tr>\n",
       "  </tbody>\n",
       "</table>\n",
       "</div>"
      ],
      "text/plain": [
       "   RowNumber  CustomerId   Surname  CreditScore Geography  Gender  Age  \\\n",
       "0          1    15634602  Hargrave          619    France  Female   42   \n",
       "1          2    15647311      Hill          608     Spain  Female   41   \n",
       "2          3    15619304      Onio          502    France  Female   42   \n",
       "3          4    15701354      Boni          699    France  Female   39   \n",
       "4          5    15737888  Mitchell          850     Spain  Female   43   \n",
       "\n",
       "   Tenure    Balance  NumOfProducts  HasCrCard  IsActiveMember  \\\n",
       "0       2       0.00              1          1               1   \n",
       "1       1   83807.86              1          0               1   \n",
       "2       8  159660.80              3          1               0   \n",
       "3       1       0.00              2          0               0   \n",
       "4       2  125510.82              1          1               1   \n",
       "\n",
       "   EstimatedSalary  Exited  \n",
       "0        101348.88       1  \n",
       "1        112542.58       0  \n",
       "2        113931.57       1  \n",
       "3         93826.63       0  \n",
       "4         79084.10       0  "
      ]
     },
     "execution_count": 73,
     "metadata": {},
     "output_type": "execute_result"
    }
   ],
   "source": [
    "df.head(5)\n"
   ]
  },
  {
   "attachments": {},
   "cell_type": "markdown",
   "id": "9126fdbd",
   "metadata": {},
   "source": [
    "**Признаки:**  \n",
    "  \n",
    "`RowNumber` - индекс строки  \n",
    "`CustomerId` - уникальный идентификатор клиента  \n",
    "`Surname` - фамилия  \n",
    "`CreditScore` - кредитный рейтинг  \n",
    "`Geography` - страна проживания  \n",
    "`Gender` - пол  \n",
    "`Age` - возраст  \n",
    "`Tenure` - сколько лет человек является клиентом банка  \n",
    "`Balance` - баланс на счете  \n",
    "`NumOfProducts` - количество банковских продуктов, используемых клиентом  \n",
    "`HasCrCard` - наличие кредитной карты  \n",
    "`IsActiveMember` - активность клиента  \n",
    "`EstimatedSalary` - зарплата  \n",
    "  \n",
    "**Целевой признак:**  \n",
    "  \n",
    "`Exited` - факт ухода клиента \n",
    "\n"
   ]
  },
  {
   "attachments": {},
   "cell_type": "markdown",
   "id": "c9ff0ed1",
   "metadata": {},
   "source": [
    "Изучим общие характеристики датасета"
   ]
  },
  {
   "cell_type": "code",
   "execution_count": 74,
   "id": "e7b1ead6-945c-4aa7-8d13-392b51cfa506",
   "metadata": {},
   "outputs": [
    {
     "name": "stdout",
     "output_type": "stream",
     "text": [
      "<class 'pandas.core.frame.DataFrame'>\n",
      "RangeIndex: 10000 entries, 0 to 9999\n",
      "Data columns (total 14 columns):\n",
      " #   Column           Non-Null Count  Dtype  \n",
      "---  ------           --------------  -----  \n",
      " 0   RowNumber        10000 non-null  int64  \n",
      " 1   CustomerId       10000 non-null  int64  \n",
      " 2   Surname          10000 non-null  object \n",
      " 3   CreditScore      10000 non-null  int64  \n",
      " 4   Geography        10000 non-null  object \n",
      " 5   Gender           10000 non-null  object \n",
      " 6   Age              10000 non-null  int64  \n",
      " 7   Tenure           10000 non-null  int64  \n",
      " 8   Balance          10000 non-null  float64\n",
      " 9   NumOfProducts    10000 non-null  int64  \n",
      " 10  HasCrCard        10000 non-null  int64  \n",
      " 11  IsActiveMember   10000 non-null  int64  \n",
      " 12  EstimatedSalary  10000 non-null  float64\n",
      " 13  Exited           10000 non-null  int64  \n",
      "dtypes: float64(2), int64(9), object(3)\n",
      "memory usage: 1.1+ MB\n"
     ]
    }
   ],
   "source": [
    "df.info()"
   ]
  },
  {
   "attachments": {},
   "cell_type": "markdown",
   "id": "dcb67bce-6680-45af-a6ed-cdb967eb8685",
   "metadata": {},
   "source": [
    "Пропуски в данных отсутствуют. В столбцах RowNumber, Surname, CustomerId нет необходимости, они излишни для обучения модели, удалим их."
   ]
  },
  {
   "cell_type": "code",
   "execution_count": 75,
   "id": "97b6d9cb-4d1c-4868-ba1f-c661ce5f5701",
   "metadata": {},
   "outputs": [],
   "source": [
    "df = df.drop(['RowNumber', 'Surname', 'CustomerId'], axis=1)\n"
   ]
  },
  {
   "cell_type": "code",
   "execution_count": 76,
   "id": "08e4fc33",
   "metadata": {},
   "outputs": [
    {
     "data": {
      "text/html": [
       "<div>\n",
       "<style scoped>\n",
       "    .dataframe tbody tr th:only-of-type {\n",
       "        vertical-align: middle;\n",
       "    }\n",
       "\n",
       "    .dataframe tbody tr th {\n",
       "        vertical-align: top;\n",
       "    }\n",
       "\n",
       "    .dataframe thead th {\n",
       "        text-align: right;\n",
       "    }\n",
       "</style>\n",
       "<table border=\"1\" class=\"dataframe\">\n",
       "  <thead>\n",
       "    <tr style=\"text-align: right;\">\n",
       "      <th></th>\n",
       "      <th>count</th>\n",
       "      <th>mean</th>\n",
       "      <th>std</th>\n",
       "      <th>min</th>\n",
       "      <th>25%</th>\n",
       "      <th>50%</th>\n",
       "      <th>75%</th>\n",
       "      <th>max</th>\n",
       "    </tr>\n",
       "  </thead>\n",
       "  <tbody>\n",
       "    <tr>\n",
       "      <th>CreditScore</th>\n",
       "      <td>10000.0</td>\n",
       "      <td>650.528800</td>\n",
       "      <td>96.653299</td>\n",
       "      <td>350.00</td>\n",
       "      <td>584.00</td>\n",
       "      <td>652.000</td>\n",
       "      <td>718.0000</td>\n",
       "      <td>850.00</td>\n",
       "    </tr>\n",
       "    <tr>\n",
       "      <th>Age</th>\n",
       "      <td>10000.0</td>\n",
       "      <td>38.921800</td>\n",
       "      <td>10.487806</td>\n",
       "      <td>18.00</td>\n",
       "      <td>32.00</td>\n",
       "      <td>37.000</td>\n",
       "      <td>44.0000</td>\n",
       "      <td>92.00</td>\n",
       "    </tr>\n",
       "    <tr>\n",
       "      <th>Tenure</th>\n",
       "      <td>10000.0</td>\n",
       "      <td>5.012800</td>\n",
       "      <td>2.892174</td>\n",
       "      <td>0.00</td>\n",
       "      <td>3.00</td>\n",
       "      <td>5.000</td>\n",
       "      <td>7.0000</td>\n",
       "      <td>10.00</td>\n",
       "    </tr>\n",
       "    <tr>\n",
       "      <th>Balance</th>\n",
       "      <td>10000.0</td>\n",
       "      <td>76485.889288</td>\n",
       "      <td>62397.405202</td>\n",
       "      <td>0.00</td>\n",
       "      <td>0.00</td>\n",
       "      <td>97198.540</td>\n",
       "      <td>127644.2400</td>\n",
       "      <td>250898.09</td>\n",
       "    </tr>\n",
       "    <tr>\n",
       "      <th>NumOfProducts</th>\n",
       "      <td>10000.0</td>\n",
       "      <td>1.530200</td>\n",
       "      <td>0.581654</td>\n",
       "      <td>1.00</td>\n",
       "      <td>1.00</td>\n",
       "      <td>1.000</td>\n",
       "      <td>2.0000</td>\n",
       "      <td>4.00</td>\n",
       "    </tr>\n",
       "    <tr>\n",
       "      <th>HasCrCard</th>\n",
       "      <td>10000.0</td>\n",
       "      <td>0.705500</td>\n",
       "      <td>0.455840</td>\n",
       "      <td>0.00</td>\n",
       "      <td>0.00</td>\n",
       "      <td>1.000</td>\n",
       "      <td>1.0000</td>\n",
       "      <td>1.00</td>\n",
       "    </tr>\n",
       "    <tr>\n",
       "      <th>IsActiveMember</th>\n",
       "      <td>10000.0</td>\n",
       "      <td>0.515100</td>\n",
       "      <td>0.499797</td>\n",
       "      <td>0.00</td>\n",
       "      <td>0.00</td>\n",
       "      <td>1.000</td>\n",
       "      <td>1.0000</td>\n",
       "      <td>1.00</td>\n",
       "    </tr>\n",
       "    <tr>\n",
       "      <th>EstimatedSalary</th>\n",
       "      <td>10000.0</td>\n",
       "      <td>100090.239881</td>\n",
       "      <td>57510.492818</td>\n",
       "      <td>11.58</td>\n",
       "      <td>51002.11</td>\n",
       "      <td>100193.915</td>\n",
       "      <td>149388.2475</td>\n",
       "      <td>199992.48</td>\n",
       "    </tr>\n",
       "    <tr>\n",
       "      <th>Exited</th>\n",
       "      <td>10000.0</td>\n",
       "      <td>0.203700</td>\n",
       "      <td>0.402769</td>\n",
       "      <td>0.00</td>\n",
       "      <td>0.00</td>\n",
       "      <td>0.000</td>\n",
       "      <td>0.0000</td>\n",
       "      <td>1.00</td>\n",
       "    </tr>\n",
       "  </tbody>\n",
       "</table>\n",
       "</div>"
      ],
      "text/plain": [
       "                   count           mean           std     min       25%  \\\n",
       "CreditScore      10000.0     650.528800     96.653299  350.00    584.00   \n",
       "Age              10000.0      38.921800     10.487806   18.00     32.00   \n",
       "Tenure           10000.0       5.012800      2.892174    0.00      3.00   \n",
       "Balance          10000.0   76485.889288  62397.405202    0.00      0.00   \n",
       "NumOfProducts    10000.0       1.530200      0.581654    1.00      1.00   \n",
       "HasCrCard        10000.0       0.705500      0.455840    0.00      0.00   \n",
       "IsActiveMember   10000.0       0.515100      0.499797    0.00      0.00   \n",
       "EstimatedSalary  10000.0  100090.239881  57510.492818   11.58  51002.11   \n",
       "Exited           10000.0       0.203700      0.402769    0.00      0.00   \n",
       "\n",
       "                        50%          75%        max  \n",
       "CreditScore         652.000     718.0000     850.00  \n",
       "Age                  37.000      44.0000      92.00  \n",
       "Tenure                5.000       7.0000      10.00  \n",
       "Balance           97198.540  127644.2400  250898.09  \n",
       "NumOfProducts         1.000       2.0000       4.00  \n",
       "HasCrCard             1.000       1.0000       1.00  \n",
       "IsActiveMember        1.000       1.0000       1.00  \n",
       "EstimatedSalary  100193.915  149388.2475  199992.48  \n",
       "Exited                0.000       0.0000       1.00  "
      ]
     },
     "execution_count": 76,
     "metadata": {},
     "output_type": "execute_result"
    }
   ],
   "source": [
    "df.describe().T"
   ]
  },
  {
   "attachments": {},
   "cell_type": "markdown",
   "id": "45b23a74",
   "metadata": {},
   "source": [
    "На первый взгляд в данных не видны аномалии."
   ]
  },
  {
   "cell_type": "code",
   "execution_count": 77,
   "id": "2275adc7",
   "metadata": {},
   "outputs": [
    {
     "data": {
      "image/png": "[encoded data removed]",
      "text/plain": [
       "<Figure size 2000x1500 with 12 Axes>"
      ]
     },
     "metadata": {},
     "output_type": "display_data"
    }
   ],
   "source": [
    "import math\n",
    "\n",
    "fig, axs = plt.subplots(math.ceil(len(df.columns)/3), 3, figsize=(20, 15))\n",
    "for i, col in enumerate(df.columns):\n",
    "    axs[i//3][i%3].hist(df[col])\n",
    "    axs[i//3][i%3].set_title(col)\n",
    "plt.show()\n"
   ]
  },
  {
   "attachments": {},
   "cell_type": "markdown",
   "id": "81e5b80b",
   "metadata": {},
   "source": [
    "На второй взгляд тоже."
   ]
  },
  {
   "attachments": {},
   "cell_type": "markdown",
   "id": "8fed1ea9",
   "metadata": {},
   "source": [
    "Разделим выборку на обучающую, валидационную и тестовую в отношении 4:1:1"
   ]
  },
  {
   "cell_type": "code",
   "execution_count": 26,
   "id": "c1cd5350",
   "metadata": {
    "tags": []
   },
   "outputs": [],
   "source": [
    "target = df['Exited']\n",
    "features = df.drop(['Exited'], axis=1)\n",
    "features_train_val, features_test, target_train_val, target_test = train_test_split(\n",
    "    features, target, test_size=0.20, random_state=1)\n",
    "features_train, features_valid, target_train, target_valid = train_test_split(\n",
    "    features_train_val, target_train_val, test_size=0.25, random_state=1)\n",
    "features_test_cat = features_test.copy()\n"
   ]
  },
  {
   "attachments": {},
   "cell_type": "markdown",
   "id": "2761f44d",
   "metadata": {},
   "source": [
    "Проверим корректность разбивки."
   ]
  },
  {
   "cell_type": "code",
   "execution_count": 27,
   "id": "eda053b2",
   "metadata": {},
   "outputs": [
    {
     "data": {
      "text/plain": [
       "((6000, 10), (6000,), (2000, 10), (2000,), (2000, 10), (2000,))"
      ]
     },
     "execution_count": 27,
     "metadata": {},
     "output_type": "execute_result"
    }
   ],
   "source": [
    "features_train.shape, target_train.shape, features_valid.shape, target_valid.shape, features_test.shape, target_test.shape\n"
   ]
  },
  {
   "attachments": {},
   "cell_type": "markdown",
   "id": "f1458db7-f6ce-4be1-8d1a-bfeaba555922",
   "metadata": {},
   "source": [
    "`Gender`, `Geography` - категориальные признаки, изучим их подробнее и выберем метод обработки."
   ]
  },
  {
   "cell_type": "code",
   "execution_count": 28,
   "id": "e982df2d",
   "metadata": {},
   "outputs": [
    {
     "data": {
      "text/plain": [
       "Male      3281\n",
       "Female    2719\n",
       "Name: Gender, dtype: int64"
      ]
     },
     "execution_count": 28,
     "metadata": {},
     "output_type": "execute_result"
    }
   ],
   "source": [
    "features_train['Gender'].value_counts()"
   ]
  },
  {
   "cell_type": "code",
   "execution_count": 29,
   "id": "56ab75dc",
   "metadata": {},
   "outputs": [
    {
     "data": {
      "text/plain": [
       "France     2976\n",
       "Germany    1520\n",
       "Spain      1504\n",
       "Name: Geography, dtype: int64"
      ]
     },
     "execution_count": 29,
     "metadata": {},
     "output_type": "execute_result"
    }
   ],
   "source": [
    "features_train['Geography'].value_counts()"
   ]
  },
  {
   "attachments": {},
   "cell_type": "markdown",
   "id": "05a44b58",
   "metadata": {},
   "source": [
    "В признаках `Gender` и `Geography` две и три категории соответственно. Категорий не много ,значит мы можем применить метод `OneHotEncoding`"
   ]
  },
  {
   "cell_type": "code",
   "execution_count": 30,
   "id": "267d57aa",
   "metadata": {},
   "outputs": [],
   "source": [
    "cats = ['Gender', 'Geography']"
   ]
  },
  {
   "cell_type": "code",
   "execution_count": 31,
   "id": "64e482d6",
   "metadata": {},
   "outputs": [
    {
     "data": {
      "text/html": [
       "<style>#sk-container-id-1 {color: black;background-color: white;}#sk-container-id-1 pre{padding: 0;}#sk-container-id-1 div.sk-toggleable {background-color: white;}#sk-container-id-1 label.sk-toggleable__label {cursor: pointer;display: block;width: 100%;margin-bottom: 0;padding: 0.3em;box-sizing: border-box;text-align: center;}#sk-container-id-1 label.sk-toggleable__label-arrow:before {content: \"▸\";float: left;margin-right: 0.25em;color: #696969;}#sk-container-id-1 label.sk-toggleable__label-arrow:hover:before {color: black;}#sk-container-id-1 div.sk-estimator:hover label.sk-toggleable__label-arrow:before {color: black;}#sk-container-id-1 div.sk-toggleable__content {max-height: 0;max-width: 0;overflow: hidden;text-align: left;background-color: #f0f8ff;}#sk-container-id-1 div.sk-toggleable__content pre {margin: 0.2em;color: black;border-radius: 0.25em;background-color: #f0f8ff;}#sk-container-id-1 input.sk-toggleable__control:checked~div.sk-toggleable__content {max-height: 200px;max-width: 100%;overflow: auto;}#sk-container-id-1 input.sk-toggleable__control:checked~label.sk-toggleable__label-arrow:before {content: \"▾\";}#sk-container-id-1 div.sk-estimator input.sk-toggleable__control:checked~label.sk-toggleable__label {background-color: #d4ebff;}#sk-container-id-1 div.sk-label input.sk-toggleable__control:checked~label.sk-toggleable__label {background-color: #d4ebff;}#sk-container-id-1 input.sk-hidden--visually {border: 0;clip: rect(1px 1px 1px 1px);clip: rect(1px, 1px, 1px, 1px);height: 1px;margin: -1px;overflow: hidden;padding: 0;position: absolute;width: 1px;}#sk-container-id-1 div.sk-estimator {font-family: monospace;background-color: #f0f8ff;border: 1px dotted black;border-radius: 0.25em;box-sizing: border-box;margin-bottom: 0.5em;}#sk-container-id-1 div.sk-estimator:hover {background-color: #d4ebff;}#sk-container-id-1 div.sk-parallel-item::after {content: \"\";width: 100%;border-bottom: 1px solid gray;flex-grow: 1;}#sk-container-id-1 div.sk-label:hover label.sk-toggleable__label {background-color: #d4ebff;}#sk-container-id-1 div.sk-serial::before {content: \"\";position: absolute;border-left: 1px solid gray;box-sizing: border-box;top: 0;bottom: 0;left: 50%;z-index: 0;}#sk-container-id-1 div.sk-serial {display: flex;flex-direction: column;align-items: center;background-color: white;padding-right: 0.2em;padding-left: 0.2em;position: relative;}#sk-container-id-1 div.sk-item {position: relative;z-index: 1;}#sk-container-id-1 div.sk-parallel {display: flex;align-items: stretch;justify-content: center;background-color: white;position: relative;}#sk-container-id-1 div.sk-item::before, #sk-container-id-1 div.sk-parallel-item::before {content: \"\";position: absolute;border-left: 1px solid gray;box-sizing: border-box;top: 0;bottom: 0;left: 50%;z-index: -1;}#sk-container-id-1 div.sk-parallel-item {display: flex;flex-direction: column;z-index: 1;position: relative;background-color: white;}#sk-container-id-1 div.sk-parallel-item:first-child::after {align-self: flex-end;width: 50%;}#sk-container-id-1 div.sk-parallel-item:last-child::after {align-self: flex-start;width: 50%;}#sk-container-id-1 div.sk-parallel-item:only-child::after {width: 0;}#sk-container-id-1 div.sk-dashed-wrapped {border: 1px dashed gray;margin: 0 0.4em 0.5em 0.4em;box-sizing: border-box;padding-bottom: 0.4em;background-color: white;}#sk-container-id-1 div.sk-label label {font-family: monospace;font-weight: bold;display: inline-block;line-height: 1.2em;}#sk-container-id-1 div.sk-label-container {text-align: center;}#sk-container-id-1 div.sk-container {/* jupyter's `normalize.less` sets `[hidden] { display: none; }` but bootstrap.min.css set `[hidden] { display: none !important; }` so we also need the `!important` here to be able to override the default hidden behavior on the sphinx rendered scikit-learn.org. See: https://github.com/scikit-learn/scikit-learn/issues/21755 */display: inline-block !important;position: relative;}#sk-container-id-1 div.sk-text-repr-fallback {display: none;}</style><div id=\"sk-container-id-1\" class=\"sk-top-container\"><div class=\"sk-text-repr-fallback\"><pre>OneHotEncoder(drop=&#x27;first&#x27;, handle_unknown=&#x27;ignore&#x27;, sparse=False)</pre><b>In a Jupyter environment, please rerun this cell to show the HTML representation or trust the notebook. <br />On GitHub, the HTML representation is unable to render, please try loading this page with nbviewer.org.</b></div><div class=\"sk-container\" hidden><div class=\"sk-item\"><div class=\"sk-estimator sk-toggleable\"><input class=\"sk-toggleable__control sk-hidden--visually\" id=\"sk-estimator-id-1\" type=\"checkbox\" checked><label for=\"sk-estimator-id-1\" class=\"sk-toggleable__label sk-toggleable__label-arrow\">OneHotEncoder</label><div class=\"sk-toggleable__content\"><pre>OneHotEncoder(drop=&#x27;first&#x27;, handle_unknown=&#x27;ignore&#x27;, sparse=False)</pre></div></div></div></div></div>"
      ],
      "text/plain": [
       "OneHotEncoder(drop='first', handle_unknown='ignore', sparse=False)"
      ]
     },
     "execution_count": 31,
     "metadata": {},
     "output_type": "execute_result"
    }
   ],
   "source": [
    "encoder_ohe = OneHotEncoder(\n",
    "    drop='first', handle_unknown='ignore', sparse=False\n",
    ")\n",
    "\n",
    "encoder_ohe.fit(features_train[cats])"
   ]
  },
  {
   "cell_type": "code",
   "execution_count": 32,
   "id": "65be2926",
   "metadata": {},
   "outputs": [],
   "source": [
    "features_train[encoder_ohe.get_feature_names_out()]\\\n",
    "      = encoder_ohe.transform(features_train[cats])\n",
    "features_train = features_train.drop(cats, axis=1)"
   ]
  },
  {
   "cell_type": "code",
   "execution_count": 33,
   "id": "edfb54c4",
   "metadata": {
    "scrolled": true
   },
   "outputs": [
    {
     "data": {
      "text/html": [
       "<div>\n",
       "<style scoped>\n",
       "    .dataframe tbody tr th:only-of-type {\n",
       "        vertical-align: middle;\n",
       "    }\n",
       "\n",
       "    .dataframe tbody tr th {\n",
       "        vertical-align: top;\n",
       "    }\n",
       "\n",
       "    .dataframe thead th {\n",
       "        text-align: right;\n",
       "    }\n",
       "</style>\n",
       "<table border=\"1\" class=\"dataframe\">\n",
       "  <thead>\n",
       "    <tr style=\"text-align: right;\">\n",
       "      <th></th>\n",
       "      <th>CreditScore</th>\n",
       "      <th>Age</th>\n",
       "      <th>Tenure</th>\n",
       "      <th>Balance</th>\n",
       "      <th>NumOfProducts</th>\n",
       "      <th>HasCrCard</th>\n",
       "      <th>IsActiveMember</th>\n",
       "      <th>EstimatedSalary</th>\n",
       "      <th>Gender_Male</th>\n",
       "      <th>Geography_Germany</th>\n",
       "      <th>Geography_Spain</th>\n",
       "    </tr>\n",
       "  </thead>\n",
       "  <tbody>\n",
       "    <tr>\n",
       "      <th>4495</th>\n",
       "      <td>789</td>\n",
       "      <td>32</td>\n",
       "      <td>7</td>\n",
       "      <td>69423.52</td>\n",
       "      <td>1</td>\n",
       "      <td>1</td>\n",
       "      <td>0</td>\n",
       "      <td>107499.39</td>\n",
       "      <td>0.0</td>\n",
       "      <td>0.0</td>\n",
       "      <td>0.0</td>\n",
       "    </tr>\n",
       "    <tr>\n",
       "      <th>6470</th>\n",
       "      <td>583</td>\n",
       "      <td>41</td>\n",
       "      <td>5</td>\n",
       "      <td>77647.60</td>\n",
       "      <td>1</td>\n",
       "      <td>1</td>\n",
       "      <td>0</td>\n",
       "      <td>190429.52</td>\n",
       "      <td>0.0</td>\n",
       "      <td>1.0</td>\n",
       "      <td>0.0</td>\n",
       "    </tr>\n",
       "    <tr>\n",
       "      <th>2221</th>\n",
       "      <td>767</td>\n",
       "      <td>35</td>\n",
       "      <td>6</td>\n",
       "      <td>132253.22</td>\n",
       "      <td>1</td>\n",
       "      <td>1</td>\n",
       "      <td>0</td>\n",
       "      <td>115566.57</td>\n",
       "      <td>0.0</td>\n",
       "      <td>1.0</td>\n",
       "      <td>0.0</td>\n",
       "    </tr>\n",
       "    <tr>\n",
       "      <th>7686</th>\n",
       "      <td>718</td>\n",
       "      <td>48</td>\n",
       "      <td>9</td>\n",
       "      <td>0.00</td>\n",
       "      <td>2</td>\n",
       "      <td>1</td>\n",
       "      <td>1</td>\n",
       "      <td>72105.63</td>\n",
       "      <td>1.0</td>\n",
       "      <td>0.0</td>\n",
       "      <td>0.0</td>\n",
       "    </tr>\n",
       "    <tr>\n",
       "      <th>9419</th>\n",
       "      <td>686</td>\n",
       "      <td>26</td>\n",
       "      <td>1</td>\n",
       "      <td>57422.62</td>\n",
       "      <td>1</td>\n",
       "      <td>1</td>\n",
       "      <td>1</td>\n",
       "      <td>79189.40</td>\n",
       "      <td>1.0</td>\n",
       "      <td>1.0</td>\n",
       "      <td>0.0</td>\n",
       "    </tr>\n",
       "  </tbody>\n",
       "</table>\n",
       "</div>"
      ],
      "text/plain": [
       "      CreditScore  Age  Tenure    Balance  NumOfProducts  HasCrCard  \\\n",
       "4495          789   32       7   69423.52              1          1   \n",
       "6470          583   41       5   77647.60              1          1   \n",
       "2221          767   35       6  132253.22              1          1   \n",
       "7686          718   48       9       0.00              2          1   \n",
       "9419          686   26       1   57422.62              1          1   \n",
       "\n",
       "      IsActiveMember  EstimatedSalary  Gender_Male  Geography_Germany  \\\n",
       "4495               0        107499.39          0.0                0.0   \n",
       "6470               0        190429.52          0.0                1.0   \n",
       "2221               0        115566.57          0.0                1.0   \n",
       "7686               1         72105.63          1.0                0.0   \n",
       "9419               1         79189.40          1.0                1.0   \n",
       "\n",
       "      Geography_Spain  \n",
       "4495              0.0  \n",
       "6470              0.0  \n",
       "2221              0.0  \n",
       "7686              0.0  \n",
       "9419              0.0  "
      ]
     },
     "execution_count": 33,
     "metadata": {},
     "output_type": "execute_result"
    }
   ],
   "source": [
    "features_train.head()"
   ]
  },
  {
   "attachments": {},
   "cell_type": "markdown",
   "id": "93d5c04c",
   "metadata": {},
   "source": [
    "Тем же энекодером закодируем валидационную и тестовую выборки"
   ]
  },
  {
   "cell_type": "code",
   "execution_count": 34,
   "id": "9da9c26a",
   "metadata": {},
   "outputs": [],
   "source": [
    "features_valid[encoder_ohe.get_feature_names_out()]\\\n",
    "    = encoder_ohe.transform(features_valid[cats])\n",
    "features_valid = features_valid.drop(cats, axis=1)\n",
    "\n",
    "features_test[encoder_ohe.get_feature_names_out()]\\\n",
    "    = encoder_ohe.transform(features_test[cats])\n",
    "features_test = features_test.drop(cats, axis=1)"
   ]
  },
  {
   "attachments": {},
   "cell_type": "markdown",
   "id": "7bfa1a6d",
   "metadata": {},
   "source": [
    "Проверим результат"
   ]
  },
  {
   "cell_type": "code",
   "execution_count": 35,
   "id": "9a3e736d",
   "metadata": {},
   "outputs": [
    {
     "data": {
      "text/html": [
       "<div>\n",
       "<style scoped>\n",
       "    .dataframe tbody tr th:only-of-type {\n",
       "        vertical-align: middle;\n",
       "    }\n",
       "\n",
       "    .dataframe tbody tr th {\n",
       "        vertical-align: top;\n",
       "    }\n",
       "\n",
       "    .dataframe thead th {\n",
       "        text-align: right;\n",
       "    }\n",
       "</style>\n",
       "<table border=\"1\" class=\"dataframe\">\n",
       "  <thead>\n",
       "    <tr style=\"text-align: right;\">\n",
       "      <th></th>\n",
       "      <th>CreditScore</th>\n",
       "      <th>Age</th>\n",
       "      <th>Tenure</th>\n",
       "      <th>Balance</th>\n",
       "      <th>NumOfProducts</th>\n",
       "      <th>HasCrCard</th>\n",
       "      <th>IsActiveMember</th>\n",
       "      <th>EstimatedSalary</th>\n",
       "      <th>Gender_Male</th>\n",
       "      <th>Geography_Germany</th>\n",
       "      <th>Geography_Spain</th>\n",
       "    </tr>\n",
       "  </thead>\n",
       "  <tbody>\n",
       "    <tr>\n",
       "      <th>7857</th>\n",
       "      <td>850</td>\n",
       "      <td>27</td>\n",
       "      <td>6</td>\n",
       "      <td>96654.72</td>\n",
       "      <td>2</td>\n",
       "      <td>0</td>\n",
       "      <td>0</td>\n",
       "      <td>152740.16</td>\n",
       "      <td>1.0</td>\n",
       "      <td>0.0</td>\n",
       "      <td>0.0</td>\n",
       "    </tr>\n",
       "    <tr>\n",
       "      <th>9924</th>\n",
       "      <td>632</td>\n",
       "      <td>50</td>\n",
       "      <td>5</td>\n",
       "      <td>107959.39</td>\n",
       "      <td>1</td>\n",
       "      <td>1</td>\n",
       "      <td>1</td>\n",
       "      <td>6985.34</td>\n",
       "      <td>0.0</td>\n",
       "      <td>1.0</td>\n",
       "      <td>0.0</td>\n",
       "    </tr>\n",
       "    <tr>\n",
       "      <th>3087</th>\n",
       "      <td>439</td>\n",
       "      <td>36</td>\n",
       "      <td>2</td>\n",
       "      <td>165536.28</td>\n",
       "      <td>2</td>\n",
       "      <td>1</td>\n",
       "      <td>1</td>\n",
       "      <td>123956.83</td>\n",
       "      <td>1.0</td>\n",
       "      <td>0.0</td>\n",
       "      <td>0.0</td>\n",
       "    </tr>\n",
       "    <tr>\n",
       "      <th>3513</th>\n",
       "      <td>790</td>\n",
       "      <td>33</td>\n",
       "      <td>10</td>\n",
       "      <td>135120.72</td>\n",
       "      <td>1</td>\n",
       "      <td>0</td>\n",
       "      <td>0</td>\n",
       "      <td>195204.99</td>\n",
       "      <td>0.0</td>\n",
       "      <td>0.0</td>\n",
       "      <td>0.0</td>\n",
       "    </tr>\n",
       "    <tr>\n",
       "      <th>2105</th>\n",
       "      <td>492</td>\n",
       "      <td>31</td>\n",
       "      <td>7</td>\n",
       "      <td>0.00</td>\n",
       "      <td>2</td>\n",
       "      <td>1</td>\n",
       "      <td>1</td>\n",
       "      <td>49463.44</td>\n",
       "      <td>0.0</td>\n",
       "      <td>0.0</td>\n",
       "      <td>0.0</td>\n",
       "    </tr>\n",
       "  </tbody>\n",
       "</table>\n",
       "</div>"
      ],
      "text/plain": [
       "      CreditScore  Age  Tenure    Balance  NumOfProducts  HasCrCard  \\\n",
       "7857          850   27       6   96654.72              2          0   \n",
       "9924          632   50       5  107959.39              1          1   \n",
       "3087          439   36       2  165536.28              2          1   \n",
       "3513          790   33      10  135120.72              1          0   \n",
       "2105          492   31       7       0.00              2          1   \n",
       "\n",
       "      IsActiveMember  EstimatedSalary  Gender_Male  Geography_Germany  \\\n",
       "7857               0        152740.16          1.0                0.0   \n",
       "9924               1          6985.34          0.0                1.0   \n",
       "3087               1        123956.83          1.0                0.0   \n",
       "3513               0        195204.99          0.0                0.0   \n",
       "2105               1         49463.44          0.0                0.0   \n",
       "\n",
       "      Geography_Spain  \n",
       "7857              0.0  \n",
       "9924              0.0  \n",
       "3087              0.0  \n",
       "3513              0.0  \n",
       "2105              0.0  "
      ]
     },
     "execution_count": 35,
     "metadata": {},
     "output_type": "execute_result"
    }
   ],
   "source": [
    "features_valid.head()"
   ]
  },
  {
   "cell_type": "code",
   "execution_count": 53,
   "id": "8143ec9d",
   "metadata": {},
   "outputs": [
    {
     "data": {
      "text/html": [
       "<div>\n",
       "<style scoped>\n",
       "    .dataframe tbody tr th:only-of-type {\n",
       "        vertical-align: middle;\n",
       "    }\n",
       "\n",
       "    .dataframe tbody tr th {\n",
       "        vertical-align: top;\n",
       "    }\n",
       "\n",
       "    .dataframe thead th {\n",
       "        text-align: right;\n",
       "    }\n",
       "</style>\n",
       "<table border=\"1\" class=\"dataframe\">\n",
       "  <thead>\n",
       "    <tr style=\"text-align: right;\">\n",
       "      <th></th>\n",
       "      <th>CreditScore</th>\n",
       "      <th>Age</th>\n",
       "      <th>Tenure</th>\n",
       "      <th>Balance</th>\n",
       "      <th>NumOfProducts</th>\n",
       "      <th>HasCrCard</th>\n",
       "      <th>IsActiveMember</th>\n",
       "      <th>EstimatedSalary</th>\n",
       "      <th>Gender_Male</th>\n",
       "      <th>Geography_Germany</th>\n",
       "      <th>Geography_Spain</th>\n",
       "    </tr>\n",
       "  </thead>\n",
       "  <tbody>\n",
       "    <tr>\n",
       "      <th>9953</th>\n",
       "      <td>-1.050084</td>\n",
       "      <td>0.751753</td>\n",
       "      <td>-1.016183</td>\n",
       "      <td>-1.225276</td>\n",
       "      <td>0.830175</td>\n",
       "      <td>1</td>\n",
       "      <td>1</td>\n",
       "      <td>-0.049260</td>\n",
       "      <td>1.0</td>\n",
       "      <td>0.0</td>\n",
       "      <td>0.0</td>\n",
       "    </tr>\n",
       "    <tr>\n",
       "      <th>3850</th>\n",
       "      <td>0.296317</td>\n",
       "      <td>-0.479077</td>\n",
       "      <td>-0.673341</td>\n",
       "      <td>1.067533</td>\n",
       "      <td>-0.912060</td>\n",
       "      <td>1</td>\n",
       "      <td>0</td>\n",
       "      <td>-0.582541</td>\n",
       "      <td>1.0</td>\n",
       "      <td>0.0</td>\n",
       "      <td>0.0</td>\n",
       "    </tr>\n",
       "    <tr>\n",
       "      <th>4962</th>\n",
       "      <td>-1.246866</td>\n",
       "      <td>0.278357</td>\n",
       "      <td>-1.016183</td>\n",
       "      <td>-1.225276</td>\n",
       "      <td>0.830175</td>\n",
       "      <td>0</td>\n",
       "      <td>1</td>\n",
       "      <td>-0.163139</td>\n",
       "      <td>0.0</td>\n",
       "      <td>0.0</td>\n",
       "      <td>0.0</td>\n",
       "    </tr>\n",
       "    <tr>\n",
       "      <th>3886</th>\n",
       "      <td>0.607025</td>\n",
       "      <td>-0.479077</td>\n",
       "      <td>1.040868</td>\n",
       "      <td>1.140183</td>\n",
       "      <td>0.830175</td>\n",
       "      <td>0</td>\n",
       "      <td>1</td>\n",
       "      <td>-1.717256</td>\n",
       "      <td>1.0</td>\n",
       "      <td>1.0</td>\n",
       "      <td>0.0</td>\n",
       "    </tr>\n",
       "    <tr>\n",
       "      <th>5437</th>\n",
       "      <td>-1.122583</td>\n",
       "      <td>-0.857794</td>\n",
       "      <td>0.355184</td>\n",
       "      <td>-0.049517</td>\n",
       "      <td>-0.912060</td>\n",
       "      <td>1</td>\n",
       "      <td>1</td>\n",
       "      <td>1.341709</td>\n",
       "      <td>1.0</td>\n",
       "      <td>1.0</td>\n",
       "      <td>0.0</td>\n",
       "    </tr>\n",
       "  </tbody>\n",
       "</table>\n",
       "</div>"
      ],
      "text/plain": [
       "      CreditScore       Age    Tenure   Balance  NumOfProducts  HasCrCard  \\\n",
       "9953    -1.050084  0.751753 -1.016183 -1.225276       0.830175          1   \n",
       "3850     0.296317 -0.479077 -0.673341  1.067533      -0.912060          1   \n",
       "4962    -1.246866  0.278357 -1.016183 -1.225276       0.830175          0   \n",
       "3886     0.607025 -0.479077  1.040868  1.140183       0.830175          0   \n",
       "5437    -1.122583 -0.857794  0.355184 -0.049517      -0.912060          1   \n",
       "\n",
       "      IsActiveMember  EstimatedSalary  Gender_Male  Geography_Germany  \\\n",
       "9953               1        -0.049260          1.0                0.0   \n",
       "3850               0        -0.582541          1.0                0.0   \n",
       "4962               1        -0.163139          0.0                0.0   \n",
       "3886               1        -1.717256          1.0                1.0   \n",
       "5437               1         1.341709          1.0                1.0   \n",
       "\n",
       "      Geography_Spain  \n",
       "9953              0.0  \n",
       "3850              0.0  \n",
       "4962              0.0  \n",
       "3886              0.0  \n",
       "5437              0.0  "
      ]
     },
     "execution_count": 53,
     "metadata": {},
     "output_type": "execute_result"
    }
   ],
   "source": [
    "features_test.head()"
   ]
  },
  {
   "attachments": {},
   "cell_type": "markdown",
   "id": "e15d4764-4341-477f-8c89-a58ca940b499",
   "metadata": {},
   "source": [
    "Стандартизируем значения числовых признаков:  \n",
    "`CreditScore`  \n",
    "`Age`  \n",
    "`Balance`  \n",
    "`Tenure`  \n",
    "`EstimatedSalary`  \n",
    "`NumOfProducts`"
   ]
  },
  {
   "cell_type": "code",
   "execution_count": 54,
   "id": "24aecf02-7d48-406c-9f25-d2d4d08ba64c",
   "metadata": {},
   "outputs": [],
   "source": [
    "scaler = StandardScaler()\n",
    "nums = [\n",
    "    'CreditScore', \n",
    "    'Age', \n",
    "    'Balance',\n",
    "    'Tenure', \n",
    "    'EstimatedSalary', \n",
    "    'NumOfProducts'\n",
    "]\n",
    "\n",
    "features_train[nums] = scaler.fit_transform(features_train[nums])\n",
    "features_valid[nums] = scaler.fit_transform(features_valid[nums])\n",
    "features_test[nums] = scaler.fit_transform(features_test[nums])"
   ]
  },
  {
   "cell_type": "code",
   "execution_count": 55,
   "id": "7eb964c8",
   "metadata": {},
   "outputs": [
    {
     "data": {
      "text/html": [
       "<div>\n",
       "<style scoped>\n",
       "    .dataframe tbody tr th:only-of-type {\n",
       "        vertical-align: middle;\n",
       "    }\n",
       "\n",
       "    .dataframe tbody tr th {\n",
       "        vertical-align: top;\n",
       "    }\n",
       "\n",
       "    .dataframe thead th {\n",
       "        text-align: right;\n",
       "    }\n",
       "</style>\n",
       "<table border=\"1\" class=\"dataframe\">\n",
       "  <thead>\n",
       "    <tr style=\"text-align: right;\">\n",
       "      <th></th>\n",
       "      <th>CreditScore</th>\n",
       "      <th>Age</th>\n",
       "      <th>Tenure</th>\n",
       "      <th>Balance</th>\n",
       "      <th>NumOfProducts</th>\n",
       "      <th>HasCrCard</th>\n",
       "      <th>IsActiveMember</th>\n",
       "      <th>EstimatedSalary</th>\n",
       "      <th>Gender_Male</th>\n",
       "      <th>Geography_Germany</th>\n",
       "      <th>Geography_Spain</th>\n",
       "    </tr>\n",
       "  </thead>\n",
       "  <tbody>\n",
       "    <tr>\n",
       "      <th>4495</th>\n",
       "      <td>1.427934</td>\n",
       "      <td>-0.656100</td>\n",
       "      <td>0.681651</td>\n",
       "      <td>-0.113714</td>\n",
       "      <td>-0.905397</td>\n",
       "      <td>1</td>\n",
       "      <td>0</td>\n",
       "      <td>0.134255</td>\n",
       "      <td>0.0</td>\n",
       "      <td>0.0</td>\n",
       "      <td>0.0</td>\n",
       "    </tr>\n",
       "    <tr>\n",
       "      <th>6470</th>\n",
       "      <td>-0.705851</td>\n",
       "      <td>0.198238</td>\n",
       "      <td>-0.014444</td>\n",
       "      <td>0.018224</td>\n",
       "      <td>-0.905397</td>\n",
       "      <td>1</td>\n",
       "      <td>0</td>\n",
       "      <td>1.572963</td>\n",
       "      <td>0.0</td>\n",
       "      <td>1.0</td>\n",
       "      <td>0.0</td>\n",
       "    </tr>\n",
       "    <tr>\n",
       "      <th>2221</th>\n",
       "      <td>1.200054</td>\n",
       "      <td>-0.371320</td>\n",
       "      <td>0.333604</td>\n",
       "      <td>0.894255</td>\n",
       "      <td>-0.905397</td>\n",
       "      <td>1</td>\n",
       "      <td>0</td>\n",
       "      <td>0.274208</td>\n",
       "      <td>0.0</td>\n",
       "      <td>1.0</td>\n",
       "      <td>0.0</td>\n",
       "    </tr>\n",
       "    <tr>\n",
       "      <th>7686</th>\n",
       "      <td>0.692503</td>\n",
       "      <td>0.862723</td>\n",
       "      <td>1.377746</td>\n",
       "      <td>-1.227467</td>\n",
       "      <td>0.805051</td>\n",
       "      <td>1</td>\n",
       "      <td>1</td>\n",
       "      <td>-0.479772</td>\n",
       "      <td>1.0</td>\n",
       "      <td>0.0</td>\n",
       "      <td>0.0</td>\n",
       "    </tr>\n",
       "    <tr>\n",
       "      <th>9419</th>\n",
       "      <td>0.361041</td>\n",
       "      <td>-1.225658</td>\n",
       "      <td>-1.406634</td>\n",
       "      <td>-0.306243</td>\n",
       "      <td>-0.905397</td>\n",
       "      <td>1</td>\n",
       "      <td>1</td>\n",
       "      <td>-0.356880</td>\n",
       "      <td>1.0</td>\n",
       "      <td>1.0</td>\n",
       "      <td>0.0</td>\n",
       "    </tr>\n",
       "  </tbody>\n",
       "</table>\n",
       "</div>"
      ],
      "text/plain": [
       "      CreditScore       Age    Tenure   Balance  NumOfProducts  HasCrCard  \\\n",
       "4495     1.427934 -0.656100  0.681651 -0.113714      -0.905397          1   \n",
       "6470    -0.705851  0.198238 -0.014444  0.018224      -0.905397          1   \n",
       "2221     1.200054 -0.371320  0.333604  0.894255      -0.905397          1   \n",
       "7686     0.692503  0.862723  1.377746 -1.227467       0.805051          1   \n",
       "9419     0.361041 -1.225658 -1.406634 -0.306243      -0.905397          1   \n",
       "\n",
       "      IsActiveMember  EstimatedSalary  Gender_Male  Geography_Germany  \\\n",
       "4495               0         0.134255          0.0                0.0   \n",
       "6470               0         1.572963          0.0                1.0   \n",
       "2221               0         0.274208          0.0                1.0   \n",
       "7686               1        -0.479772          1.0                0.0   \n",
       "9419               1        -0.356880          1.0                1.0   \n",
       "\n",
       "      Geography_Spain  \n",
       "4495              0.0  \n",
       "6470              0.0  \n",
       "2221              0.0  \n",
       "7686              0.0  \n",
       "9419              0.0  "
      ]
     },
     "execution_count": 55,
     "metadata": {},
     "output_type": "execute_result"
    }
   ],
   "source": [
    "features_train.head()"
   ]
  },
  {
   "attachments": {},
   "cell_type": "markdown",
   "id": "d1cb1363-18ef-4d29-a529-4813e4ebfd5f",
   "metadata": {},
   "source": [
    "Там где возможно заменим типы данных на более лёгкие, используем метод downcast"
   ]
  },
  {
   "cell_type": "code",
   "execution_count": 56,
   "id": "21e4cae6-dea4-439c-95c3-bba6fa63cab4",
   "metadata": {},
   "outputs": [
    {
     "name": "stdout",
     "output_type": "stream",
     "text": [
      "<class 'pandas.core.frame.DataFrame'>\n",
      "Int64Index: 6000 entries, 4495 to 7029\n",
      "Data columns (total 11 columns):\n",
      " #   Column             Non-Null Count  Dtype  \n",
      "---  ------             --------------  -----  \n",
      " 0   CreditScore        6000 non-null   float32\n",
      " 1   Age                6000 non-null   float32\n",
      " 2   Tenure             6000 non-null   float32\n",
      " 3   Balance            6000 non-null   float32\n",
      " 4   NumOfProducts      6000 non-null   float32\n",
      " 5   HasCrCard          6000 non-null   int8   \n",
      " 6   IsActiveMember     6000 non-null   int8   \n",
      " 7   EstimatedSalary    6000 non-null   float32\n",
      " 8   Gender_Male        6000 non-null   int8   \n",
      " 9   Geography_Germany  6000 non-null   int8   \n",
      " 10  Geography_Spain    6000 non-null   int8   \n",
      "dtypes: float32(6), int8(5)\n",
      "memory usage: 216.8 KB\n"
     ]
    }
   ],
   "source": [
    "feature_train = features_train.apply(pd.to_numeric, downcast='integer')\n",
    "feature_train = feature_train.apply(pd.to_numeric, downcast='float')\n",
    "\n",
    "feature_valid = features_valid.apply(pd.to_numeric, downcast='integer')\n",
    "feature_valid = feature_valid.apply(pd.to_numeric, downcast='float')\n",
    "\n",
    "features_test = features_test.apply(pd.to_numeric, downcast='integer')\n",
    "features_test = features_test.apply(pd.to_numeric, downcast='float')\n",
    "\n",
    "feature_train.info()\n"
   ]
  },
  {
   "attachments": {},
   "cell_type": "markdown",
   "id": "0c449e7d-b5fb-499e-8ee3-37a96e43627c",
   "metadata": {},
   "source": [
    "\n",
    "\n",
    "**В результате подготовки данных:**\n",
    "   - были удалены признаки с излишней информацией; \n",
    "   - данные разделены на выборки;  \n",
    "   - к категориальным признакам примененён метод OHE;\n",
    "   - количественные признакми стандартизированы;\n",
    "   - типы данных заменены на более лёгкие."
   ]
  },
  {
   "attachments": {},
   "cell_type": "markdown",
   "id": "e7458945",
   "metadata": {},
   "source": [
    "Изучим баланс классов"
   ]
  },
  {
   "cell_type": "code",
   "execution_count": 57,
   "id": "bb7c2ff9-96ec-4f3a-a177-f51e4bdf3483",
   "metadata": {},
   "outputs": [
    {
     "name": "stdout",
     "output_type": "stream",
     "text": [
      "0    0.798833\n",
      "1    0.201167\n",
      "Name: Exited, dtype: float64\n"
     ]
    }
   ],
   "source": [
    "weights = target_train.value_counts(normalize=True)\n",
    "print(weights)\n"
   ]
  },
  {
   "attachments": {},
   "cell_type": "markdown",
   "id": "ad6baac5",
   "metadata": {},
   "source": [
    "Классы целевого признака не сбалансированы, необходимо это исправить.  \n",
    "Прежде чем бороться с дисбалансом найдём лучшие параметры модели на несбалансированной выборке, будем их использовать в качестве ориентира при оценке качества балансировки классов.  \n",
    "Основная цель задачи предсказать отток клиентов, наиболее важная метрика для нас recall, оптимизируем по AUC-ROC."
   ]
  },
  {
   "attachments": {},
   "cell_type": "markdown",
   "id": "e0e2331d-f7eb-4fc2-99fd-147a4cba6f7d",
   "metadata": {},
   "source": [
    "## Обучение моделей"
   ]
  },
  {
   "attachments": {},
   "cell_type": "markdown",
   "id": "280aafdd-3248-415f-a6ed-169325f6c587",
   "metadata": {
    "tags": []
   },
   "source": [
    "### Функция для оптимизации параметров классических моделей"
   ]
  },
  {
   "cell_type": "code",
   "execution_count": 38,
   "id": "9adcd51d-c967-4bd1-a69b-51d227cb7797",
   "metadata": {},
   "outputs": [],
   "source": [
    "def optimizer(X_t, y_t, X_v, y_v, max_depth, n_estimators, random_state, balance=None):\n",
    "    \"\"\"\n",
    "    Функция обучает логистическую регрессию, решающее дерево, случайный лес и выводит их f1 и auc_roc.\n",
    "\n",
    "    Аргументы:\n",
    "    X_t - признаки обучающей выборки;\n",
    "    y_t - целевой признак обучающей выборки;\n",
    "    X_v - признаки валидационной выборки;\n",
    "    y_v - целевой признак валидационной выборки;\n",
    "    max_depth - максимальная глубина дерева (для DecisionTreeClassifier и RandomForestClassifier);\n",
    "    n_estimators - количество деревьев (для RandomForestClassifier);\n",
    "    random_state - параметр для воспроизводимости результатов;\n",
    "    balance - параметр для балансировки классов (по умолчанию None).\n",
    "\n",
    "    Результаты:\n",
    "    best_model_rf - лучшая модель с максимальной метрикой f1.\n",
    "    \"\"\"\n",
    "    best_f1_dt, best_auc_roc_dt, best_model_dt = 0, 0, None\n",
    "    best_f1_rf, best_auc_roc_rf, best_model_rf = 0, 0, None\n",
    "\n",
    "    model_cb = CatBoostClassifier(verbose=0, random_state=random_state)\n",
    "    model_cb.fit(X_t, y_t)\n",
    "    y_p = model_cb.predict(X_v)\n",
    "    f1_cb = f1_score(y_v, y_p)\n",
    "    auc_roc_cb = roc_auc_score(target_valid, model_cb.predict_proba(X_v)[:, 1])\n",
    "\n",
    "    model_lr = LogisticRegression(\n",
    "        random_state=random_state, solver='liblinear', class_weight=balance)\n",
    "    model_lr.fit(X_t, y_t)\n",
    "    y_p = model_lr.predict(X_v)\n",
    "    f1_lr = f1_score(y_v, y_p)\n",
    "    auc_roc_lr = roc_auc_score(target_valid, model_lr.predict_proba(X_v)[:, 1])\n",
    "\n",
    "    for depth in range(1, max_depth, 1):\n",
    "        model_dt = DecisionTreeClassifier(\n",
    "            random_state=random_state, max_depth=depth, class_weight=balance)\n",
    "        model_dt.fit(X_t, y_t)\n",
    "        y_p = model_dt.predict(X_v)\n",
    "        f1_dt = f1_score(y_v, y_p)\n",
    "        if f1_dt > best_f1_dt:\n",
    "            auc_roc_dt = roc_auc_score(\n",
    "                target_valid, model_dt.predict_proba(X_v)[:, 1])\n",
    "            best_f1_dt, best_model_dt, best_auc_roc_dt = f1_dt, model_dt, auc_roc_dt\n",
    "\n",
    "        for n_est in range(1, n_estimators, 1):\n",
    "            model_rf = RandomForestClassifier(\n",
    "                random_state=random_state, n_estimators=n_est, max_depth=depth, class_weight=balance)\n",
    "            model_rf.fit(X_t, y_t)\n",
    "            y_p = model_rf.predict(X_v)\n",
    "            f1_rf = f1_score(y_v, y_p)\n",
    "            if f1_rf > best_f1_rf:\n",
    "                auc_roc_rf = roc_auc_score(\n",
    "                    target_valid, model_rf.predict_proba(X_v)[:, 1])\n",
    "                best_f1_rf, best_model_rf, best_auc_roc_rf = f1_rf, model_rf, auc_roc_rf\n",
    "\n",
    "\n",
    "    results = {\n",
    "        'model_cb': {\n",
    "            'best_f1': f1_cb,\n",
    "            'best_auc_roc': auc_roc_cb,\n",
    "            'model' : model_cb\n",
    "        },\n",
    "        'model_lr': {\n",
    "            'best_f1': f1_lr,\n",
    "            'best_auc_roc': auc_roc_lr,\n",
    "            'model' : model_lr\n",
    "        },\n",
    "        'model_dt': {\n",
    "            'best_f1': best_f1_dt,\n",
    "            'best_auc_roc': best_auc_roc_dt,\n",
    "            'model' : model_dt\n",
    "        },\n",
    "        'model_rf': {\n",
    "            'best_f1': best_f1_rf,\n",
    "            'best_auc_roc': best_auc_roc_rf,\n",
    "            'model' : model_rf\n",
    "        }\n",
    "    }\n",
    "\n",
    "    print(pd.DataFrame.from_dict(results, orient='index'))\n",
    "\n",
    "    best_model = max(results, key=lambda x: results[x]['best_auc_roc'])\n",
    "\n",
    "    return results[best_model]['model']\n",
    "\n"
   ]
  },
  {
   "cell_type": "code",
   "execution_count": 39,
   "id": "c712ccfd",
   "metadata": {},
   "outputs": [
    {
     "name": "stdout",
     "output_type": "stream",
     "text": [
      "           best_f1  best_auc_roc  \\\n",
      "model_cb  0.549849      0.846332   \n",
      "model_lr  0.301075      0.763872   \n",
      "model_dt  0.514200      0.798354   \n",
      "model_rf  0.559398      0.821798   \n",
      "\n",
      "                                                      model  \n",
      "model_cb  <catboost.core.CatBoostClassifier object at 0x...  \n",
      "model_lr  LogisticRegression(random_state=1, solver='lib...  \n",
      "model_dt  DecisionTreeClassifier(max_depth=29, random_st...  \n",
      "model_rf  (DecisionTreeClassifier(max_depth=29, max_feat...  \n"
     ]
    },
    {
     "data": {
      "text/plain": [
       "<catboost.core.CatBoostClassifier at 0x17c585b5370>"
      ]
     },
     "execution_count": 39,
     "metadata": {},
     "output_type": "execute_result"
    }
   ],
   "source": [
    "optimizer(feature_train, target_train, feature_valid, target_valid, 30, 50, 1)\n"
   ]
  },
  {
   "attachments": {},
   "cell_type": "markdown",
   "id": "e4f6dfe5-91d3-43b3-84c5-af7beef60b24",
   "metadata": {},
   "source": [
    "Лучший показатель у модели CatBoostClassifier, худший у LogisticRegression  "
   ]
  },
  {
   "attachments": {},
   "cell_type": "markdown",
   "id": "ddc9f4e0-646b-4706-8dcc-cd731181660b",
   "metadata": {},
   "source": [
    "## Борьба с дисбалансом"
   ]
  },
  {
   "attachments": {},
   "cell_type": "markdown",
   "id": "acb56cbe-8da2-447e-b902-d173f1c65c9a",
   "metadata": {},
   "source": [
    "### Балансирование взвешиванием классов"
   ]
  },
  {
   "cell_type": "code",
   "execution_count": 40,
   "id": "ef236ae7-dfd8-4dc2-8884-fe10d1802e35",
   "metadata": {},
   "outputs": [
    {
     "name": "stdout",
     "output_type": "stream",
     "text": [
      "           best_f1  best_auc_roc  \\\n",
      "model_cb  0.549849      0.846332   \n",
      "model_lr  0.496991      0.763609   \n",
      "model_dt  0.570297      0.778068   \n",
      "model_rf  0.621908      0.839515   \n",
      "\n",
      "                                                      model  \n",
      "model_cb  <catboost.core.CatBoostClassifier object at 0x...  \n",
      "model_lr  LogisticRegression(class_weight='balanced', ra...  \n",
      "model_dt  DecisionTreeClassifier(class_weight='balanced'...  \n",
      "model_rf  (DecisionTreeClassifier(max_depth=29, max_feat...  \n"
     ]
    }
   ],
   "source": [
    "model_weighted = optimizer(feature_train, target_train,\n",
    "                           feature_valid, target_valid, 30, 50, 1, 'balanced')\n"
   ]
  },
  {
   "attachments": {},
   "cell_type": "markdown",
   "id": "0ecd0ece",
   "metadata": {},
   "source": [
    "Лучший результат у CatBoostClassifier, причём он не отличается от результата без взвешивания, попробуем также другие варианты балансировки."
   ]
  },
  {
   "attachments": {},
   "cell_type": "markdown",
   "id": "88b56606-eb6b-4242-a7b8-5e4a45801094",
   "metadata": {},
   "source": [
    "### Балансирование методом downsample"
   ]
  },
  {
   "attachments": {},
   "cell_type": "markdown",
   "id": "1b754caf-910b-4add-9875-5eb058c31ff1",
   "metadata": {},
   "source": [
    "Сбалансируем выборку."
   ]
  },
  {
   "cell_type": "code",
   "execution_count": 41,
   "id": "dc8d9810",
   "metadata": {},
   "outputs": [],
   "source": [
    "rus = RandomUnderSampler(random_state=1)\n",
    "feature_train_down, target_train_down = rus.fit_resample(\n",
    "    feature_train, target_train)\n"
   ]
  },
  {
   "cell_type": "code",
   "execution_count": 42,
   "id": "cefa6e21",
   "metadata": {},
   "outputs": [
    {
     "name": "stdout",
     "output_type": "stream",
     "text": [
      "0    0.5\n",
      "1    0.5\n",
      "Name: Exited, dtype: float64\n"
     ]
    }
   ],
   "source": [
    "print(target_train_down.value_counts(normalize=True))\n"
   ]
  },
  {
   "attachments": {},
   "cell_type": "markdown",
   "id": "4d4f1c6f-fdc1-445b-832c-07b910440d5f",
   "metadata": {},
   "source": [
    "Обучим модель на выборке"
   ]
  },
  {
   "cell_type": "code",
   "execution_count": 43,
   "id": "3ae6487c",
   "metadata": {},
   "outputs": [
    {
     "name": "stdout",
     "output_type": "stream",
     "text": [
      "           best_f1  best_auc_roc  \\\n",
      "model_cb  0.577143      0.843515   \n",
      "model_lr  0.497427      0.762480   \n",
      "model_dt  0.563536      0.815538   \n",
      "model_rf  0.590420      0.831662   \n",
      "\n",
      "                                                      model  \n",
      "model_cb  <catboost.core.CatBoostClassifier object at 0x...  \n",
      "model_lr  LogisticRegression(class_weight='balanced', ra...  \n",
      "model_dt  DecisionTreeClassifier(class_weight='balanced'...  \n",
      "model_rf  (DecisionTreeClassifier(max_depth=29, max_feat...  \n"
     ]
    }
   ],
   "source": [
    "model_down = optimizer(feature_train_down, target_train_down,\n",
    "                       feature_valid, target_valid, 30, 50, 1, 'balanced')\n"
   ]
  },
  {
   "attachments": {},
   "cell_type": "markdown",
   "id": "acceae6f",
   "metadata": {},
   "source": [
    "Метод балансировки downsample показал результат не лучше, чем взвешивание классов. Случайный лес также в лидерах и по f1 и по auc_roc"
   ]
  },
  {
   "attachments": {},
   "cell_type": "markdown",
   "id": "9aad876a-cf7c-4116-9874-42abf3965f86",
   "metadata": {},
   "source": [
    "### Балансирование методом upsample"
   ]
  },
  {
   "attachments": {},
   "cell_type": "markdown",
   "id": "7526db1b-b1a4-494c-b72d-2ab6fd7013fc",
   "metadata": {},
   "source": [
    "Сбалансируем выборку"
   ]
  },
  {
   "cell_type": "code",
   "execution_count": 44,
   "id": "763cca35",
   "metadata": {},
   "outputs": [],
   "source": [
    "oversample = SMOTE(random_state=1)\n",
    "feature_train_up, target_train_up = oversample.fit_resample(\n",
    "    feature_train, target_train)\n"
   ]
  },
  {
   "attachments": {},
   "cell_type": "markdown",
   "id": "b2205de3",
   "metadata": {},
   "source": [
    "Проверим баланс классов"
   ]
  },
  {
   "cell_type": "code",
   "execution_count": 45,
   "id": "e884690e-0bed-420e-bf50-85044fcc4a03",
   "metadata": {},
   "outputs": [
    {
     "name": "stdout",
     "output_type": "stream",
     "text": [
      "0    0.5\n",
      "1    0.5\n",
      "Name: Exited, dtype: float64\n"
     ]
    }
   ],
   "source": [
    "print(target_train_up.value_counts(normalize=True))\n"
   ]
  },
  {
   "attachments": {},
   "cell_type": "markdown",
   "id": "61bd8241-9a69-46a7-b9f7-cc92e5e578f5",
   "metadata": {},
   "source": [
    "Обучим модель на выборке"
   ]
  },
  {
   "cell_type": "code",
   "execution_count": 46,
   "id": "19c67945",
   "metadata": {
    "scrolled": true
   },
   "outputs": [
    {
     "name": "stdout",
     "output_type": "stream",
     "text": [
      "           best_f1  best_auc_roc  \\\n",
      "model_cb  0.393970      0.807306   \n",
      "model_lr  0.485114      0.762788   \n",
      "model_dt  0.500000      0.734887   \n",
      "model_rf  0.601985      0.812132   \n",
      "\n",
      "                                                      model  \n",
      "model_cb  <catboost.core.CatBoostClassifier object at 0x...  \n",
      "model_lr  LogisticRegression(class_weight='balanced', ra...  \n",
      "model_dt  DecisionTreeClassifier(class_weight='balanced'...  \n",
      "model_rf  (DecisionTreeClassifier(max_depth=29, max_feat...  \n"
     ]
    }
   ],
   "source": [
    "model_up = optimizer(feature_train_up, target_train_up,\n",
    "                     feature_valid, target_valid, 30, 50, 1, 'balanced')\n"
   ]
  },
  {
   "attachments": {},
   "cell_type": "markdown",
   "id": "65d04a01",
   "metadata": {},
   "source": [
    "Метод балансировки upsample также не показал результат лучше, чем взвешивание классов."
   ]
  },
  {
   "attachments": {},
   "cell_type": "markdown",
   "id": "564b234e-ce0b-4857-a1df-9083d106eceb",
   "metadata": {},
   "source": [
    "**В результате подбора метода балансировки и оптимизации гиперпараметров можно сделать следующие выводы:**\n",
    "- независимо от того сбалансирована ли выборка и независимо от метода балансировки, лучшей из рассмотренных моделей является `CatBoostClassifier`;\n",
    "- модель лучше обучилась на несбалансированной выборке;\n",
    "\n",
    "Результат на валидационной выборке:  \n",
    "    f1 = 0.55  \n",
    "    AUC-ROC = 0.85  \n",
    "\n",
    "Оптимизируем гиперпараметры базовой модели с помощью GridSearchCV. Для кросс-валидации будем использовать выборку до разделения на обучающую и валидационную. Также мы можем пропустить шаг стандартизации числовых признаков и OHE, т.к. это не обязательно для CatBoost"
   ]
  },
  {
   "cell_type": "code",
   "execution_count": 47,
   "id": "fddc2615",
   "metadata": {},
   "outputs": [
    {
     "name": "stdout",
     "output_type": "stream",
     "text": [
      "Best parameters:  {'depth': 4, 'iterations': 200, 'l2_leaf_reg': 2, 'learning_rate': 0.05}\n",
      "Best score:  0.869327653065124\n"
     ]
    }
   ],
   "source": [
    "model_cb = CatBoostClassifier(verbose=0, random_state=1, cat_features=cats)\n",
    "\n",
    "param_grid = {\n",
    "    'learning_rate': [0.01, 0.05, 0.1],\n",
    "    'depth': [3, 4, 5, 6, 7, 8],\n",
    "    'l2_leaf_reg': [1, 2, 3, 4, 5, 6, 7, 8],\n",
    "    'iterations': [50, 100, 200],\n",
    "}\n",
    "\n",
    "grid_search = GridSearchCV(\n",
    "    model_cb, \n",
    "    param_grid, \n",
    "    cv=4, \n",
    "    n_jobs=-1, \n",
    "    scoring='roc_auc'\n",
    ")\n",
    "\n",
    "grid_search.fit(features_train_val, target_train_val)\n",
    "\n",
    "print(\"Best parameters: \", grid_search.best_params_)\n",
    "print(\"Best score: \", grid_search.best_score_)"
   ]
  },
  {
   "attachments": {},
   "cell_type": "markdown",
   "id": "f46e9569",
   "metadata": {},
   "source": [
    "Максимальный `AUC-ROC=0.87` достигнут при  \n",
    "`max_depth` = 4  \n",
    "`l2_leaf_reg` = 2  \n",
    "`learning_rate` = 0.05  \n",
    "`iterations` = 200  "
   ]
  },
  {
   "attachments": {},
   "cell_type": "markdown",
   "id": "0866334a-477b-489f-b7b4-5bc1492c3a9d",
   "metadata": {},
   "source": [
    "## Тестирование модели"
   ]
  },
  {
   "attachments": {},
   "cell_type": "markdown",
   "id": "76c5de75-543d-4930-a3fc-fa890dacd29c",
   "metadata": {},
   "source": [
    "Протестируем лучшую из полученных моделей на тестовой выборке. "
   ]
  },
  {
   "cell_type": "code",
   "execution_count": 48,
   "id": "6825abc5-59fa-4170-91d5-37f0f496b5a9",
   "metadata": {},
   "outputs": [
    {
     "name": "stdout",
     "output_type": "stream",
     "text": [
      "ROC-AUC на тестовой выборке = 0.7263958040363346\n"
     ]
    }
   ],
   "source": [
    "model = grid_search.best_estimator_\n",
    "target_predicted = model.predict(features_test_cat)\n",
    "roc_auc = roc_auc_score(target_test, target_predicted)\n",
    "print(f\"ROC-AUC на тестовой выборке = {roc_auc}\")\n"
   ]
  },
  {
   "attachments": {},
   "cell_type": "markdown",
   "id": "10d4d39d-7627-4fce-99ae-a2047d0f391b",
   "metadata": {},
   "source": [
    "Модель показала удовлетворительный результат на тестовой выборке. Тест пройден."
   ]
  },
  {
   "attachments": {},
   "cell_type": "markdown",
   "id": "b4342d9e-6fd0-4e6c-91a4-5aafd5447fec",
   "metadata": {},
   "source": [
    "Лучшая модель для решения задачи пронозирования ухода клиента - `CatBoostClassifier` с параметрами:\n",
    "  `max_depth` = 4  \n",
    "  `l2_leaf_reg` = 2  \n",
    "  `learning_rate` = 0.05  \n",
    "  `iterations` = 200  "
   ]
  },
  {
   "attachments": {},
   "cell_type": "markdown",
   "id": "2830cf98",
   "metadata": {},
   "source": [
    "Подберём порог для классификации и посмотрим какой recall мы можем получить.  \n",
    "Взглянем на ROC-кривую."
   ]
  },
  {
   "cell_type": "code",
   "execution_count": 66,
   "id": "6dff678c",
   "metadata": {},
   "outputs": [
    {
     "data": {
      "image/png": "[encoded data removed]",
      "text/plain": [
       "<Figure size 640x480 with 1 Axes>"
      ]
     },
     "metadata": {},
     "output_type": "display_data"
    }
   ],
   "source": [
    "plot_roc_curve(model, features_test_cat, target_test)\n",
    "plt.show()"
   ]
  },
  {
   "attachments": {},
   "cell_type": "markdown",
   "id": "32fe8f9a",
   "metadata": {},
   "source": [
    "Подберём оптимальное пороговое значение"
   ]
  },
  {
   "cell_type": "code",
   "execution_count": 68,
   "id": "b6d48115",
   "metadata": {},
   "outputs": [
    {
     "name": "stdout",
     "output_type": "stream",
     "text": [
      "Оптимальное пороговое значение: 0.19067794856748335\n"
     ]
    }
   ],
   "source": [
    "target_predicted_probabilities = model.predict_proba(features_test_cat)[:, 1]\n",
    "fpr, tpr, thresholds = roc_curve(target_test, target_predicted_probabilities)\n",
    "\n",
    "# Находим индекс точки на графике, ближайшей к верхнему левому углу\n",
    "index = np.argmax(np.abs(tpr - fpr))\n",
    "# Определяем пороговое значение, соответствующее этой точке\n",
    "threshold = thresholds[index]\n",
    "\n",
    "print(\"Оптимальное пороговое значение:\", threshold)"
   ]
  },
  {
   "attachments": {},
   "cell_type": "markdown",
   "id": "9e74c8e2",
   "metadata": {},
   "source": [
    "Оценим recall при оптимальном пороговом значении"
   ]
  },
  {
   "cell_type": "code",
   "execution_count": 69,
   "id": "c70bdee4",
   "metadata": {},
   "outputs": [
    {
     "name": "stdout",
     "output_type": "stream",
     "text": [
      "Recall на тестовой выборке = 0.80\n"
     ]
    }
   ],
   "source": [
    "target_predicted = model.predict_proba(features_test_cat)[:, 1] > threshold\n",
    "recall = recall_score(target_test, target_predicted, pos_label=1)\n",
    "print(f\"Recall на тестовой выборке = {recall:.2f}\")"
   ]
  },
  {
   "attachments": {},
   "cell_type": "markdown",
   "id": "6200c71b",
   "metadata": {},
   "source": [
    "**В процессе работы были проделаны следующие шаги:**\n",
    "  - исходная выборка была подготовлена к работе;\n",
    "  - модель была протестирована на несбалансированных данных;\n",
    "  - модель была обучена на выборках сбаллансированных различными способами;\n",
    "  - в ходе работы была использована функция подбирающая модели и гиперпараметры моделей;\n",
    "  - лучшая модель была апробирована на тестовой выборке;\n",
    "  - подобран threshold для максимизации recall.\n",
    "\n",
    "Полученная модель будет успешно определять клиента банка прежде, чем он откажется от услуг в 80% случаев."
   ]
  }
 ],
 "metadata": {
  "ExecuteTimeLog": [
   {
    "duration": 1038,
    "start_time": "2023-01-11T17:17:00.076Z"
   },
   {
    "duration": 163,
    "start_time": "2023-01-11T17:17:01.117Z"
   },
   {
    "duration": 18,
    "start_time": "2023-01-11T17:17:01.282Z"
   },
   {
    "duration": 22,
    "start_time": "2023-01-11T17:17:01.301Z"
   },
   {
    "duration": 24,
    "start_time": "2023-01-11T17:17:01.325Z"
   },
   {
    "duration": 12,
    "start_time": "2023-01-11T17:17:01.351Z"
   },
   {
    "duration": 39,
    "start_time": "2023-01-11T17:17:01.364Z"
   },
   {
    "duration": 30,
    "start_time": "2023-01-11T17:17:01.405Z"
   },
   {
    "duration": 26,
    "start_time": "2023-01-11T17:17:01.436Z"
   },
   {
    "duration": 17,
    "start_time": "2023-01-11T17:17:01.464Z"
   },
   {
    "duration": 41,
    "start_time": "2023-01-11T17:17:01.483Z"
   },
   {
    "duration": 6,
    "start_time": "2023-01-11T17:17:01.526Z"
   },
   {
    "duration": 15,
    "start_time": "2023-01-11T17:17:01.534Z"
   },
   {
    "duration": 48,
    "start_time": "2023-01-11T17:17:01.553Z"
   },
   {
    "duration": 42,
    "start_time": "2023-01-11T17:17:01.603Z"
   },
   {
    "duration": 198506,
    "start_time": "2023-01-11T17:17:01.647Z"
   },
   {
    "duration": 189691,
    "start_time": "2023-01-11T17:20:20.155Z"
   },
   {
    "duration": 13,
    "start_time": "2023-01-11T17:23:29.847Z"
   },
   {
    "duration": 9,
    "start_time": "2023-01-11T17:23:29.866Z"
   },
   {
    "duration": 104818,
    "start_time": "2023-01-11T17:23:29.876Z"
   },
   {
    "duration": 3,
    "start_time": "2023-01-11T17:25:14.695Z"
   },
   {
    "duration": 29,
    "start_time": "2023-01-11T17:25:14.699Z"
   },
   {
    "duration": 9,
    "start_time": "2023-01-11T17:25:14.730Z"
   },
   {
    "duration": 20,
    "start_time": "2023-01-11T17:25:14.741Z"
   },
   {
    "duration": 282836,
    "start_time": "2023-01-11T17:25:14.763Z"
   },
   {
    "duration": 378,
    "start_time": "2023-01-11T17:29:57.601Z"
   },
   {
    "duration": 10,
    "start_time": "2023-01-11T17:29:57.981Z"
   },
   {
    "duration": 1196,
    "start_time": "2023-01-12T11:01:19.214Z"
   },
   {
    "duration": 7742,
    "start_time": "2023-01-12T11:38:28.077Z"
   },
   {
    "duration": 4,
    "start_time": "2023-01-12T12:08:28.049Z"
   },
   {
    "duration": 2,
    "start_time": "2023-01-12T13:37:55.785Z"
   },
   {
    "duration": 111,
    "start_time": "2023-01-12T13:42:25.636Z"
   },
   {
    "duration": 14,
    "start_time": "2023-01-12T13:42:33.990Z"
   },
   {
    "duration": 13,
    "start_time": "2023-01-12T13:42:38.814Z"
   },
   {
    "duration": 2368,
    "start_time": "2023-01-12T13:42:50.954Z"
   },
   {
    "duration": 5,
    "start_time": "2023-01-12T13:42:53.326Z"
   },
   {
    "duration": 125,
    "start_time": "2023-01-12T13:42:53.333Z"
   },
   {
    "duration": 30,
    "start_time": "2023-01-12T13:42:53.460Z"
   },
   {
    "duration": 14,
    "start_time": "2023-01-12T13:42:53.493Z"
   },
   {
    "duration": 30,
    "start_time": "2023-01-12T13:42:53.509Z"
   },
   {
    "duration": 5,
    "start_time": "2023-01-12T13:42:53.541Z"
   },
   {
    "duration": 16,
    "start_time": "2023-01-12T13:42:53.548Z"
   },
   {
    "duration": 64,
    "start_time": "2023-01-12T13:42:53.565Z"
   },
   {
    "duration": 26,
    "start_time": "2023-01-12T13:42:53.630Z"
   },
   {
    "duration": 6,
    "start_time": "2023-01-12T13:42:53.659Z"
   },
   {
    "duration": 17,
    "start_time": "2023-01-12T13:43:01.242Z"
   },
   {
    "duration": 2291,
    "start_time": "2023-01-12T13:43:21.976Z"
   },
   {
    "duration": 928,
    "start_time": "2023-01-12T13:43:24.270Z"
   },
   {
    "duration": 42,
    "start_time": "2023-01-12T13:43:25.200Z"
   },
   {
    "duration": 20,
    "start_time": "2023-01-12T13:43:25.245Z"
   },
   {
    "duration": 18,
    "start_time": "2023-01-12T13:43:25.267Z"
   },
   {
    "duration": 17,
    "start_time": "2023-01-12T13:43:25.286Z"
   },
   {
    "duration": 30,
    "start_time": "2023-01-12T13:43:25.305Z"
   },
   {
    "duration": 5,
    "start_time": "2023-01-12T13:43:25.337Z"
   },
   {
    "duration": 33,
    "start_time": "2023-01-12T13:43:25.344Z"
   },
   {
    "duration": 23,
    "start_time": "2023-01-12T13:43:25.381Z"
   },
   {
    "duration": 8,
    "start_time": "2023-01-12T13:43:25.405Z"
   },
   {
    "duration": 9,
    "start_time": "2023-01-12T13:43:52.352Z"
   },
   {
    "duration": 130,
    "start_time": "2023-01-12T13:45:31.435Z"
   },
   {
    "duration": 21,
    "start_time": "2023-01-12T13:46:46.641Z"
   },
   {
    "duration": 22,
    "start_time": "2023-01-12T13:48:46.499Z"
   },
   {
    "duration": 51,
    "start_time": "2023-01-12T13:49:32.521Z"
   },
   {
    "duration": 63,
    "start_time": "2023-01-12T13:49:38.122Z"
   },
   {
    "duration": 51,
    "start_time": "2023-01-12T13:49:43.033Z"
   },
   {
    "duration": 7,
    "start_time": "2023-01-12T13:49:47.350Z"
   },
   {
    "duration": 5,
    "start_time": "2023-01-12T13:49:51.652Z"
   },
   {
    "duration": 12,
    "start_time": "2023-01-12T13:50:31.124Z"
   },
   {
    "duration": 14,
    "start_time": "2023-01-12T13:50:48.834Z"
   },
   {
    "duration": 13,
    "start_time": "2023-01-12T13:53:47.714Z"
   },
   {
    "duration": 13,
    "start_time": "2023-01-12T13:54:04.579Z"
   },
   {
    "duration": 18,
    "start_time": "2023-01-12T14:00:49.534Z"
   },
   {
    "duration": 10,
    "start_time": "2023-01-12T14:01:15.667Z"
   },
   {
    "duration": 20,
    "start_time": "2023-01-12T14:01:25.738Z"
   },
   {
    "duration": 12,
    "start_time": "2023-01-12T14:01:48.632Z"
   },
   {
    "duration": 13,
    "start_time": "2023-01-12T14:01:49.643Z"
   },
   {
    "duration": 9,
    "start_time": "2023-01-12T14:04:09.311Z"
   },
   {
    "duration": 13,
    "start_time": "2023-01-12T14:04:52.683Z"
   },
   {
    "duration": 13,
    "start_time": "2023-01-12T14:05:20.134Z"
   },
   {
    "duration": 9,
    "start_time": "2023-01-12T14:05:35.662Z"
   },
   {
    "duration": 13,
    "start_time": "2023-01-12T14:06:07.675Z"
   },
   {
    "duration": 12,
    "start_time": "2023-01-12T14:06:09.605Z"
   },
   {
    "duration": 13,
    "start_time": "2023-01-12T14:08:38.451Z"
   },
   {
    "duration": 13,
    "start_time": "2023-01-12T14:08:39.332Z"
   },
   {
    "duration": 16,
    "start_time": "2023-01-12T14:14:46.780Z"
   },
   {
    "duration": 12,
    "start_time": "2023-01-12T14:14:58.482Z"
   },
   {
    "duration": 27,
    "start_time": "2023-01-12T14:21:52.970Z"
   },
   {
    "duration": 13,
    "start_time": "2023-01-12T14:21:54.078Z"
   },
   {
    "duration": 44,
    "start_time": "2023-01-12T14:26:26.178Z"
   },
   {
    "duration": 34,
    "start_time": "2023-01-12T14:26:44.779Z"
   },
   {
    "duration": 33,
    "start_time": "2023-01-12T14:26:50.046Z"
   },
   {
    "duration": 48,
    "start_time": "2023-01-12T14:27:10.357Z"
   },
   {
    "duration": 32,
    "start_time": "2023-01-12T14:27:30.738Z"
   },
   {
    "duration": 2125,
    "start_time": "2023-01-12T14:27:37.839Z"
   },
   {
    "duration": 901,
    "start_time": "2023-01-12T14:27:39.967Z"
   },
   {
    "duration": 42,
    "start_time": "2023-01-12T14:27:40.870Z"
   },
   {
    "duration": 20,
    "start_time": "2023-01-12T14:27:40.914Z"
   },
   {
    "duration": 18,
    "start_time": "2023-01-12T14:27:40.936Z"
   },
   {
    "duration": 16,
    "start_time": "2023-01-12T14:27:40.957Z"
   },
   {
    "duration": 5,
    "start_time": "2023-01-12T14:27:40.975Z"
   },
   {
    "duration": 19,
    "start_time": "2023-01-12T14:27:40.982Z"
   },
   {
    "duration": 16,
    "start_time": "2023-01-12T14:27:41.002Z"
   },
   {
    "duration": 11,
    "start_time": "2023-01-12T14:27:41.036Z"
   },
   {
    "duration": 7,
    "start_time": "2023-01-12T14:27:41.049Z"
   },
   {
    "duration": 12,
    "start_time": "2023-01-12T14:27:41.057Z"
   },
   {
    "duration": 20,
    "start_time": "2023-01-12T14:27:41.070Z"
   },
   {
    "duration": 21,
    "start_time": "2023-01-12T14:27:41.092Z"
   },
   {
    "duration": 33,
    "start_time": "2023-01-12T14:27:41.115Z"
   },
   {
    "duration": 13,
    "start_time": "2023-01-12T14:27:41.149Z"
   },
   {
    "duration": 20,
    "start_time": "2023-01-12T14:27:41.163Z"
   },
   {
    "duration": 16,
    "start_time": "2023-01-12T14:27:41.185Z"
   },
   {
    "duration": 43,
    "start_time": "2023-01-12T14:27:41.203Z"
   },
   {
    "duration": 15,
    "start_time": "2023-01-12T14:27:41.248Z"
   },
   {
    "duration": 48,
    "start_time": "2023-01-12T14:27:41.264Z"
   },
   {
    "duration": 24,
    "start_time": "2023-01-12T14:27:41.314Z"
   },
   {
    "duration": 8,
    "start_time": "2023-01-12T14:27:41.340Z"
   },
   {
    "duration": 10,
    "start_time": "2023-01-12T14:27:41.350Z"
   },
   {
    "duration": 9,
    "start_time": "2023-01-12T14:27:41.361Z"
   },
   {
    "duration": 13,
    "start_time": "2023-01-12T14:27:41.371Z"
   },
   {
    "duration": 9,
    "start_time": "2023-01-12T14:27:41.385Z"
   },
   {
    "duration": 226332,
    "start_time": "2023-01-12T14:27:41.397Z"
   },
   {
    "duration": 233029,
    "start_time": "2023-01-12T14:31:27.731Z"
   },
   {
    "duration": 13,
    "start_time": "2023-01-12T14:35:20.762Z"
   },
   {
    "duration": 8,
    "start_time": "2023-01-12T14:35:20.776Z"
   },
   {
    "duration": 142,
    "start_time": "2023-01-12T14:35:20.786Z"
   },
   {
    "duration": 0,
    "start_time": "2023-01-12T14:35:20.929Z"
   },
   {
    "duration": 0,
    "start_time": "2023-01-12T14:35:20.936Z"
   },
   {
    "duration": 0,
    "start_time": "2023-01-12T14:35:20.937Z"
   },
   {
    "duration": 0,
    "start_time": "2023-01-12T14:35:20.938Z"
   },
   {
    "duration": 0,
    "start_time": "2023-01-12T14:35:20.939Z"
   },
   {
    "duration": 0,
    "start_time": "2023-01-12T14:35:20.940Z"
   },
   {
    "duration": 802,
    "start_time": "2023-01-12T14:35:51.272Z"
   },
   {
    "duration": 574,
    "start_time": "2023-01-12T14:36:02.760Z"
   },
   {
    "duration": 5,
    "start_time": "2023-01-12T14:36:13.323Z"
   },
   {
    "duration": 2330,
    "start_time": "2023-01-12T14:36:20.665Z"
   },
   {
    "duration": 4,
    "start_time": "2023-01-12T14:36:22.999Z"
   },
   {
    "duration": 124,
    "start_time": "2023-01-12T14:36:23.005Z"
   },
   {
    "duration": 15,
    "start_time": "2023-01-12T14:36:23.131Z"
   },
   {
    "duration": 32,
    "start_time": "2023-01-12T14:36:23.148Z"
   },
   {
    "duration": 41,
    "start_time": "2023-01-12T14:36:23.182Z"
   },
   {
    "duration": 17,
    "start_time": "2023-01-12T14:36:23.225Z"
   },
   {
    "duration": 45,
    "start_time": "2023-01-12T14:36:23.243Z"
   },
   {
    "duration": 23,
    "start_time": "2023-01-12T14:36:23.289Z"
   },
   {
    "duration": 24,
    "start_time": "2023-01-12T14:36:23.314Z"
   },
   {
    "duration": 12,
    "start_time": "2023-01-12T14:36:23.340Z"
   },
   {
    "duration": 27,
    "start_time": "2023-01-12T14:36:23.353Z"
   },
   {
    "duration": 25,
    "start_time": "2023-01-12T14:36:23.382Z"
   },
   {
    "duration": 48,
    "start_time": "2023-01-12T14:36:23.409Z"
   },
   {
    "duration": 42,
    "start_time": "2023-01-12T14:36:23.459Z"
   },
   {
    "duration": 33,
    "start_time": "2023-01-12T14:36:23.503Z"
   },
   {
    "duration": 42,
    "start_time": "2023-01-12T14:36:23.538Z"
   },
   {
    "duration": 16,
    "start_time": "2023-01-12T14:36:23.582Z"
   },
   {
    "duration": 39,
    "start_time": "2023-01-12T14:36:23.600Z"
   },
   {
    "duration": 14,
    "start_time": "2023-01-12T14:36:23.641Z"
   },
   {
    "duration": 61,
    "start_time": "2023-01-12T14:36:23.657Z"
   },
   {
    "duration": 5,
    "start_time": "2023-01-12T14:36:27.011Z"
   },
   {
    "duration": 7,
    "start_time": "2023-01-12T14:48:51.886Z"
   },
   {
    "duration": 3,
    "start_time": "2023-01-12T14:49:35.349Z"
   },
   {
    "duration": 195,
    "start_time": "2023-01-12T14:49:38.068Z"
   },
   {
    "duration": 7,
    "start_time": "2023-01-12T14:49:53.349Z"
   },
   {
    "duration": 0,
    "start_time": "2023-01-12T14:53:49.688Z"
   },
   {
    "duration": 5,
    "start_time": "2023-01-12T14:56:06.741Z"
   },
   {
    "duration": 4,
    "start_time": "2023-01-12T14:56:21.554Z"
   },
   {
    "duration": 4,
    "start_time": "2023-01-12T14:56:29.482Z"
   },
   {
    "duration": 93520,
    "start_time": "2023-01-12T14:56:40.358Z"
   },
   {
    "duration": 7,
    "start_time": "2023-01-12T15:00:16.466Z"
   },
   {
    "duration": 0,
    "start_time": "2023-01-12T15:01:48.604Z"
   },
   {
    "duration": 234,
    "start_time": "2023-01-12T15:02:04.915Z"
   },
   {
    "duration": 250,
    "start_time": "2023-01-12T15:02:11.295Z"
   },
   {
    "duration": 274,
    "start_time": "2023-01-12T15:02:34.952Z"
   },
   {
    "duration": 9,
    "start_time": "2023-01-12T15:17:47.431Z"
   },
   {
    "duration": 959,
    "start_time": "2023-01-12T15:17:51.690Z"
   },
   {
    "duration": 7,
    "start_time": "2023-01-12T15:18:53.351Z"
   },
   {
    "duration": 1204,
    "start_time": "2023-01-12T15:19:00.545Z"
   },
   {
    "duration": 8,
    "start_time": "2023-01-12T15:19:57.850Z"
   },
   {
    "duration": 1284,
    "start_time": "2023-01-12T15:19:59.953Z"
   },
   {
    "duration": 2244,
    "start_time": "2023-01-12T15:20:39.750Z"
   },
   {
    "duration": 1007,
    "start_time": "2023-01-12T15:20:41.998Z"
   },
   {
    "duration": 45,
    "start_time": "2023-01-12T15:20:43.007Z"
   },
   {
    "duration": 20,
    "start_time": "2023-01-12T15:20:43.054Z"
   },
   {
    "duration": 14,
    "start_time": "2023-01-12T15:20:43.076Z"
   },
   {
    "duration": 15,
    "start_time": "2023-01-12T15:20:43.092Z"
   },
   {
    "duration": 7,
    "start_time": "2023-01-12T15:20:43.136Z"
   },
   {
    "duration": 11,
    "start_time": "2023-01-12T15:20:43.144Z"
   },
   {
    "duration": 25,
    "start_time": "2023-01-12T15:20:43.157Z"
   },
   {
    "duration": 13,
    "start_time": "2023-01-12T15:20:43.185Z"
   },
   {
    "duration": 5,
    "start_time": "2023-01-12T15:20:43.200Z"
   },
   {
    "duration": 35,
    "start_time": "2023-01-12T15:20:43.208Z"
   },
   {
    "duration": 23,
    "start_time": "2023-01-12T15:20:43.245Z"
   },
   {
    "duration": 16,
    "start_time": "2023-01-12T15:20:43.270Z"
   },
   {
    "duration": 35,
    "start_time": "2023-01-12T15:20:43.288Z"
   },
   {
    "duration": 14,
    "start_time": "2023-01-12T15:20:43.325Z"
   },
   {
    "duration": 17,
    "start_time": "2023-01-12T15:20:43.341Z"
   },
   {
    "duration": 12,
    "start_time": "2023-01-12T15:20:43.360Z"
   },
   {
    "duration": 35,
    "start_time": "2023-01-12T15:20:43.374Z"
   },
   {
    "duration": 38,
    "start_time": "2023-01-12T15:20:43.410Z"
   },
   {
    "duration": 54,
    "start_time": "2023-01-12T15:20:43.451Z"
   },
   {
    "duration": 9,
    "start_time": "2023-01-12T15:20:43.507Z"
   },
   {
    "duration": 7,
    "start_time": "2023-01-12T15:20:43.536Z"
   },
   {
    "duration": 11,
    "start_time": "2023-01-12T15:20:43.545Z"
   },
   {
    "duration": 455078,
    "start_time": "2023-01-12T15:20:43.558Z"
   },
   {
    "duration": 15,
    "start_time": "2023-01-12T15:28:18.639Z"
   },
   {
    "duration": 248495,
    "start_time": "2023-01-12T15:29:33.114Z"
   },
   {
    "duration": 9,
    "start_time": "2023-01-12T15:33:41.611Z"
   },
   {
    "duration": 2456,
    "start_time": "2023-01-12T15:37:47.439Z"
   },
   {
    "duration": 1014,
    "start_time": "2023-01-12T15:37:49.898Z"
   },
   {
    "duration": 44,
    "start_time": "2023-01-12T15:37:50.914Z"
   },
   {
    "duration": 33,
    "start_time": "2023-01-12T15:37:50.960Z"
   },
   {
    "duration": 15,
    "start_time": "2023-01-12T15:37:50.997Z"
   },
   {
    "duration": 36,
    "start_time": "2023-01-12T15:37:51.014Z"
   },
   {
    "duration": 14,
    "start_time": "2023-01-12T15:37:51.052Z"
   },
   {
    "duration": 38,
    "start_time": "2023-01-12T15:37:51.068Z"
   },
   {
    "duration": 31,
    "start_time": "2023-01-12T15:37:51.108Z"
   },
   {
    "duration": 36,
    "start_time": "2023-01-12T15:37:51.141Z"
   },
   {
    "duration": 17,
    "start_time": "2023-01-12T15:37:51.179Z"
   },
   {
    "duration": 16,
    "start_time": "2023-01-12T15:37:51.198Z"
   },
   {
    "duration": 18,
    "start_time": "2023-01-12T15:37:51.216Z"
   },
   {
    "duration": 18,
    "start_time": "2023-01-12T15:37:51.237Z"
   },
   {
    "duration": 23,
    "start_time": "2023-01-12T15:37:51.257Z"
   },
   {
    "duration": 15,
    "start_time": "2023-01-12T15:37:51.282Z"
   },
   {
    "duration": 44,
    "start_time": "2023-01-12T15:37:51.299Z"
   },
   {
    "duration": 4,
    "start_time": "2023-01-12T15:37:51.345Z"
   },
   {
    "duration": 61,
    "start_time": "2023-01-12T15:37:51.351Z"
   },
   {
    "duration": 22,
    "start_time": "2023-01-12T15:37:51.414Z"
   },
   {
    "duration": 59,
    "start_time": "2023-01-12T15:37:51.439Z"
   },
   {
    "duration": 7,
    "start_time": "2023-01-12T15:37:51.500Z"
   },
   {
    "duration": 32,
    "start_time": "2023-01-12T15:37:51.509Z"
   },
   {
    "duration": 13,
    "start_time": "2023-01-12T15:37:51.543Z"
   },
   {
    "duration": 245562,
    "start_time": "2023-01-12T15:37:51.557Z"
   },
   {
    "duration": 240059,
    "start_time": "2023-01-12T15:41:57.121Z"
   },
   {
    "duration": 127,
    "start_time": "2023-01-12T15:54:15.462Z"
   },
   {
    "duration": 6464,
    "start_time": "2023-01-12T15:54:48.090Z"
   },
   {
    "duration": 1440,
    "start_time": "2023-01-12T15:55:30.143Z"
   },
   {
    "duration": 59,
    "start_time": "2023-01-12T15:56:15.970Z"
   },
   {
    "duration": 5,
    "start_time": "2023-01-12T15:57:00.119Z"
   },
   {
    "duration": 4,
    "start_time": "2023-01-12T15:58:04.810Z"
   },
   {
    "duration": 32,
    "start_time": "2023-01-12T15:58:05.146Z"
   },
   {
    "duration": 6,
    "start_time": "2023-01-12T15:58:07.991Z"
   },
   {
    "duration": 10,
    "start_time": "2023-01-12T16:03:28.369Z"
   },
   {
    "duration": 3,
    "start_time": "2023-01-12T16:04:23.223Z"
   },
   {
    "duration": 23,
    "start_time": "2023-01-12T16:04:23.961Z"
   },
   {
    "duration": 14,
    "start_time": "2023-01-12T16:04:24.573Z"
   },
   {
    "duration": 14,
    "start_time": "2023-01-12T16:04:28.633Z"
   },
   {
    "duration": 40,
    "start_time": "2023-01-12T16:04:53.187Z"
   },
   {
    "duration": 6,
    "start_time": "2023-01-12T16:04:54.208Z"
   },
   {
    "duration": 11,
    "start_time": "2023-01-12T16:06:38.482Z"
   },
   {
    "duration": 16,
    "start_time": "2023-01-12T16:06:42.639Z"
   },
   {
    "duration": 128355,
    "start_time": "2023-01-12T16:09:12.111Z"
   },
   {
    "duration": 37,
    "start_time": "2023-01-12T16:15:46.320Z"
   },
   {
    "duration": 6,
    "start_time": "2023-01-12T16:15:46.699Z"
   },
   {
    "duration": 379065,
    "start_time": "2023-01-12T16:15:47.525Z"
   },
   {
    "duration": 346,
    "start_time": "2023-01-12T16:33:18.875Z"
   },
   {
    "duration": 337,
    "start_time": "2023-01-12T16:33:23.327Z"
   },
   {
    "duration": 11,
    "start_time": "2023-01-12T16:34:09.327Z"
   },
   {
    "duration": 13,
    "start_time": "2023-01-12T16:34:20.911Z"
   },
   {
    "duration": 4,
    "start_time": "2023-01-12T16:34:41.043Z"
   },
   {
    "duration": 8,
    "start_time": "2023-01-12T16:35:03.251Z"
   },
   {
    "duration": 4,
    "start_time": "2023-01-12T16:35:11.962Z"
   },
   {
    "duration": 263,
    "start_time": "2023-01-12T16:35:28.879Z"
   },
   {
    "duration": 4,
    "start_time": "2023-01-12T16:35:35.869Z"
   },
   {
    "duration": 24,
    "start_time": "2023-01-12T16:35:39.796Z"
   },
   {
    "duration": 12,
    "start_time": "2023-01-12T16:36:22.677Z"
   },
   {
    "duration": 19,
    "start_time": "2023-01-12T16:36:50.754Z"
   },
   {
    "duration": 10,
    "start_time": "2023-01-12T16:37:54.737Z"
   },
   {
    "duration": 12,
    "start_time": "2023-01-12T16:38:49.788Z"
   },
   {
    "duration": 4696,
    "start_time": "2023-01-12T16:41:21.129Z"
   },
   {
    "duration": 1064,
    "start_time": "2023-01-12T16:41:25.827Z"
   },
   {
    "duration": 1032,
    "start_time": "2023-01-12T16:41:26.893Z"
   },
   {
    "duration": 47,
    "start_time": "2023-01-12T16:41:27.927Z"
   },
   {
    "duration": 27,
    "start_time": "2023-01-12T16:41:27.975Z"
   },
   {
    "duration": 19,
    "start_time": "2023-01-12T16:41:28.004Z"
   },
   {
    "duration": 33,
    "start_time": "2023-01-12T16:41:28.025Z"
   },
   {
    "duration": 8,
    "start_time": "2023-01-12T16:41:28.061Z"
   },
   {
    "duration": 17,
    "start_time": "2023-01-12T16:41:28.071Z"
   },
   {
    "duration": 26,
    "start_time": "2023-01-12T16:41:28.093Z"
   },
   {
    "duration": 37,
    "start_time": "2023-01-12T16:41:28.122Z"
   },
   {
    "duration": 6,
    "start_time": "2023-01-12T16:41:28.161Z"
   },
   {
    "duration": 43,
    "start_time": "2023-01-12T16:41:28.168Z"
   },
   {
    "duration": 36,
    "start_time": "2023-01-12T16:41:28.213Z"
   },
   {
    "duration": 14,
    "start_time": "2023-01-12T16:41:28.251Z"
   },
   {
    "duration": 30,
    "start_time": "2023-01-12T16:41:28.267Z"
   },
   {
    "duration": 13,
    "start_time": "2023-01-12T16:41:28.299Z"
   },
   {
    "duration": 31,
    "start_time": "2023-01-12T16:41:28.314Z"
   },
   {
    "duration": 10,
    "start_time": "2023-01-12T16:41:28.348Z"
   },
   {
    "duration": 38,
    "start_time": "2023-01-12T16:41:28.360Z"
   },
   {
    "duration": 37,
    "start_time": "2023-01-12T16:41:28.400Z"
   },
   {
    "duration": 58,
    "start_time": "2023-01-12T16:41:28.439Z"
   },
   {
    "duration": 7,
    "start_time": "2023-01-12T16:41:28.498Z"
   },
   {
    "duration": 29,
    "start_time": "2023-01-12T16:41:28.506Z"
   },
   {
    "duration": 18,
    "start_time": "2023-01-12T16:41:28.538Z"
   },
   {
    "duration": 47,
    "start_time": "2023-01-12T17:06:30.683Z"
   },
   {
    "duration": 4607,
    "start_time": "2023-01-12T17:06:40.724Z"
   },
   {
    "duration": 1077,
    "start_time": "2023-01-12T17:06:45.333Z"
   },
   {
    "duration": 1028,
    "start_time": "2023-01-12T17:06:46.412Z"
   },
   {
    "duration": 43,
    "start_time": "2023-01-12T17:06:47.443Z"
   },
   {
    "duration": 20,
    "start_time": "2023-01-12T17:06:47.488Z"
   },
   {
    "duration": 15,
    "start_time": "2023-01-12T17:06:47.509Z"
   },
   {
    "duration": 18,
    "start_time": "2023-01-12T17:06:47.525Z"
   },
   {
    "duration": 5,
    "start_time": "2023-01-12T17:06:47.545Z"
   },
   {
    "duration": 12,
    "start_time": "2023-01-12T17:06:47.551Z"
   },
   {
    "duration": 16,
    "start_time": "2023-01-12T17:06:47.565Z"
   },
   {
    "duration": 12,
    "start_time": "2023-01-12T17:06:47.583Z"
   },
   {
    "duration": 7,
    "start_time": "2023-01-12T17:06:47.596Z"
   },
   {
    "duration": 5,
    "start_time": "2023-01-12T17:06:47.635Z"
   },
   {
    "duration": 29,
    "start_time": "2023-01-12T17:06:47.642Z"
   },
   {
    "duration": 13,
    "start_time": "2023-01-12T17:06:47.673Z"
   },
   {
    "duration": 17,
    "start_time": "2023-01-12T17:06:47.688Z"
   },
   {
    "duration": 12,
    "start_time": "2023-01-12T17:06:47.706Z"
   },
   {
    "duration": 29,
    "start_time": "2023-01-12T17:06:47.719Z"
   },
   {
    "duration": 9,
    "start_time": "2023-01-12T17:06:47.750Z"
   },
   {
    "duration": 39,
    "start_time": "2023-01-12T17:06:47.761Z"
   },
   {
    "duration": 13,
    "start_time": "2023-01-12T17:06:47.801Z"
   },
   {
    "duration": 59,
    "start_time": "2023-01-12T17:06:47.816Z"
   },
   {
    "duration": 6,
    "start_time": "2023-01-12T17:06:47.877Z"
   },
   {
    "duration": 8,
    "start_time": "2023-01-12T17:06:47.884Z"
   },
   {
    "duration": 18,
    "start_time": "2023-01-12T17:06:47.893Z"
   },
   {
    "duration": 222845,
    "start_time": "2023-01-12T17:06:47.913Z"
   },
   {
    "duration": 222462,
    "start_time": "2023-01-12T17:10:30.759Z"
   },
   {
    "duration": 16,
    "start_time": "2023-01-12T17:14:13.224Z"
   },
   {
    "duration": 4,
    "start_time": "2023-01-12T17:14:13.242Z"
   },
   {
    "duration": 69554,
    "start_time": "2023-01-12T17:14:13.248Z"
   },
   {
    "duration": 0,
    "start_time": "2023-01-12T17:15:22.804Z"
   },
   {
    "duration": 0,
    "start_time": "2023-01-12T17:15:22.805Z"
   },
   {
    "duration": 0,
    "start_time": "2023-01-12T17:15:22.806Z"
   },
   {
    "duration": 0,
    "start_time": "2023-01-12T17:15:22.807Z"
   },
   {
    "duration": 0,
    "start_time": "2023-01-12T17:15:22.808Z"
   },
   {
    "duration": 33883,
    "start_time": "2023-01-12T17:15:30.458Z"
   },
   {
    "duration": 0,
    "start_time": "2023-01-12T17:16:04.350Z"
   },
   {
    "duration": 0,
    "start_time": "2023-01-12T17:16:04.351Z"
   },
   {
    "duration": 0,
    "start_time": "2023-01-12T17:16:04.353Z"
   },
   {
    "duration": 0,
    "start_time": "2023-01-12T17:16:04.354Z"
   },
   {
    "duration": 0,
    "start_time": "2023-01-12T17:16:04.355Z"
   },
   {
    "duration": 0,
    "start_time": "2023-01-12T17:16:04.356Z"
   },
   {
    "duration": 0,
    "start_time": "2023-01-12T17:16:04.357Z"
   },
   {
    "duration": 0,
    "start_time": "2023-01-12T17:16:04.358Z"
   },
   {
    "duration": 227779,
    "start_time": "2023-01-12T17:16:07.282Z"
   },
   {
    "duration": 323,
    "start_time": "2023-01-12T17:19:55.063Z"
   },
   {
    "duration": 10,
    "start_time": "2023-01-12T17:19:55.388Z"
   },
   {
    "duration": 19,
    "start_time": "2023-01-12T17:19:55.401Z"
   },
   {
    "duration": 123061,
    "start_time": "2023-01-12T17:19:55.423Z"
   },
   {
    "duration": 31,
    "start_time": "2023-01-12T17:21:58.486Z"
   },
   {
    "duration": 6,
    "start_time": "2023-01-12T17:21:58.536Z"
   },
   {
    "duration": 364404,
    "start_time": "2023-01-12T17:21:58.543Z"
   },
   {
    "duration": 4,
    "start_time": "2023-01-12T17:28:02.949Z"
   },
   {
    "duration": 23,
    "start_time": "2023-01-12T17:28:02.955Z"
   },
   {
    "duration": 4448,
    "start_time": "2023-01-12T17:34:16.705Z"
   },
   {
    "duration": 1027,
    "start_time": "2023-01-12T17:34:21.156Z"
   },
   {
    "duration": 5,
    "start_time": "2023-01-12T17:34:22.185Z"
   },
   {
    "duration": 55,
    "start_time": "2023-01-12T17:34:22.193Z"
   },
   {
    "duration": 15,
    "start_time": "2023-01-12T17:34:22.249Z"
   },
   {
    "duration": 22,
    "start_time": "2023-01-12T17:34:22.266Z"
   },
   {
    "duration": 27,
    "start_time": "2023-01-12T17:34:22.290Z"
   },
   {
    "duration": 19,
    "start_time": "2023-01-12T17:34:22.319Z"
   },
   {
    "duration": 18,
    "start_time": "2023-01-12T17:34:22.340Z"
   },
   {
    "duration": 17,
    "start_time": "2023-01-12T17:34:22.361Z"
   },
   {
    "duration": 44,
    "start_time": "2023-01-12T17:34:22.380Z"
   },
   {
    "duration": 31,
    "start_time": "2023-01-12T17:34:22.426Z"
   },
   {
    "duration": 18,
    "start_time": "2023-01-12T17:34:22.459Z"
   },
   {
    "duration": 36,
    "start_time": "2023-01-12T17:34:22.479Z"
   },
   {
    "duration": 18,
    "start_time": "2023-01-12T17:34:22.520Z"
   },
   {
    "duration": 45,
    "start_time": "2023-01-12T17:34:22.540Z"
   },
   {
    "duration": 35,
    "start_time": "2023-01-12T17:34:22.587Z"
   },
   {
    "duration": 28,
    "start_time": "2023-01-12T17:34:22.625Z"
   },
   {
    "duration": 22,
    "start_time": "2023-01-12T17:34:22.655Z"
   },
   {
    "duration": 41,
    "start_time": "2023-01-12T17:34:22.680Z"
   },
   {
    "duration": 14,
    "start_time": "2023-01-12T17:34:22.723Z"
   },
   {
    "duration": 58,
    "start_time": "2023-01-12T17:34:22.739Z"
   },
   {
    "duration": 5,
    "start_time": "2023-01-12T17:34:22.798Z"
   },
   {
    "duration": 25,
    "start_time": "2023-01-12T17:34:22.804Z"
   },
   {
    "duration": 35,
    "start_time": "2023-01-12T17:34:22.831Z"
   },
   {
    "duration": 226961,
    "start_time": "2023-01-12T17:34:22.867Z"
   },
   {
    "duration": 224417,
    "start_time": "2023-01-12T17:38:09.830Z"
   },
   {
    "duration": 10,
    "start_time": "2023-01-12T17:41:54.251Z"
   },
   {
    "duration": 14,
    "start_time": "2023-01-12T17:41:54.262Z"
   },
   {
    "duration": 124527,
    "start_time": "2023-01-12T17:41:54.278Z"
   },
   {
    "duration": 37,
    "start_time": "2023-01-12T17:43:58.806Z"
   },
   {
    "duration": 4,
    "start_time": "2023-01-12T17:43:58.845Z"
   },
   {
    "duration": 363397,
    "start_time": "2023-01-12T17:43:58.851Z"
   },
   {
    "duration": 3,
    "start_time": "2023-01-12T17:50:02.250Z"
   },
   {
    "duration": 46,
    "start_time": "2023-01-12T17:50:02.255Z"
   },
   {
    "duration": 23,
    "start_time": "2023-01-12T17:52:56.454Z"
   },
   {
    "duration": 30,
    "start_time": "2023-01-12T17:53:01.837Z"
   },
   {
    "duration": 32,
    "start_time": "2023-01-12T17:54:09.621Z"
   },
   {
    "duration": 32,
    "start_time": "2023-01-12T17:54:09.977Z"
   },
   {
    "duration": 30,
    "start_time": "2023-01-12T17:54:10.373Z"
   },
   {
    "duration": 25,
    "start_time": "2023-01-12T17:54:28.698Z"
   },
   {
    "duration": 32,
    "start_time": "2023-01-12T17:54:28.892Z"
   },
   {
    "duration": 24,
    "start_time": "2023-01-12T17:54:29.103Z"
   },
   {
    "duration": 50,
    "start_time": "2023-01-12T18:08:02.171Z"
   },
   {
    "duration": 13,
    "start_time": "2023-01-12T18:08:15.095Z"
   },
   {
    "duration": 3,
    "start_time": "2023-01-12T18:08:38.186Z"
   },
   {
    "duration": 12,
    "start_time": "2023-01-12T18:08:45.310Z"
   },
   {
    "duration": 6,
    "start_time": "2023-01-12T18:08:55.392Z"
   },
   {
    "duration": 4610,
    "start_time": "2023-01-12T18:18:12.282Z"
   },
   {
    "duration": 1032,
    "start_time": "2023-01-12T18:18:16.894Z"
   },
   {
    "duration": 1081,
    "start_time": "2023-01-12T18:18:17.929Z"
   },
   {
    "duration": 45,
    "start_time": "2023-01-12T18:18:19.012Z"
   },
   {
    "duration": 24,
    "start_time": "2023-01-12T18:18:19.060Z"
   },
   {
    "duration": 26,
    "start_time": "2023-01-12T18:18:19.086Z"
   },
   {
    "duration": 30,
    "start_time": "2023-01-12T18:18:19.114Z"
   },
   {
    "duration": 7,
    "start_time": "2023-01-12T18:18:19.147Z"
   },
   {
    "duration": 13,
    "start_time": "2023-01-12T18:18:19.156Z"
   },
   {
    "duration": 17,
    "start_time": "2023-01-12T18:18:19.171Z"
   },
   {
    "duration": 50,
    "start_time": "2023-01-12T18:18:19.190Z"
   },
   {
    "duration": 12,
    "start_time": "2023-01-12T18:18:19.242Z"
   },
   {
    "duration": 18,
    "start_time": "2023-01-12T18:18:19.256Z"
   },
   {
    "duration": 31,
    "start_time": "2023-01-12T18:18:19.278Z"
   },
   {
    "duration": 26,
    "start_time": "2023-01-12T18:18:19.311Z"
   },
   {
    "duration": 28,
    "start_time": "2023-01-12T18:18:19.339Z"
   },
   {
    "duration": 35,
    "start_time": "2023-01-12T18:18:19.368Z"
   },
   {
    "duration": 26,
    "start_time": "2023-01-12T18:18:19.405Z"
   },
   {
    "duration": 12,
    "start_time": "2023-01-12T18:18:19.432Z"
   },
   {
    "duration": 50,
    "start_time": "2023-01-12T18:18:19.446Z"
   },
   {
    "duration": 14,
    "start_time": "2023-01-12T18:18:19.498Z"
   },
   {
    "duration": 55,
    "start_time": "2023-01-12T18:18:19.514Z"
   },
   {
    "duration": 7,
    "start_time": "2023-01-12T18:18:19.570Z"
   },
   {
    "duration": 25,
    "start_time": "2023-01-12T18:18:19.578Z"
   },
   {
    "duration": 22,
    "start_time": "2023-01-12T18:18:19.605Z"
   },
   {
    "duration": 221539,
    "start_time": "2023-01-12T18:18:19.629Z"
   },
   {
    "duration": 218440,
    "start_time": "2023-01-12T18:22:01.170Z"
   },
   {
    "duration": 26,
    "start_time": "2023-01-12T18:25:39.612Z"
   },
   {
    "duration": 5,
    "start_time": "2023-01-12T18:25:39.640Z"
   },
   {
    "duration": 122508,
    "start_time": "2023-01-12T18:25:39.647Z"
   },
   {
    "duration": 30,
    "start_time": "2023-01-12T18:27:42.157Z"
   },
   {
    "duration": 4,
    "start_time": "2023-01-12T18:27:42.189Z"
   },
   {
    "duration": 359237,
    "start_time": "2023-01-12T18:27:42.195Z"
   },
   {
    "duration": 24,
    "start_time": "2023-01-12T18:33:41.435Z"
   },
   {
    "duration": 37,
    "start_time": "2023-01-12T18:33:41.461Z"
   },
   {
    "duration": 42,
    "start_time": "2023-01-12T18:33:41.500Z"
   },
   {
    "duration": 5,
    "start_time": "2023-01-12T18:33:41.544Z"
   }
  ],
  "kernelspec": {
   "display_name": "Python 3 (ipykernel)",
   "language": "python",
   "name": "python3"
  },
  "language_info": {
   "codemirror_mode": {
    "name": "ipython",
    "version": 3
   },
   "file_extension": ".py",
   "mimetype": "text/x-python",
   "name": "python",
   "nbconvert_exporter": "python",
   "pygments_lexer": "ipython3",
   "version": "3.9.13"
  },
  "toc": {
   "base_numbering": 1,
   "nav_menu": {},
   "number_sections": true,
   "sideBar": true,
   "skip_h1_title": true,
   "title_cell": "Table of Contents",
   "title_sidebar": "Contents",
   "toc_cell": false,
   "toc_position": {},
   "toc_section_display": true,
   "toc_window_display": false
  }
 },
 "nbformat": 4,
 "nbformat_minor": 5
}
