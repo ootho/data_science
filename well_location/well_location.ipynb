{
 "cells": [
  {
   "cell_type": "markdown",
   "metadata": {},
   "source": [
    "# Выбор локации для скважины"
   ]
  },
  {
   "attachments": {},
   "cell_type": "markdown",
   "metadata": {},
   "source": [
    "В датасете собраны пробы нефти в трёх регионах: в каждом 10 000 месторождений, где измерили качество нефти и объём её запасов. Необходимо построить модель машинного обучения, которая поможет определить регион, где добыча принесёт наибольшую прибыль. Необходимо проанализировать возможную прибыль и риски.\n",
    "\n",
    "Шаги для выбора локации:\n",
    "\n",
    "- В избранном регионе ищут месторождения, для каждого определяют значения признаков;\n",
    "- Строят модель и оценивают объём запасов;\n",
    "- Выбирают месторождения с самым высокими оценками значений. Количество месторождений зависит от бюджета компании и стоимости разработки одной скважины;\n",
    "- Прибыль равна суммарной прибыли отобранных месторождений."
   ]
  },
  {
   "attachments": {},
   "cell_type": "markdown",
   "metadata": {},
   "source": [
    "**Описание данных**\n",
    "`id` — уникальный идентификатор скважины  \n",
    "`f0`, `f1`, `f2` — три признака точек    \n",
    "`product` — объём запасов в скважине (тыс. баррелей)"
   ]
  },
  {
   "attachments": {},
   "cell_type": "markdown",
   "metadata": {},
   "source": [
    "## Загрузка и подготовка данных"
   ]
  },
  {
   "cell_type": "code",
   "execution_count": 52,
   "metadata": {},
   "outputs": [],
   "source": [
    "import os\n",
    "from math import sqrt\n",
    "from numpy.random import RandomState\n",
    "\n",
    "import pandas as pd\n",
    "from sklearn.model_selection import train_test_split\n",
    "from sklearn.preprocessing import StandardScaler\n",
    "from sklearn.linear_model import LinearRegression\n",
    "from sklearn.metrics import mean_squared_error as mse"
   ]
  },
  {
   "cell_type": "code",
   "execution_count": 53,
   "metadata": {},
   "outputs": [],
   "source": [
    "BASE_DIR = os.getcwd()\n",
    "r_state = RandomState(12345)\n",
    "state = 1"
   ]
  },
  {
   "cell_type": "markdown",
   "metadata": {},
   "source": [
    "Загружаем датасеты."
   ]
  },
  {
   "cell_type": "code",
   "execution_count": 54,
   "metadata": {},
   "outputs": [],
   "source": [
    "d_1 = pd.read_csv(f'{BASE_DIR}/datasets/geo_data_0.csv')\n",
    "d_2 = pd.read_csv(f'{BASE_DIR}/datasets/geo_data_1.csv')\n",
    "d_3 = pd.read_csv(f'{BASE_DIR}/datasets/geo_data_2.csv')"
   ]
  },
  {
   "cell_type": "markdown",
   "metadata": {},
   "source": [
    "Анализ общей информации о данных."
   ]
  },
  {
   "cell_type": "code",
   "execution_count": 55,
   "metadata": {},
   "outputs": [
    {
     "data": {
      "text/html": [
       "<div>\n",
       "<style scoped>\n",
       "    .dataframe tbody tr th:only-of-type {\n",
       "        vertical-align: middle;\n",
       "    }\n",
       "\n",
       "    .dataframe tbody tr th {\n",
       "        vertical-align: top;\n",
       "    }\n",
       "\n",
       "    .dataframe thead th {\n",
       "        text-align: right;\n",
       "    }\n",
       "</style>\n",
       "<table border=\"1\" class=\"dataframe\">\n",
       "  <thead>\n",
       "    <tr style=\"text-align: right;\">\n",
       "      <th></th>\n",
       "      <th>id</th>\n",
       "      <th>f0</th>\n",
       "      <th>f1</th>\n",
       "      <th>f2</th>\n",
       "      <th>product</th>\n",
       "    </tr>\n",
       "  </thead>\n",
       "  <tbody>\n",
       "    <tr>\n",
       "      <th>0</th>\n",
       "      <td>txEyH</td>\n",
       "      <td>0.705745</td>\n",
       "      <td>-0.497823</td>\n",
       "      <td>1.221170</td>\n",
       "      <td>105.280062</td>\n",
       "    </tr>\n",
       "    <tr>\n",
       "      <th>1</th>\n",
       "      <td>2acmU</td>\n",
       "      <td>1.334711</td>\n",
       "      <td>-0.340164</td>\n",
       "      <td>4.365080</td>\n",
       "      <td>73.037750</td>\n",
       "    </tr>\n",
       "    <tr>\n",
       "      <th>2</th>\n",
       "      <td>409Wp</td>\n",
       "      <td>1.022732</td>\n",
       "      <td>0.151990</td>\n",
       "      <td>1.419926</td>\n",
       "      <td>85.265647</td>\n",
       "    </tr>\n",
       "    <tr>\n",
       "      <th>3</th>\n",
       "      <td>iJLyR</td>\n",
       "      <td>-0.032172</td>\n",
       "      <td>0.139033</td>\n",
       "      <td>2.978566</td>\n",
       "      <td>168.620776</td>\n",
       "    </tr>\n",
       "    <tr>\n",
       "      <th>4</th>\n",
       "      <td>Xdl7t</td>\n",
       "      <td>1.988431</td>\n",
       "      <td>0.155413</td>\n",
       "      <td>4.751769</td>\n",
       "      <td>154.036647</td>\n",
       "    </tr>\n",
       "  </tbody>\n",
       "</table>\n",
       "</div>"
      ],
      "text/plain": [
       "      id        f0        f1        f2     product\n",
       "0  txEyH  0.705745 -0.497823  1.221170  105.280062\n",
       "1  2acmU  1.334711 -0.340164  4.365080   73.037750\n",
       "2  409Wp  1.022732  0.151990  1.419926   85.265647\n",
       "3  iJLyR -0.032172  0.139033  2.978566  168.620776\n",
       "4  Xdl7t  1.988431  0.155413  4.751769  154.036647"
      ]
     },
     "execution_count": 55,
     "metadata": {},
     "output_type": "execute_result"
    }
   ],
   "source": [
    "d_1.head()"
   ]
  },
  {
   "cell_type": "code",
   "execution_count": 56,
   "metadata": {},
   "outputs": [
    {
     "name": "stdout",
     "output_type": "stream",
     "text": [
      "<class 'pandas.core.frame.DataFrame'>\n",
      "RangeIndex: 100000 entries, 0 to 99999\n",
      "Data columns (total 5 columns):\n",
      " #   Column   Non-Null Count   Dtype  \n",
      "---  ------   --------------   -----  \n",
      " 0   id       100000 non-null  object \n",
      " 1   f0       100000 non-null  float64\n",
      " 2   f1       100000 non-null  float64\n",
      " 3   f2       100000 non-null  float64\n",
      " 4   product  100000 non-null  float64\n",
      "dtypes: float64(4), object(1)\n",
      "memory usage: 3.8+ MB\n"
     ]
    }
   ],
   "source": [
    "d_1.info()"
   ]
  },
  {
   "cell_type": "code",
   "execution_count": 57,
   "metadata": {},
   "outputs": [
    {
     "data": {
      "text/plain": [
       "id         0\n",
       "f0         0\n",
       "f1         0\n",
       "f2         0\n",
       "product    0\n",
       "dtype: int64"
      ]
     },
     "execution_count": 57,
     "metadata": {},
     "output_type": "execute_result"
    }
   ],
   "source": [
    "d_1.isna().sum()"
   ]
  },
  {
   "attachments": {},
   "cell_type": "markdown",
   "metadata": {},
   "source": [
    "Пропуски в данных отсутствуют.   \n",
    "Необходимо удалить лишний столбец с идентификаторами данных, т.к. при обучении модели они использоваться не будет, а если нам в дальнейшем понадобятся идентификаторы мы сможем восстановить их по индексам из исходного файла.   \n",
    "Признаки f0, f1, f2 необходимо отмасштабировать.   \n",
    "Имеет смысл изменить типы данных на более лёгкие."
   ]
  },
  {
   "attachments": {},
   "cell_type": "markdown",
   "metadata": {},
   "source": [
    "### 1.1 Удаление столбца с id скважин"
   ]
  },
  {
   "cell_type": "code",
   "execution_count": 58,
   "metadata": {},
   "outputs": [],
   "source": [
    "d_1 = d_1.drop('id', axis=1)\n",
    "d_2 = d_2.drop('id', axis=1)\n",
    "d_3 = d_3.drop('id', axis=1)"
   ]
  },
  {
   "cell_type": "code",
   "execution_count": 59,
   "metadata": {},
   "outputs": [
    {
     "data": {
      "text/html": [
       "<div>\n",
       "<style scoped>\n",
       "    .dataframe tbody tr th:only-of-type {\n",
       "        vertical-align: middle;\n",
       "    }\n",
       "\n",
       "    .dataframe tbody tr th {\n",
       "        vertical-align: top;\n",
       "    }\n",
       "\n",
       "    .dataframe thead th {\n",
       "        text-align: right;\n",
       "    }\n",
       "</style>\n",
       "<table border=\"1\" class=\"dataframe\">\n",
       "  <thead>\n",
       "    <tr style=\"text-align: right;\">\n",
       "      <th></th>\n",
       "      <th>f0</th>\n",
       "      <th>f1</th>\n",
       "      <th>f2</th>\n",
       "      <th>product</th>\n",
       "    </tr>\n",
       "  </thead>\n",
       "  <tbody>\n",
       "    <tr>\n",
       "      <th>0</th>\n",
       "      <td>0.705745</td>\n",
       "      <td>-0.497823</td>\n",
       "      <td>1.221170</td>\n",
       "      <td>105.280062</td>\n",
       "    </tr>\n",
       "    <tr>\n",
       "      <th>1</th>\n",
       "      <td>1.334711</td>\n",
       "      <td>-0.340164</td>\n",
       "      <td>4.365080</td>\n",
       "      <td>73.037750</td>\n",
       "    </tr>\n",
       "    <tr>\n",
       "      <th>2</th>\n",
       "      <td>1.022732</td>\n",
       "      <td>0.151990</td>\n",
       "      <td>1.419926</td>\n",
       "      <td>85.265647</td>\n",
       "    </tr>\n",
       "    <tr>\n",
       "      <th>3</th>\n",
       "      <td>-0.032172</td>\n",
       "      <td>0.139033</td>\n",
       "      <td>2.978566</td>\n",
       "      <td>168.620776</td>\n",
       "    </tr>\n",
       "    <tr>\n",
       "      <th>4</th>\n",
       "      <td>1.988431</td>\n",
       "      <td>0.155413</td>\n",
       "      <td>4.751769</td>\n",
       "      <td>154.036647</td>\n",
       "    </tr>\n",
       "  </tbody>\n",
       "</table>\n",
       "</div>"
      ],
      "text/plain": [
       "         f0        f1        f2     product\n",
       "0  0.705745 -0.497823  1.221170  105.280062\n",
       "1  1.334711 -0.340164  4.365080   73.037750\n",
       "2  1.022732  0.151990  1.419926   85.265647\n",
       "3 -0.032172  0.139033  2.978566  168.620776\n",
       "4  1.988431  0.155413  4.751769  154.036647"
      ]
     },
     "execution_count": 59,
     "metadata": {},
     "output_type": "execute_result"
    }
   ],
   "source": [
    "d_1.head(5)"
   ]
  },
  {
   "cell_type": "markdown",
   "metadata": {},
   "source": [
    "### 1.2 Проверка дубликатов"
   ]
  },
  {
   "cell_type": "code",
   "execution_count": 60,
   "metadata": {},
   "outputs": [
    {
     "name": "stdout",
     "output_type": "stream",
     "text": [
      "0\n",
      "0\n",
      "0\n"
     ]
    }
   ],
   "source": [
    "print(d_1.duplicated().sum())\n",
    "print(d_2.duplicated().sum())\n",
    "print(d_3.duplicated().sum())"
   ]
  },
  {
   "cell_type": "markdown",
   "metadata": {},
   "source": [
    "### ~~1.3 Масштабирование признаков~~"
   ]
  },
  {
   "attachments": {},
   "cell_type": "markdown",
   "metadata": {},
   "source": [
    "Этот шаг будет сделан при обучении модели."
   ]
  },
  {
   "cell_type": "markdown",
   "metadata": {},
   "source": [
    "### 1.4 Изменение типов"
   ]
  },
  {
   "cell_type": "code",
   "execution_count": 61,
   "metadata": {},
   "outputs": [],
   "source": [
    "d_1 = d_1.apply(pd.to_numeric, downcast='float')\n",
    "d_2 = d_2.apply(pd.to_numeric, downcast='float')\n",
    "d_3 = d_3.apply(pd.to_numeric, downcast='float')"
   ]
  },
  {
   "cell_type": "markdown",
   "metadata": {},
   "source": [
    "### 1.5 Выводы"
   ]
  },
  {
   "cell_type": "markdown",
   "metadata": {},
   "source": [
    "Проверка результатов"
   ]
  },
  {
   "cell_type": "code",
   "execution_count": 62,
   "metadata": {},
   "outputs": [
    {
     "name": "stdout",
     "output_type": "stream",
     "text": [
      "<class 'pandas.core.frame.DataFrame'>\n",
      "RangeIndex: 100000 entries, 0 to 99999\n",
      "Data columns (total 4 columns):\n",
      " #   Column   Non-Null Count   Dtype  \n",
      "---  ------   --------------   -----  \n",
      " 0   f0       100000 non-null  float32\n",
      " 1   f1       100000 non-null  float32\n",
      " 2   f2       100000 non-null  float32\n",
      " 3   product  100000 non-null  float32\n",
      "dtypes: float32(4)\n",
      "memory usage: 1.5 MB\n"
     ]
    }
   ],
   "source": [
    "d_1.info()"
   ]
  },
  {
   "cell_type": "code",
   "execution_count": 63,
   "metadata": {
    "scrolled": true
   },
   "outputs": [
    {
     "data": {
      "text/html": [
       "<div>\n",
       "<style scoped>\n",
       "    .dataframe tbody tr th:only-of-type {\n",
       "        vertical-align: middle;\n",
       "    }\n",
       "\n",
       "    .dataframe tbody tr th {\n",
       "        vertical-align: top;\n",
       "    }\n",
       "\n",
       "    .dataframe thead th {\n",
       "        text-align: right;\n",
       "    }\n",
       "</style>\n",
       "<table border=\"1\" class=\"dataframe\">\n",
       "  <thead>\n",
       "    <tr style=\"text-align: right;\">\n",
       "      <th></th>\n",
       "      <th>f0</th>\n",
       "      <th>f1</th>\n",
       "      <th>f2</th>\n",
       "      <th>product</th>\n",
       "    </tr>\n",
       "  </thead>\n",
       "  <tbody>\n",
       "    <tr>\n",
       "      <th>0</th>\n",
       "      <td>0.705745</td>\n",
       "      <td>-0.497822</td>\n",
       "      <td>1.221170</td>\n",
       "      <td>105.280060</td>\n",
       "    </tr>\n",
       "    <tr>\n",
       "      <th>1</th>\n",
       "      <td>1.334711</td>\n",
       "      <td>-0.340164</td>\n",
       "      <td>4.365080</td>\n",
       "      <td>73.037750</td>\n",
       "    </tr>\n",
       "    <tr>\n",
       "      <th>2</th>\n",
       "      <td>1.022732</td>\n",
       "      <td>0.151990</td>\n",
       "      <td>1.419926</td>\n",
       "      <td>85.265648</td>\n",
       "    </tr>\n",
       "    <tr>\n",
       "      <th>3</th>\n",
       "      <td>-0.032172</td>\n",
       "      <td>0.139033</td>\n",
       "      <td>2.978566</td>\n",
       "      <td>168.620773</td>\n",
       "    </tr>\n",
       "    <tr>\n",
       "      <th>4</th>\n",
       "      <td>1.988431</td>\n",
       "      <td>0.155413</td>\n",
       "      <td>4.751769</td>\n",
       "      <td>154.036652</td>\n",
       "    </tr>\n",
       "  </tbody>\n",
       "</table>\n",
       "</div>"
      ],
      "text/plain": [
       "         f0        f1        f2     product\n",
       "0  0.705745 -0.497822  1.221170  105.280060\n",
       "1  1.334711 -0.340164  4.365080   73.037750\n",
       "2  1.022732  0.151990  1.419926   85.265648\n",
       "3 -0.032172  0.139033  2.978566  168.620773\n",
       "4  1.988431  0.155413  4.751769  154.036652"
      ]
     },
     "execution_count": 63,
     "metadata": {},
     "output_type": "execute_result"
    }
   ],
   "source": [
    "d_1.head()"
   ]
  },
  {
   "cell_type": "markdown",
   "metadata": {},
   "source": [
    "\n",
    "\n",
    "**В результате подготовки данных:**\n",
    "   - были удалены признаки с излишней информацией; \n",
    "   - проверены дубликаты и пропуски;\n",
    "   - ~~количественные признакми были масштабированы;~~\n",
    "   - типы данных заменены на более лёгкие."
   ]
  },
  {
   "cell_type": "markdown",
   "metadata": {},
   "source": [
    "## 2 Обучение и проверка модели"
   ]
  },
  {
   "cell_type": "markdown",
   "metadata": {},
   "source": [
    "### 2.1 Обучение модели"
   ]
  },
  {
   "cell_type": "markdown",
   "metadata": {},
   "source": [
    "Функция для обучения модели и расчёта среднего предсказанного запаса сырья и RMSE модели."
   ]
  },
  {
   "cell_type": "code",
   "execution_count": 64,
   "metadata": {},
   "outputs": [],
   "source": [
    "def mean_rmse(d):\n",
    "    feature = d.drop('product', axis=1)\n",
    "    target = d['product']\n",
    "\n",
    "    # Разбиваем данные на обучающую и валидационную выборки в соотношении 3:1\n",
    "    feature_train, feature_valid, target_train, target_valid = train_test_split(\n",
    "        feature, target, test_size=0.25, random_state=state)\n",
    "\n",
    "    # Масштабируем признаки\n",
    "    scaler = StandardScaler()\n",
    "    scaler.fit(feature_train)\n",
    "    feature_train = pd.DataFrame(scaler.transform(feature_train))\n",
    "    feature_valid = pd.DataFrame(scaler.transform(feature_valid))\n",
    "\n",
    "    # Обучаем модель\n",
    "    model = LinearRegression()\n",
    "    model.fit(feature_train, target_train)\n",
    "\n",
    "    # Делаем предсказание на валидациоонной выборке\n",
    "    target_predicted = model.predict(feature_valid)\n",
    "    target_predicted_df = pd.Series(target_predicted, index=target_valid.index)\n",
    "\n",
    "    # Печатаем на экране средний предсказанный запас сырья и RMSE модели.\n",
    "    print(\n",
    "        f'Средний предсказанный запас сырья = {target_predicted.mean()}, RMSE модели = {sqrt(mse(target_valid, target_predicted))}')\n",
    "\n",
    "    # Возвращаем Series с истиными данными и с предсказанными, они понадобятся позже\n",
    "    return {'y_pred': target_predicted_df, 'y_true': target_valid}\n"
   ]
  },
  {
   "cell_type": "code",
   "execution_count": 65,
   "metadata": {},
   "outputs": [
    {
     "name": "stdout",
     "output_type": "stream",
     "text": [
      "Результаты для d_1 : Средний предсказанный запас сырья = 92.49263000488281, RMSE модели = 37.74258774497981\n",
      "Результаты для d_2 : Средний предсказанный запас сырья = 69.12039947509766, RMSE модели = 0.8943376956413401\n",
      "Результаты для d_3 : Средний предсказанный запас сырья = 94.95684051513672, RMSE модели = 39.866710602428846\n"
     ]
    }
   ],
   "source": [
    "print('Результаты для d_1 : ', end=\"\")\n",
    "res_mean_rmse_1 = mean_rmse(d_1)\n",
    "\n",
    "print('Результаты для d_2 : ', end=\"\")\n",
    "res_mean_rmse_2 = mean_rmse(d_2)\n",
    "\n",
    "print('Результаты для d_3 : ', end=\"\")\n",
    "res_mean_rmse_3 = mean_rmse(d_3)\n"
   ]
  },
  {
   "cell_type": "markdown",
   "metadata": {},
   "source": [
    "### 2.2 Анализ результатов"
   ]
  },
  {
   "cell_type": "markdown",
   "metadata": {},
   "source": [
    "На участке 2 самый низкий показатель RMSE, значит что модель сможет предсказывать данные на порядок точнее чем на участках 1 и 3. С другой стороны средний предсказанный запас сырья на этом участке меньше."
   ]
  },
  {
   "cell_type": "markdown",
   "metadata": {},
   "source": [
    "## 3 Подготовка к расчёту прибыли"
   ]
  },
  {
   "cell_type": "markdown",
   "metadata": {},
   "source": [
    " ### 3.1 Все ключевые значения для расчётов сохраним в отдельных переменных."
   ]
  },
  {
   "cell_type": "code",
   "execution_count": 66,
   "metadata": {},
   "outputs": [],
   "source": [
    "PLACE_COUNT = 200\n",
    "PRUDUCT_PRICE = 450_000\n",
    "BUDGET = 10_000_000_000"
   ]
  },
  {
   "cell_type": "markdown",
   "metadata": {},
   "source": [
    "### 3.2 Рассчитаем достаточный объём сырья для безубыточной разработки новой скважины. Сравним полученный объём сырья со средним запасом в каждом регионе. "
   ]
  },
  {
   "cell_type": "markdown",
   "metadata": {},
   "source": [
    "Стоимость разработки скважин - 10 млрд.  \n",
    "Стоимость единицы объёма нефти - 450 тыс.р.  \n",
    "Мы разрабатываем 200 скважин, расходы на 1 скважину 10млрд/200=50 млн.  \n",
    "Достаточный объём для безубыточной разработки новой скважины 50млн./450т.=111,(1) единиц объёма."
   ]
  },
  {
   "cell_type": "code",
   "execution_count": 67,
   "metadata": {},
   "outputs": [
    {
     "name": "stdout",
     "output_type": "stream",
     "text": [
      "92.5008316040039\n",
      "68.83883666992188\n",
      "94.99874877929688\n"
     ]
    }
   ],
   "source": [
    "print(d_1['product'].mean())\n",
    "print(d_2['product'].mean())\n",
    "print(d_3['product'].mean())"
   ]
  },
  {
   "cell_type": "markdown",
   "metadata": {},
   "source": [
    " ### 3.3  Выводы по этапу подготовки расчёта прибыли."
   ]
  },
  {
   "cell_type": "markdown",
   "metadata": {},
   "source": [
    "Необходимый объём для безубыточной разработки одной новой скважины - 111,(1) тысяч баррелей. В каждом из регионов средний запас сырья в одной скажине недостаточен. Особенно в регионе d_2. Следовательно, вероятность получить прибыль выбрав места для скважин случайным образом невелика, необходимо использовать машинное обучение."
   ]
  },
  {
   "cell_type": "markdown",
   "metadata": {},
   "source": [
    "## 4 Расчёт прибыли и рисков "
   ]
  },
  {
   "cell_type": "markdown",
   "metadata": {},
   "source": [
    "### 4.1 Функция для рассчёта прибыли по выбранным скважинам и предсказаниям модели"
   ]
  },
  {
   "cell_type": "markdown",
   "metadata": {},
   "source": [
    "Случайным образом выбираем 500 скажин из 25000 (для нашей задачи не обязательно брать значения из всей выборки, можно взять из валидационной). Модель уже была обучена ранее, выбираем 500 истиных значений и 500 предсказаных."
   ]
  },
  {
   "cell_type": "code",
   "execution_count": 68,
   "metadata": {},
   "outputs": [],
   "source": [
    "# передаём функции истиные значения, предсказанные значения и radnom seed\n",
    "def revenue(y_true, y_pred, r_stat):\n",
    "\n",
    "    # выбираем 500 индексов случайных объектов, далее по индексам выбираем сами объекты\n",
    "    random_500_index = y_true.sample(n=500, random_state=r_stat).index\n",
    "    y_true_500 = y_true[random_500_index]\n",
    "    y_pred_500 = y_pred[random_500_index]\n",
    "\n",
    "    # выбираем 200 лучших объектов из 500 случайных\n",
    "    indexes_pred_volumes_200 = y_pred_500.sort_values(ascending=False)[\n",
    "        :PLACE_COUNT].index\n",
    "    indexes_pred_volumes_200\n",
    "\n",
    "    # рассчитываем суммарный доход по 200 скажинам\n",
    "    product_volume_200 = sum(y_true_500[indexes_pred_volumes_200])\n",
    "\n",
    "    # возвращаем валовую прибыль\n",
    "    return product_volume_200 * PRUDUCT_PRICE - BUDGET\n"
   ]
  },
  {
   "attachments": {},
   "cell_type": "markdown",
   "metadata": {},
   "source": [
    "Функция, которая применяет bootstrap с 1000 выборок, чтобы найти распределение прибыли и находит среднюю прибыль, 95%-й доверительный интервал и риск убытков."
   ]
  },
  {
   "cell_type": "code",
   "execution_count": 69,
   "metadata": {},
   "outputs": [],
   "source": [
    "def revenue_bootstrap(*args):\n",
    "    revenue_list = [revenue(*args, x) for x in range(1000)]\n",
    "    revenue_series = pd.Series(revenue_list)\n",
    "    print(f'Доверительный интервал = {revenue_series.quantile(0.025)} - {revenue_series.quantile(0.975)}')\n",
    "    print(f'Средняя прибыль        = {revenue_series.mean()}')\n",
    "    print(f'Риск убытков           = {round(100 - (len(revenue_series.loc[revenue_series >= 0])/1000)*100,2)} %')\n",
    "    return"
   ]
  },
  {
   "cell_type": "code",
   "execution_count": 70,
   "metadata": {},
   "outputs": [
    {
     "name": "stdout",
     "output_type": "stream",
     "text": [
      "Доверительный интервал = -102060258.08811188 - 923950109.272003\n",
      "Средняя прибыль        = 425660296.4588938\n",
      "Риск убытков           = 5.8 %\n"
     ]
    }
   ],
   "source": [
    "revenue_bootstrap(res_mean_rmse_1['y_true'], res_mean_rmse_1['y_pred'])"
   ]
  },
  {
   "cell_type": "code",
   "execution_count": 71,
   "metadata": {},
   "outputs": [
    {
     "name": "stdout",
     "output_type": "stream",
     "text": [
      "Доверительный интервал = 91717732.2769165 - 875081112.5469208\n",
      "Средняя прибыль        = 477779668.70803833\n",
      "Риск убытков           = 0.9 %\n"
     ]
    }
   ],
   "source": [
    "revenue_bootstrap(res_mean_rmse_2['y_true'], res_mean_rmse_2['y_pred'])"
   ]
  },
  {
   "cell_type": "code",
   "execution_count": 72,
   "metadata": {},
   "outputs": [
    {
     "name": "stdout",
     "output_type": "stream",
     "text": [
      "Доверительный интервал = -145932964.3434286 - 869402555.0526003\n",
      "Средняя прибыль        = 384331351.84384066\n",
      "Риск убытков           = 8.0 %\n"
     ]
    }
   ],
   "source": [
    "revenue_bootstrap(res_mean_rmse_3['y_true'], res_mean_rmse_3['y_pred'])"
   ]
  },
  {
   "cell_type": "markdown",
   "metadata": {},
   "source": [
    "### 4.2 Выводы: предложение региона для разработки скважин и обоснование выбора.  "
   ]
  },
  {
   "cell_type": "markdown",
   "metadata": {},
   "source": [
    "Лучшим выбором из трёх регионов является второй регион (данные по которому хранятся в файле \"geo_data_1.csv\").  \n",
    "В этом регионе самый низкий риск убытков 0.9% против 5,8% и 8% в первом и третьем регионах соответственно, причём показатель средней прибыли на выбранных 200 скажинах выше, чем на других участках.  \n",
    "По всем значимым метрикам второй регион более предпочтительный, чем два других"
   ]
  },
  {
   "cell_type": "markdown",
   "metadata": {},
   "source": [
    "## 5 Выводы"
   ]
  },
  {
   "cell_type": "markdown",
   "metadata": {},
   "source": [
    "В процессе работы были проделаны следующие шаги: \n",
    "Данные были подготовлены к работе, удалены лишние столбцы, признаки отмасштабированы, изменены типы данных на более лёгкие.  \n",
    "Была обучена модель линейной регрессии, а также проанализированы результаты её работы.  \n",
    "Был рассчитан необходимый запас сырья в скважине для её безубыточной разработки.  \n",
    "Был проведён рассчёт средней прибыли и рисков уытков с помощью метода bootstrap.  \n",
    "В результате проведённой работы был рекомендован регион для разработки скважин и приведены обоснования рекомендаций."
   ]
  }
 ],
 "metadata": {
  "ExecuteTimeLog": [
   {
    "duration": 1217,
    "start_time": "2023-01-25T15:06:51.579Z"
   },
   {
    "duration": 4,
    "start_time": "2023-01-25T15:06:52.798Z"
   },
   {
    "duration": 1697,
    "start_time": "2023-01-25T15:06:52.803Z"
   },
   {
    "duration": 25,
    "start_time": "2023-01-25T15:06:54.503Z"
   },
   {
    "duration": 38,
    "start_time": "2023-01-25T15:06:54.532Z"
   },
   {
    "duration": 32,
    "start_time": "2023-01-25T15:06:54.573Z"
   },
   {
    "duration": 23,
    "start_time": "2023-01-25T15:06:54.608Z"
   },
   {
    "duration": 129,
    "start_time": "2023-01-25T15:06:54.633Z"
   },
   {
    "duration": 30,
    "start_time": "2023-01-25T15:06:54.765Z"
   },
   {
    "duration": 36,
    "start_time": "2023-01-25T15:06:54.799Z"
   },
   {
    "duration": 23,
    "start_time": "2023-01-25T15:06:54.837Z"
   },
   {
    "duration": 13,
    "start_time": "2023-01-25T15:06:54.862Z"
   },
   {
    "duration": 10,
    "start_time": "2023-01-25T15:06:54.878Z"
   },
   {
    "duration": 10,
    "start_time": "2023-01-25T15:06:54.922Z"
   },
   {
    "duration": 6,
    "start_time": "2023-01-25T15:06:54.934Z"
   },
   {
    "duration": 483,
    "start_time": "2023-01-25T15:06:54.942Z"
   },
   {
    "duration": 3,
    "start_time": "2023-01-25T15:06:55.427Z"
   },
   {
    "duration": 97,
    "start_time": "2023-01-25T15:06:55.432Z"
   },
   {
    "duration": 100,
    "start_time": "2023-01-25T15:06:55.531Z"
   },
   {
    "duration": 8,
    "start_time": "2023-01-25T15:06:55.633Z"
   },
   {
    "duration": 1710,
    "start_time": "2023-01-25T15:06:55.643Z"
   },
   {
    "duration": 1837,
    "start_time": "2023-01-25T15:06:57.355Z"
   },
   {
    "duration": 1731,
    "start_time": "2023-01-25T15:06:59.194Z"
   },
   {
    "duration": 4,
    "start_time": "2023-01-25T15:07:18.871Z"
   },
   {
    "duration": 1741,
    "start_time": "2023-01-25T15:07:19.114Z"
   },
   {
    "duration": 1645,
    "start_time": "2023-01-25T15:07:20.857Z"
   },
   {
    "duration": 1662,
    "start_time": "2023-01-25T15:07:22.504Z"
   },
   {
    "duration": 6,
    "start_time": "2023-01-25T15:07:40.279Z"
   },
   {
    "duration": 1764,
    "start_time": "2023-01-25T15:07:42.166Z"
   },
   {
    "duration": 1773,
    "start_time": "2023-01-25T15:07:45.732Z"
   },
   {
    "duration": 1711,
    "start_time": "2023-01-25T15:07:47.507Z"
   },
   {
    "duration": 5,
    "start_time": "2023-01-25T15:11:18.541Z"
   },
   {
    "duration": 14,
    "start_time": "2023-01-25T15:11:18.548Z"
   },
   {
    "duration": 456,
    "start_time": "2023-01-25T15:11:18.564Z"
   },
   {
    "duration": 26,
    "start_time": "2023-01-25T15:11:19.023Z"
   },
   {
    "duration": 13,
    "start_time": "2023-01-25T15:11:19.052Z"
   },
   {
    "duration": 16,
    "start_time": "2023-01-25T15:11:19.067Z"
   },
   {
    "duration": 39,
    "start_time": "2023-01-25T15:11:19.085Z"
   },
   {
    "duration": 116,
    "start_time": "2023-01-25T15:11:19.126Z"
   },
   {
    "duration": 20,
    "start_time": "2023-01-25T15:11:19.245Z"
   },
   {
    "duration": 20,
    "start_time": "2023-01-25T15:11:19.268Z"
   },
   {
    "duration": 46,
    "start_time": "2023-01-25T15:11:19.290Z"
   },
   {
    "duration": 14,
    "start_time": "2023-01-25T15:11:19.339Z"
   },
   {
    "duration": 12,
    "start_time": "2023-01-25T15:11:19.355Z"
   },
   {
    "duration": 11,
    "start_time": "2023-01-25T15:11:19.371Z"
   },
   {
    "duration": 38,
    "start_time": "2023-01-25T15:11:19.385Z"
   },
   {
    "duration": 305,
    "start_time": "2023-01-25T15:11:19.425Z"
   },
   {
    "duration": 4,
    "start_time": "2023-01-25T15:11:19.731Z"
   },
   {
    "duration": 93,
    "start_time": "2023-01-25T15:11:19.737Z"
   },
   {
    "duration": 10,
    "start_time": "2023-01-25T15:11:19.833Z"
   },
   {
    "duration": 19,
    "start_time": "2023-01-25T15:11:19.845Z"
   },
   {
    "duration": 1760,
    "start_time": "2023-01-25T15:11:19.866Z"
   },
   {
    "duration": 1832,
    "start_time": "2023-01-25T15:11:21.628Z"
   },
   {
    "duration": 1891,
    "start_time": "2023-01-25T15:11:23.462Z"
   },
   {
    "duration": 3102,
    "start_time": "2023-01-25T16:39:50.433Z"
   },
   {
    "duration": 3,
    "start_time": "2023-01-25T16:39:53.592Z"
   },
   {
    "duration": 1010,
    "start_time": "2023-01-25T16:39:53.597Z"
   },
   {
    "duration": 16,
    "start_time": "2023-01-25T16:39:54.608Z"
   },
   {
    "duration": 74,
    "start_time": "2023-01-25T16:39:54.626Z"
   },
   {
    "duration": 15,
    "start_time": "2023-01-25T16:39:54.701Z"
   },
   {
    "duration": 80,
    "start_time": "2023-01-25T16:39:54.717Z"
   },
   {
    "duration": 222,
    "start_time": "2023-01-25T16:39:54.799Z"
   },
   {
    "duration": 90,
    "start_time": "2023-01-25T16:39:55.023Z"
   },
   {
    "duration": 20,
    "start_time": "2023-01-25T16:39:55.192Z"
   },
   {
    "duration": 16,
    "start_time": "2023-01-25T16:39:55.214Z"
   },
   {
    "duration": 11,
    "start_time": "2023-01-25T16:39:55.292Z"
   },
   {
    "duration": 12,
    "start_time": "2023-01-25T16:39:55.304Z"
   },
   {
    "duration": 11,
    "start_time": "2023-01-25T16:39:55.318Z"
   },
   {
    "duration": 77,
    "start_time": "2023-01-25T16:39:55.330Z"
   },
   {
    "duration": 389,
    "start_time": "2023-01-25T16:39:55.410Z"
   },
   {
    "duration": 91,
    "start_time": "2023-01-25T16:39:55.801Z"
   },
   {
    "duration": 107,
    "start_time": "2023-01-25T16:39:55.894Z"
   },
   {
    "duration": 5,
    "start_time": "2023-01-25T16:39:56.003Z"
   },
   {
    "duration": 13,
    "start_time": "2023-01-25T16:39:56.010Z"
   },
   {
    "duration": 3973,
    "start_time": "2023-01-25T16:39:56.025Z"
   },
   {
    "duration": 3995,
    "start_time": "2023-01-25T16:40:00.000Z"
   },
   {
    "duration": 3434,
    "start_time": "2023-01-25T16:40:03.996Z"
   },
   {
    "duration": 3,
    "start_time": "2023-01-26T08:58:28.859Z"
   },
   {
    "duration": 3,
    "start_time": "2023-01-26T08:58:29.033Z"
   },
   {
    "duration": 2,
    "start_time": "2023-01-26T08:58:29.434Z"
   },
   {
    "duration": 11,
    "start_time": "2023-01-26T09:05:33.945Z"
   },
   {
    "duration": 49,
    "start_time": "2023-01-26T09:05:37.861Z"
   },
   {
    "duration": 1221,
    "start_time": "2023-01-26T09:05:55.470Z"
   },
   {
    "duration": 4,
    "start_time": "2023-01-26T09:05:56.695Z"
   },
   {
    "duration": 2185,
    "start_time": "2023-01-26T09:05:56.701Z"
   },
   {
    "duration": 24,
    "start_time": "2023-01-26T09:05:58.889Z"
   },
   {
    "duration": 24,
    "start_time": "2023-01-26T09:05:58.915Z"
   },
   {
    "duration": 16,
    "start_time": "2023-01-26T09:05:58.941Z"
   },
   {
    "duration": 21,
    "start_time": "2023-01-26T09:05:58.959Z"
   },
   {
    "duration": 110,
    "start_time": "2023-01-26T09:05:58.982Z"
   },
   {
    "duration": 2,
    "start_time": "2023-01-26T09:05:59.095Z"
   },
   {
    "duration": 11,
    "start_time": "2023-01-26T09:05:59.101Z"
   },
   {
    "duration": 5,
    "start_time": "2023-01-26T09:05:59.114Z"
   },
   {
    "duration": 22,
    "start_time": "2023-01-26T09:05:59.121Z"
   },
   {
    "duration": 33,
    "start_time": "2023-01-26T09:05:59.144Z"
   },
   {
    "duration": 26,
    "start_time": "2023-01-26T09:05:59.179Z"
   },
   {
    "duration": 8,
    "start_time": "2023-01-26T09:05:59.207Z"
   },
   {
    "duration": 367,
    "start_time": "2023-01-26T09:05:59.217Z"
   },
   {
    "duration": 6,
    "start_time": "2023-01-26T09:05:59.589Z"
   },
   {
    "duration": 94,
    "start_time": "2023-01-26T09:05:59.674Z"
   },
   {
    "duration": 9,
    "start_time": "2023-01-26T09:05:59.770Z"
   },
   {
    "duration": 9,
    "start_time": "2023-01-26T09:05:59.782Z"
   },
   {
    "duration": 1763,
    "start_time": "2023-01-26T09:05:59.793Z"
   },
   {
    "duration": 1594,
    "start_time": "2023-01-26T09:06:01.558Z"
   },
   {
    "duration": 1627,
    "start_time": "2023-01-26T09:06:03.153Z"
   },
   {
    "duration": 3,
    "start_time": "2023-01-26T09:15:23.189Z"
   },
   {
    "duration": 3,
    "start_time": "2023-01-26T09:16:23.989Z"
   },
   {
    "duration": 18,
    "start_time": "2023-01-26T09:16:23.994Z"
   },
   {
    "duration": 374,
    "start_time": "2023-01-26T09:16:24.014Z"
   },
   {
    "duration": 14,
    "start_time": "2023-01-26T09:16:24.389Z"
   },
   {
    "duration": 9,
    "start_time": "2023-01-26T09:16:24.405Z"
   },
   {
    "duration": 17,
    "start_time": "2023-01-26T09:16:24.415Z"
   },
   {
    "duration": 21,
    "start_time": "2023-01-26T09:16:24.433Z"
   },
   {
    "duration": 88,
    "start_time": "2023-01-26T09:16:24.456Z"
   },
   {
    "duration": 2,
    "start_time": "2023-01-26T09:16:24.546Z"
   },
   {
    "duration": 5,
    "start_time": "2023-01-26T09:16:24.550Z"
   },
   {
    "duration": 3,
    "start_time": "2023-01-26T09:16:24.566Z"
   },
   {
    "duration": 13,
    "start_time": "2023-01-26T09:16:24.570Z"
   },
   {
    "duration": 9,
    "start_time": "2023-01-26T09:16:24.585Z"
   },
   {
    "duration": 8,
    "start_time": "2023-01-26T09:16:24.596Z"
   },
   {
    "duration": 6,
    "start_time": "2023-01-26T09:16:24.606Z"
   },
   {
    "duration": 359,
    "start_time": "2023-01-26T09:16:24.614Z"
   },
   {
    "duration": 6,
    "start_time": "2023-01-26T09:16:24.976Z"
   },
   {
    "duration": 185,
    "start_time": "2023-01-26T09:16:24.983Z"
   },
   {
    "duration": 15,
    "start_time": "2023-01-26T09:16:25.170Z"
   },
   {
    "duration": 10,
    "start_time": "2023-01-26T09:16:25.187Z"
   },
   {
    "duration": 1564,
    "start_time": "2023-01-26T09:16:25.199Z"
   },
   {
    "duration": 1488,
    "start_time": "2023-01-26T09:16:26.764Z"
   },
   {
    "duration": 1517,
    "start_time": "2023-01-26T09:16:28.254Z"
   },
   {
    "duration": 20378,
    "start_time": "2023-01-26T09:25:40.596Z"
   },
   {
    "duration": 3728,
    "start_time": "2023-01-26T09:26:22.047Z"
   },
   {
    "duration": 78,
    "start_time": "2023-01-26T09:27:01.178Z"
   },
   {
    "duration": 1017,
    "start_time": "2023-01-26T09:27:06.072Z"
   },
   {
    "duration": 7222,
    "start_time": "2023-01-26T09:29:01.607Z"
   },
   {
    "duration": 6838,
    "start_time": "2023-01-26T09:34:57.550Z"
   },
   {
    "duration": 3553,
    "start_time": "2023-01-26T09:42:35.107Z"
   },
   {
    "duration": 1945,
    "start_time": "2023-01-26T09:42:38.662Z"
   },
   {
    "duration": 3,
    "start_time": "2023-01-26T09:42:40.609Z"
   },
   {
    "duration": 361,
    "start_time": "2023-01-26T09:42:40.613Z"
   },
   {
    "duration": 9045,
    "start_time": "2023-01-26T09:42:40.976Z"
   },
   {
    "duration": 11,
    "start_time": "2023-01-26T09:42:50.022Z"
   },
   {
    "duration": 13,
    "start_time": "2023-01-26T09:42:50.035Z"
   },
   {
    "duration": 64,
    "start_time": "2023-01-26T09:42:50.066Z"
   },
   {
    "duration": 2,
    "start_time": "2023-01-26T09:42:50.132Z"
   },
   {
    "duration": 5,
    "start_time": "2023-01-26T09:42:50.136Z"
   },
   {
    "duration": 4,
    "start_time": "2023-01-26T09:42:50.142Z"
   },
   {
    "duration": 26,
    "start_time": "2023-01-26T09:42:50.148Z"
   },
   {
    "duration": 18,
    "start_time": "2023-01-26T09:42:50.176Z"
   },
   {
    "duration": 7,
    "start_time": "2023-01-26T09:42:50.197Z"
   },
   {
    "duration": 5,
    "start_time": "2023-01-26T09:42:50.206Z"
   },
   {
    "duration": 271,
    "start_time": "2023-01-26T09:42:50.212Z"
   },
   {
    "duration": 85,
    "start_time": "2023-01-26T09:42:50.484Z"
   },
   {
    "duration": 102,
    "start_time": "2023-01-26T09:42:50.572Z"
   },
   {
    "duration": 4,
    "start_time": "2023-01-26T09:42:50.676Z"
   },
   {
    "duration": 5,
    "start_time": "2023-01-26T09:42:50.682Z"
   },
   {
    "duration": 1502,
    "start_time": "2023-01-26T09:42:50.689Z"
   },
   {
    "duration": 1550,
    "start_time": "2023-01-26T09:42:52.192Z"
   },
   {
    "duration": 1644,
    "start_time": "2023-01-26T09:42:53.744Z"
   }
  ],
  "kernelspec": {
   "display_name": "Python 3 (ipykernel)",
   "language": "python",
   "name": "python3"
  },
  "language_info": {
   "codemirror_mode": {
    "name": "ipython",
    "version": 3
   },
   "file_extension": ".py",
   "mimetype": "text/x-python",
   "name": "python",
   "nbconvert_exporter": "python",
   "pygments_lexer": "ipython3",
   "version": "3.9.13"
  },
  "toc": {
   "base_numbering": 1,
   "nav_menu": {},
   "number_sections": true,
   "sideBar": true,
   "skip_h1_title": true,
   "title_cell": "Table of Contents",
   "title_sidebar": "Contents",
   "toc_cell": false,
   "toc_position": {},
   "toc_section_display": true,
   "toc_window_display": false
  }
 },
 "nbformat": 4,
 "nbformat_minor": 4
}
