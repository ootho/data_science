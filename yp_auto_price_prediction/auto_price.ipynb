{
 "cells": [
  {
   "cell_type": "markdown",
   "metadata": {},
   "source": [
    "# Определение стоимости автомобилей"
   ]
  },
  {
   "attachments": {},
   "cell_type": "markdown",
   "metadata": {},
   "source": [
    "В нашем распоряжении исторические данные: технические характеристики, комплектации и цены автомобилей. Нужно построить модель для определения стоимости. \n",
    "\n",
    "Заказчику важны:\n",
    "\n",
    "- качество предсказания;\n",
    "- скорость предсказания;\n",
    "- время обучения."
   ]
  },
  {
   "cell_type": "markdown",
   "metadata": {},
   "source": [
    "## Подготовка данных"
   ]
  },
  {
   "cell_type": "markdown",
   "metadata": {},
   "source": [
    "Проверим установленные пакеты"
   ]
  },
  {
   "cell_type": "code",
   "execution_count": 127,
   "metadata": {},
   "outputs": [],
   "source": [
    "def check_if_installed(packages):\n",
    "    for package in packages:\n",
    "        try:\n",
    "            exec(f'import {package}')\n",
    "        except Exception as ex:\n",
    "            print(ex)\n",
    "            !pip install {package}\n",
    "            exec(f'import {package}')\n"
   ]
  },
  {
   "cell_type": "code",
   "execution_count": 128,
   "metadata": {},
   "outputs": [],
   "source": [
    "libs = [\n",
    "    'category_encoders',\n",
    "    'catboost',\n",
    "    'optuna',\n",
    "    'lightgbm',\n",
    "]\n",
    "\n",
    "check_if_installed(libs)\n"
   ]
  },
  {
   "cell_type": "code",
   "execution_count": 129,
   "metadata": {},
   "outputs": [],
   "source": [
    "import lightgbm"
   ]
  },
  {
   "cell_type": "markdown",
   "metadata": {},
   "source": [
    "Импортируем пакеты"
   ]
  },
  {
   "cell_type": "code",
   "execution_count": 130,
   "metadata": {},
   "outputs": [],
   "source": [
    "import pandas as pd\n",
    "import numpy as np\n",
    "import sklearn as sk\n",
    "import catboost as cb\n",
    "import os\n",
    "\n",
    "from sklearn.model_selection import train_test_split"
   ]
  },
  {
   "cell_type": "markdown",
   "metadata": {},
   "source": [
    "Получаем путь до файла и загружаем его"
   ]
  },
  {
   "cell_type": "code",
   "execution_count": 131,
   "metadata": {},
   "outputs": [],
   "source": [
    "BASE_DIR = os.getcwd()"
   ]
  },
  {
   "cell_type": "code",
   "execution_count": 132,
   "metadata": {},
   "outputs": [],
   "source": [
    "df = pd.read_csv(f'{BASE_DIR}/datasets/autos.csv')"
   ]
  },
  {
   "cell_type": "markdown",
   "metadata": {},
   "source": [
    "Первичное изучение данных"
   ]
  },
  {
   "cell_type": "code",
   "execution_count": 133,
   "metadata": {},
   "outputs": [
    {
     "data": {
      "text/html": [
       "<div>\n",
       "<style scoped>\n",
       "    .dataframe tbody tr th:only-of-type {\n",
       "        vertical-align: middle;\n",
       "    }\n",
       "\n",
       "    .dataframe tbody tr th {\n",
       "        vertical-align: top;\n",
       "    }\n",
       "\n",
       "    .dataframe thead th {\n",
       "        text-align: right;\n",
       "    }\n",
       "</style>\n",
       "<table border=\"1\" class=\"dataframe\">\n",
       "  <thead>\n",
       "    <tr style=\"text-align: right;\">\n",
       "      <th></th>\n",
       "      <th>DateCrawled</th>\n",
       "      <th>Price</th>\n",
       "      <th>VehicleType</th>\n",
       "      <th>RegistrationYear</th>\n",
       "      <th>Gearbox</th>\n",
       "      <th>Power</th>\n",
       "      <th>Model</th>\n",
       "      <th>Kilometer</th>\n",
       "      <th>RegistrationMonth</th>\n",
       "      <th>FuelType</th>\n",
       "      <th>Brand</th>\n",
       "      <th>Repaired</th>\n",
       "      <th>DateCreated</th>\n",
       "      <th>NumberOfPictures</th>\n",
       "      <th>PostalCode</th>\n",
       "      <th>LastSeen</th>\n",
       "    </tr>\n",
       "  </thead>\n",
       "  <tbody>\n",
       "    <tr>\n",
       "      <th>0</th>\n",
       "      <td>2016-03-24 11:52:17</td>\n",
       "      <td>480</td>\n",
       "      <td>NaN</td>\n",
       "      <td>1993</td>\n",
       "      <td>manual</td>\n",
       "      <td>0</td>\n",
       "      <td>golf</td>\n",
       "      <td>150000</td>\n",
       "      <td>0</td>\n",
       "      <td>petrol</td>\n",
       "      <td>volkswagen</td>\n",
       "      <td>NaN</td>\n",
       "      <td>2016-03-24 00:00:00</td>\n",
       "      <td>0</td>\n",
       "      <td>70435</td>\n",
       "      <td>2016-04-07 03:16:57</td>\n",
       "    </tr>\n",
       "    <tr>\n",
       "      <th>1</th>\n",
       "      <td>2016-03-24 10:58:45</td>\n",
       "      <td>18300</td>\n",
       "      <td>coupe</td>\n",
       "      <td>2011</td>\n",
       "      <td>manual</td>\n",
       "      <td>190</td>\n",
       "      <td>NaN</td>\n",
       "      <td>125000</td>\n",
       "      <td>5</td>\n",
       "      <td>gasoline</td>\n",
       "      <td>audi</td>\n",
       "      <td>yes</td>\n",
       "      <td>2016-03-24 00:00:00</td>\n",
       "      <td>0</td>\n",
       "      <td>66954</td>\n",
       "      <td>2016-04-07 01:46:50</td>\n",
       "    </tr>\n",
       "    <tr>\n",
       "      <th>2</th>\n",
       "      <td>2016-03-14 12:52:21</td>\n",
       "      <td>9800</td>\n",
       "      <td>suv</td>\n",
       "      <td>2004</td>\n",
       "      <td>auto</td>\n",
       "      <td>163</td>\n",
       "      <td>grand</td>\n",
       "      <td>125000</td>\n",
       "      <td>8</td>\n",
       "      <td>gasoline</td>\n",
       "      <td>jeep</td>\n",
       "      <td>NaN</td>\n",
       "      <td>2016-03-14 00:00:00</td>\n",
       "      <td>0</td>\n",
       "      <td>90480</td>\n",
       "      <td>2016-04-05 12:47:46</td>\n",
       "    </tr>\n",
       "    <tr>\n",
       "      <th>3</th>\n",
       "      <td>2016-03-17 16:54:04</td>\n",
       "      <td>1500</td>\n",
       "      <td>small</td>\n",
       "      <td>2001</td>\n",
       "      <td>manual</td>\n",
       "      <td>75</td>\n",
       "      <td>golf</td>\n",
       "      <td>150000</td>\n",
       "      <td>6</td>\n",
       "      <td>petrol</td>\n",
       "      <td>volkswagen</td>\n",
       "      <td>no</td>\n",
       "      <td>2016-03-17 00:00:00</td>\n",
       "      <td>0</td>\n",
       "      <td>91074</td>\n",
       "      <td>2016-03-17 17:40:17</td>\n",
       "    </tr>\n",
       "    <tr>\n",
       "      <th>4</th>\n",
       "      <td>2016-03-31 17:25:20</td>\n",
       "      <td>3600</td>\n",
       "      <td>small</td>\n",
       "      <td>2008</td>\n",
       "      <td>manual</td>\n",
       "      <td>69</td>\n",
       "      <td>fabia</td>\n",
       "      <td>90000</td>\n",
       "      <td>7</td>\n",
       "      <td>gasoline</td>\n",
       "      <td>skoda</td>\n",
       "      <td>no</td>\n",
       "      <td>2016-03-31 00:00:00</td>\n",
       "      <td>0</td>\n",
       "      <td>60437</td>\n",
       "      <td>2016-04-06 10:17:21</td>\n",
       "    </tr>\n",
       "  </tbody>\n",
       "</table>\n",
       "</div>"
      ],
      "text/plain": [
       "           DateCrawled  Price VehicleType  RegistrationYear Gearbox  Power  \\\n",
       "0  2016-03-24 11:52:17    480         NaN              1993  manual      0   \n",
       "1  2016-03-24 10:58:45  18300       coupe              2011  manual    190   \n",
       "2  2016-03-14 12:52:21   9800         suv              2004    auto    163   \n",
       "3  2016-03-17 16:54:04   1500       small              2001  manual     75   \n",
       "4  2016-03-31 17:25:20   3600       small              2008  manual     69   \n",
       "\n",
       "   Model  Kilometer  RegistrationMonth  FuelType       Brand Repaired  \\\n",
       "0   golf     150000                  0    petrol  volkswagen      NaN   \n",
       "1    NaN     125000                  5  gasoline        audi      yes   \n",
       "2  grand     125000                  8  gasoline        jeep      NaN   \n",
       "3   golf     150000                  6    petrol  volkswagen       no   \n",
       "4  fabia      90000                  7  gasoline       skoda       no   \n",
       "\n",
       "           DateCreated  NumberOfPictures  PostalCode             LastSeen  \n",
       "0  2016-03-24 00:00:00                 0       70435  2016-04-07 03:16:57  \n",
       "1  2016-03-24 00:00:00                 0       66954  2016-04-07 01:46:50  \n",
       "2  2016-03-14 00:00:00                 0       90480  2016-04-05 12:47:46  \n",
       "3  2016-03-17 00:00:00                 0       91074  2016-03-17 17:40:17  \n",
       "4  2016-03-31 00:00:00                 0       60437  2016-04-06 10:17:21  "
      ]
     },
     "execution_count": 133,
     "metadata": {},
     "output_type": "execute_result"
    }
   ],
   "source": [
    "df.head(5)"
   ]
  },
  {
   "cell_type": "code",
   "execution_count": 134,
   "metadata": {},
   "outputs": [
    {
     "name": "stdout",
     "output_type": "stream",
     "text": [
      "<class 'pandas.core.frame.DataFrame'>\n",
      "RangeIndex: 354369 entries, 0 to 354368\n",
      "Data columns (total 16 columns):\n",
      " #   Column             Non-Null Count   Dtype \n",
      "---  ------             --------------   ----- \n",
      " 0   DateCrawled        354369 non-null  object\n",
      " 1   Price              354369 non-null  int64 \n",
      " 2   VehicleType        316879 non-null  object\n",
      " 3   RegistrationYear   354369 non-null  int64 \n",
      " 4   Gearbox            334536 non-null  object\n",
      " 5   Power              354369 non-null  int64 \n",
      " 6   Model              334664 non-null  object\n",
      " 7   Kilometer          354369 non-null  int64 \n",
      " 8   RegistrationMonth  354369 non-null  int64 \n",
      " 9   FuelType           321474 non-null  object\n",
      " 10  Brand              354369 non-null  object\n",
      " 11  Repaired           283215 non-null  object\n",
      " 12  DateCreated        354369 non-null  object\n",
      " 13  NumberOfPictures   354369 non-null  int64 \n",
      " 14  PostalCode         354369 non-null  int64 \n",
      " 15  LastSeen           354369 non-null  object\n",
      "dtypes: int64(7), object(9)\n",
      "memory usage: 43.3+ MB\n"
     ]
    }
   ],
   "source": [
    "df.info()"
   ]
  },
  {
   "cell_type": "code",
   "execution_count": 135,
   "metadata": {},
   "outputs": [
    {
     "data": {
      "text/plain": [
       "DateCrawled          0.000000\n",
       "Price                0.000000\n",
       "VehicleType          0.118310\n",
       "RegistrationYear     0.000000\n",
       "Gearbox              0.059285\n",
       "Power                0.000000\n",
       "Model                0.058880\n",
       "Kilometer            0.000000\n",
       "RegistrationMonth    0.000000\n",
       "FuelType             0.102326\n",
       "Brand                0.000000\n",
       "Repaired             0.251237\n",
       "DateCreated          0.000000\n",
       "NumberOfPictures     0.000000\n",
       "PostalCode           0.000000\n",
       "LastSeen             0.000000\n",
       "dtype: float64"
      ]
     },
     "execution_count": 135,
     "metadata": {},
     "output_type": "execute_result"
    }
   ],
   "source": [
    "df.isna().sum()/df.count()"
   ]
  },
  {
   "cell_type": "markdown",
   "metadata": {},
   "source": [
    "## Удаление признаков"
   ]
  },
  {
   "cell_type": "markdown",
   "metadata": {},
   "source": [
    "Ряд признаков нам не понадобятся, можем их удалить"
   ]
  },
  {
   "cell_type": "code",
   "execution_count": 136,
   "metadata": {},
   "outputs": [],
   "source": [
    "df = df.drop(['DateCrawled', 'PostalCode','RegistrationMonth','NumberOfPictures', 'LastSeen'], axis=1)"
   ]
  },
  {
   "cell_type": "markdown",
   "metadata": {},
   "source": [
    "## Заполнение пропусков"
   ]
  },
  {
   "cell_type": "markdown",
   "metadata": {},
   "source": [
    "### FuelType"
   ]
  },
  {
   "cell_type": "code",
   "execution_count": 137,
   "metadata": {},
   "outputs": [
    {
     "data": {
      "text/plain": [
       "petrol      216352\n",
       "gasoline     98720\n",
       "lpg           5310\n",
       "cng            565\n",
       "hybrid         233\n",
       "other          204\n",
       "electric        90\n",
       "Name: FuelType, dtype: int64"
      ]
     },
     "execution_count": 137,
     "metadata": {},
     "output_type": "execute_result"
    }
   ],
   "source": [
    "df['FuelType'].value_counts()"
   ]
  },
  {
   "cell_type": "markdown",
   "metadata": {},
   "source": [
    "Признак `FuelType` содержит пропуски, заполним их новым значением."
   ]
  },
  {
   "cell_type": "code",
   "execution_count": 138,
   "metadata": {},
   "outputs": [
    {
     "data": {
      "text/plain": [
       "0"
      ]
     },
     "execution_count": 138,
     "metadata": {},
     "output_type": "execute_result"
    }
   ],
   "source": [
    "df['FuelType'] = df['FuelType'].fillna('unknown');\n",
    "df['FuelType'].isna().sum()"
   ]
  },
  {
   "cell_type": "markdown",
   "metadata": {},
   "source": [
    "### GearBox"
   ]
  },
  {
   "cell_type": "code",
   "execution_count": 139,
   "metadata": {},
   "outputs": [
    {
     "data": {
      "text/plain": [
       "manual    268251\n",
       "auto       66285\n",
       "Name: Gearbox, dtype: int64"
      ]
     },
     "execution_count": 139,
     "metadata": {},
     "output_type": "execute_result"
    }
   ],
   "source": [
    "df['Gearbox'].value_counts()"
   ]
  },
  {
   "cell_type": "markdown",
   "metadata": {},
   "source": [
    "Пропуски в признаке коробки передач не предсталяется возможным заполнить, также заполним их значением `unknown`"
   ]
  },
  {
   "cell_type": "code",
   "execution_count": 140,
   "metadata": {},
   "outputs": [],
   "source": [
    "df['Gearbox'] = df['Gearbox'].fillna('unknown')"
   ]
  },
  {
   "cell_type": "markdown",
   "metadata": {},
   "source": [
    "### VehicleType"
   ]
  },
  {
   "cell_type": "code",
   "execution_count": 141,
   "metadata": {},
   "outputs": [
    {
     "data": {
      "text/plain": [
       "sedan          91457\n",
       "small          79831\n",
       "wagon          65166\n",
       "bus            28775\n",
       "convertible    20203\n",
       "coupe          16163\n",
       "suv            11996\n",
       "other           3288\n",
       "Name: VehicleType, dtype: int64"
      ]
     },
     "execution_count": 141,
     "metadata": {},
     "output_type": "execute_result"
    }
   ],
   "source": [
    "df['VehicleType'].value_counts()"
   ]
  },
  {
   "cell_type": "markdown",
   "metadata": {},
   "source": [
    "Попробуем заполнить пропуски `VehicleType` поиском по аналогичным моделям в признаке `Model`. Предположим, что каждой модели соответствует один тип."
   ]
  },
  {
   "cell_type": "code",
   "execution_count": 142,
   "metadata": {},
   "outputs": [
    {
     "data": {
      "text/html": [
       "<div>\n",
       "<style scoped>\n",
       "    .dataframe tbody tr th:only-of-type {\n",
       "        vertical-align: middle;\n",
       "    }\n",
       "\n",
       "    .dataframe tbody tr th {\n",
       "        vertical-align: top;\n",
       "    }\n",
       "\n",
       "    .dataframe thead tr th {\n",
       "        text-align: left;\n",
       "    }\n",
       "\n",
       "    .dataframe thead tr:last-of-type th {\n",
       "        text-align: right;\n",
       "    }\n",
       "</style>\n",
       "<table border=\"1\" class=\"dataframe\">\n",
       "  <thead>\n",
       "    <tr>\n",
       "      <th></th>\n",
       "      <th colspan=\"2\" halign=\"left\">VehicleType</th>\n",
       "    </tr>\n",
       "    <tr>\n",
       "      <th></th>\n",
       "      <th>unique</th>\n",
       "      <th>nunique</th>\n",
       "    </tr>\n",
       "    <tr>\n",
       "      <th>Model</th>\n",
       "      <th></th>\n",
       "      <th></th>\n",
       "    </tr>\n",
       "  </thead>\n",
       "  <tbody>\n",
       "    <tr>\n",
       "      <th>100</th>\n",
       "      <td>[nan, wagon, sedan, coupe, convertible]</td>\n",
       "      <td>4</td>\n",
       "    </tr>\n",
       "    <tr>\n",
       "      <th>145</th>\n",
       "      <td>[nan, small, sedan, coupe, other]</td>\n",
       "      <td>4</td>\n",
       "    </tr>\n",
       "    <tr>\n",
       "      <th>147</th>\n",
       "      <td>[sedan, small, nan, wagon, coupe, suv, other]</td>\n",
       "      <td>6</td>\n",
       "    </tr>\n",
       "    <tr>\n",
       "      <th>156</th>\n",
       "      <td>[wagon, sedan, nan, coupe, other, small]</td>\n",
       "      <td>5</td>\n",
       "    </tr>\n",
       "    <tr>\n",
       "      <th>159</th>\n",
       "      <td>[sedan, wagon, nan]</td>\n",
       "      <td>2</td>\n",
       "    </tr>\n",
       "    <tr>\n",
       "      <th>...</th>\n",
       "      <td>...</td>\n",
       "      <td>...</td>\n",
       "    </tr>\n",
       "    <tr>\n",
       "      <th>yaris</th>\n",
       "      <td>[small, nan, bus, other, wagon, sedan]</td>\n",
       "      <td>5</td>\n",
       "    </tr>\n",
       "    <tr>\n",
       "      <th>yeti</th>\n",
       "      <td>[suv, nan, other, wagon]</td>\n",
       "      <td>3</td>\n",
       "    </tr>\n",
       "    <tr>\n",
       "      <th>ypsilon</th>\n",
       "      <td>[small, nan, convertible]</td>\n",
       "      <td>2</td>\n",
       "    </tr>\n",
       "    <tr>\n",
       "      <th>z_reihe</th>\n",
       "      <td>[convertible, coupe, nan, sedan]</td>\n",
       "      <td>3</td>\n",
       "    </tr>\n",
       "    <tr>\n",
       "      <th>zafira</th>\n",
       "      <td>[nan, bus, other, wagon, small, suv, sedan, co...</td>\n",
       "      <td>8</td>\n",
       "    </tr>\n",
       "  </tbody>\n",
       "</table>\n",
       "<p>250 rows × 2 columns</p>\n",
       "</div>"
      ],
      "text/plain": [
       "                                               VehicleType        \n",
       "                                                    unique nunique\n",
       "Model                                                             \n",
       "100                [nan, wagon, sedan, coupe, convertible]       4\n",
       "145                      [nan, small, sedan, coupe, other]       4\n",
       "147          [sedan, small, nan, wagon, coupe, suv, other]       6\n",
       "156               [wagon, sedan, nan, coupe, other, small]       5\n",
       "159                                    [sedan, wagon, nan]       2\n",
       "...                                                    ...     ...\n",
       "yaris               [small, nan, bus, other, wagon, sedan]       5\n",
       "yeti                              [suv, nan, other, wagon]       3\n",
       "ypsilon                          [small, nan, convertible]       2\n",
       "z_reihe                   [convertible, coupe, nan, sedan]       3\n",
       "zafira   [nan, bus, other, wagon, small, suv, sedan, co...       8\n",
       "\n",
       "[250 rows x 2 columns]"
      ]
     },
     "execution_count": 142,
     "metadata": {},
     "output_type": "execute_result"
    }
   ],
   "source": [
    "df.groupby('Model').agg({'VehicleType':['unique','nunique']})"
   ]
  },
  {
   "cell_type": "markdown",
   "metadata": {},
   "source": [
    "Предположение оказалось ложным, мы не сможем заполнить данные таким способом. Также заполним пропуски значением `unknown`"
   ]
  },
  {
   "cell_type": "code",
   "execution_count": 143,
   "metadata": {},
   "outputs": [
    {
     "data": {
      "text/plain": [
       "0"
      ]
     },
     "execution_count": 143,
     "metadata": {},
     "output_type": "execute_result"
    }
   ],
   "source": [
    "df['VehicleType'] = df['VehicleType'].fillna('unknown');\n",
    "df['VehicleType'].isna().sum()"
   ]
  },
  {
   "cell_type": "markdown",
   "metadata": {},
   "source": [
    "### Model"
   ]
  },
  {
   "cell_type": "code",
   "execution_count": 144,
   "metadata": {},
   "outputs": [
    {
     "data": {
      "text/plain": [
       "golf                  29232\n",
       "other                 24421\n",
       "3er                   19761\n",
       "polo                  13066\n",
       "corsa                 12570\n",
       "                      ...  \n",
       "i3                        8\n",
       "serie_3                   4\n",
       "rangerover                4\n",
       "range_rover_evoque        2\n",
       "serie_1                   2\n",
       "Name: Model, Length: 250, dtype: int64"
      ]
     },
     "execution_count": 144,
     "metadata": {},
     "output_type": "execute_result"
    }
   ],
   "source": [
    "df['Model'].value_counts()"
   ]
  },
  {
   "cell_type": "code",
   "execution_count": 145,
   "metadata": {},
   "outputs": [
    {
     "data": {
      "text/plain": [
       "0"
      ]
     },
     "execution_count": 145,
     "metadata": {},
     "output_type": "execute_result"
    }
   ],
   "source": [
    "df['Model'] = df['Model'].fillna('unknown');\n",
    "df['Model'].isna().sum()"
   ]
  },
  {
   "cell_type": "markdown",
   "metadata": {},
   "source": [
    "### Repaired"
   ]
  },
  {
   "cell_type": "code",
   "execution_count": 146,
   "metadata": {},
   "outputs": [
    {
     "data": {
      "text/plain": [
       "no     247161\n",
       "yes     36054\n",
       "Name: Repaired, dtype: int64"
      ]
     },
     "execution_count": 146,
     "metadata": {},
     "output_type": "execute_result"
    }
   ],
   "source": [
    "df['Repaired'].value_counts()"
   ]
  },
  {
   "cell_type": "markdown",
   "metadata": {},
   "source": [
    "Мы не можем удалить пропуски в признаке, как и заполнить их. Вводим новую категорию"
   ]
  },
  {
   "cell_type": "code",
   "execution_count": 147,
   "metadata": {},
   "outputs": [],
   "source": [
    "df['Repaired'] = df['Repaired'].fillna('unknown')"
   ]
  },
  {
   "cell_type": "code",
   "execution_count": 148,
   "metadata": {
    "scrolled": true
   },
   "outputs": [
    {
     "data": {
      "text/plain": [
       "Price               0\n",
       "VehicleType         0\n",
       "RegistrationYear    0\n",
       "Gearbox             0\n",
       "Power               0\n",
       "Model               0\n",
       "Kilometer           0\n",
       "FuelType            0\n",
       "Brand               0\n",
       "Repaired            0\n",
       "DateCreated         0\n",
       "dtype: int64"
      ]
     },
     "execution_count": 148,
     "metadata": {},
     "output_type": "execute_result"
    }
   ],
   "source": [
    "df.isna().sum()"
   ]
  },
  {
   "cell_type": "markdown",
   "metadata": {},
   "source": [
    "## Изменение данных"
   ]
  },
  {
   "cell_type": "markdown",
   "metadata": {},
   "source": [
    "Извлечём год и месяц из признака `DateCreated`, предположим что цена может зависеть от года когда опубликовано объвление (например для объявлений которые выставлены очень давно цена может быть снижена) и месяца (на стоимость автомобиля может влиять сезон года)."
   ]
  },
  {
   "cell_type": "code",
   "execution_count": 149,
   "metadata": {},
   "outputs": [],
   "source": [
    "df[\"DateCreated\"] = df[\"DateCreated\"].astype(\"datetime64\")\n",
    "# получаем информацию о годе\n",
    "df[\"CreatedYear\"] = df[\"DateCreated\"].dt.year\n",
    "# получаем информацию о месяце\n",
    "df[\"CreatedMonth\"] = df[\"DateCreated\"].dt.month\n",
    "df = df.drop(\"DateCreated\", axis=1)"
   ]
  },
  {
   "cell_type": "markdown",
   "metadata": {},
   "source": [
    "## Обработка выбросов и аномалий"
   ]
  },
  {
   "cell_type": "code",
   "execution_count": 150,
   "metadata": {},
   "outputs": [
    {
     "name": "stdout",
     "output_type": "stream",
     "text": [
      "<class 'pandas.core.frame.DataFrame'>\n",
      "RangeIndex: 354369 entries, 0 to 354368\n",
      "Data columns (total 12 columns):\n",
      " #   Column            Non-Null Count   Dtype \n",
      "---  ------            --------------   ----- \n",
      " 0   Price             354369 non-null  int64 \n",
      " 1   VehicleType       354369 non-null  object\n",
      " 2   RegistrationYear  354369 non-null  int64 \n",
      " 3   Gearbox           354369 non-null  object\n",
      " 4   Power             354369 non-null  int64 \n",
      " 5   Model             354369 non-null  object\n",
      " 6   Kilometer         354369 non-null  int64 \n",
      " 7   FuelType          354369 non-null  object\n",
      " 8   Brand             354369 non-null  object\n",
      " 9   Repaired          354369 non-null  object\n",
      " 10  CreatedYear       354369 non-null  int64 \n",
      " 11  CreatedMonth      354369 non-null  int64 \n",
      "dtypes: int64(6), object(6)\n",
      "memory usage: 32.4+ MB\n"
     ]
    }
   ],
   "source": [
    "df.info()"
   ]
  },
  {
   "cell_type": "markdown",
   "metadata": {},
   "source": [
    "Изучим значения количественных признаков на предмет аномалий:  \n",
    "Price, RegistrationYear, Power, Kilometer, CreatedYear, CreatedMonth"
   ]
  },
  {
   "cell_type": "code",
   "execution_count": 151,
   "metadata": {},
   "outputs": [
    {
     "name": "stdout",
     "output_type": "stream",
     "text": [
      "count    354369.000000\n",
      "mean       4416.656776\n",
      "std        4514.158514\n",
      "min           0.000000\n",
      "25%        1050.000000\n",
      "50%        2700.000000\n",
      "75%        6400.000000\n",
      "max       20000.000000\n",
      "Name: Price, dtype: float64\n",
      "\n",
      "count    354369.000000\n",
      "mean       2004.234448\n",
      "std          90.227958\n",
      "min        1000.000000\n",
      "25%        1999.000000\n",
      "50%        2003.000000\n",
      "75%        2008.000000\n",
      "max        9999.000000\n",
      "Name: RegistrationYear, dtype: float64\n",
      "\n",
      "count    354369.000000\n",
      "mean        110.094337\n",
      "std         189.850405\n",
      "min           0.000000\n",
      "25%          69.000000\n",
      "50%         105.000000\n",
      "75%         143.000000\n",
      "max       20000.000000\n",
      "Name: Power, dtype: float64\n",
      "\n",
      "count    354369.000000\n",
      "mean     128211.172535\n",
      "std       37905.341530\n",
      "min        5000.000000\n",
      "25%      125000.000000\n",
      "50%      150000.000000\n",
      "75%      150000.000000\n",
      "max      150000.000000\n",
      "Name: Kilometer, dtype: float64\n",
      "\n",
      "count    354369.000000\n",
      "mean       2015.999924\n",
      "std           0.009046\n",
      "min        2014.000000\n",
      "25%        2016.000000\n",
      "50%        2016.000000\n",
      "75%        2016.000000\n",
      "max        2016.000000\n",
      "Name: CreatedYear, dtype: float64\n",
      "\n",
      "count    354369.000000\n",
      "mean          3.160189\n",
      "std           0.376284\n",
      "min           1.000000\n",
      "25%           3.000000\n",
      "50%           3.000000\n",
      "75%           3.000000\n",
      "max          12.000000\n",
      "Name: CreatedMonth, dtype: float64\n",
      "\n"
     ]
    }
   ],
   "source": [
    "for i in df.columns:\n",
    "    if df[i].dtype=='int64':\n",
    "        print(df[i].describe(),end='\\n\\n')"
   ]
  },
  {
   "cell_type": "markdown",
   "metadata": {},
   "source": [
    "### Kilometer"
   ]
  },
  {
   "cell_type": "code",
   "execution_count": 152,
   "metadata": {},
   "outputs": [
    {
     "data": {
      "text/plain": [
       "150000    238209\n",
       "125000     36454\n",
       "100000     14882\n",
       "90000      11567\n",
       "80000      10047\n",
       "70000       8593\n",
       "60000       7444\n",
       "5000        6397\n",
       "50000       6232\n",
       "40000       4911\n",
       "30000       4436\n",
       "20000       3975\n",
       "10000       1222\n",
       "Name: Kilometer, dtype: int64"
      ]
     },
     "execution_count": 152,
     "metadata": {},
     "output_type": "execute_result"
    }
   ],
   "source": [
    "df['Kilometer'].value_counts()"
   ]
  },
  {
   "cell_type": "markdown",
   "metadata": {},
   "source": [
    "Аномалии обнаружены в столбцах `Price` , `RegistrationYear`, `Power`"
   ]
  },
  {
   "cell_type": "markdown",
   "metadata": {},
   "source": [
    "### Price"
   ]
  },
  {
   "cell_type": "code",
   "execution_count": 153,
   "metadata": {},
   "outputs": [
    {
     "data": {
      "text/plain": [
       "count    354369.000000\n",
       "mean       4416.656776\n",
       "std        4514.158514\n",
       "min           0.000000\n",
       "25%        1050.000000\n",
       "50%        2700.000000\n",
       "75%        6400.000000\n",
       "max       20000.000000\n",
       "Name: Price, dtype: float64"
      ]
     },
     "execution_count": 153,
     "metadata": {},
     "output_type": "execute_result"
    }
   ],
   "source": [
    "df['Price'].describe()"
   ]
  },
  {
   "cell_type": "code",
   "execution_count": 154,
   "metadata": {},
   "outputs": [
    {
     "data": {
      "text/plain": [
       "<AxesSubplot:>"
      ]
     },
     "execution_count": 154,
     "metadata": {},
     "output_type": "execute_result"
    },
    {
     "data": {
      "image/png": "[encoded data removed]",
      "text/plain": [
       "<Figure size 2000x500 with 1 Axes>"
      ]
     },
     "metadata": {},
     "output_type": "display_data"
    }
   ],
   "source": [
    "df['Price'].hist(bins=200, figsize=(20,5))"
   ]
  },
  {
   "cell_type": "markdown",
   "metadata": {},
   "source": [
    "Большое количетсво выбросов в нулевых значениях, все ненулевые значения не будем считать выбросами. Удалим строки с такими значениями, нет смысла пытаться их заполнить т.к. это целевой признак."
   ]
  },
  {
   "cell_type": "code",
   "execution_count": 155,
   "metadata": {},
   "outputs": [],
   "source": [
    "df = df[df['Price']!=0]"
   ]
  },
  {
   "cell_type": "markdown",
   "metadata": {},
   "source": [
    "### RegistrationYear"
   ]
  },
  {
   "cell_type": "code",
   "execution_count": 156,
   "metadata": {},
   "outputs": [
    {
     "data": {
      "text/plain": [
       "count    343597.000000\n",
       "mean       2004.089797\n",
       "std          78.413225\n",
       "min        1000.000000\n",
       "25%        1999.000000\n",
       "50%        2003.000000\n",
       "75%        2008.000000\n",
       "max        9999.000000\n",
       "Name: RegistrationYear, dtype: float64"
      ]
     },
     "execution_count": 156,
     "metadata": {},
     "output_type": "execute_result"
    }
   ],
   "source": [
    "df['RegistrationYear'].describe()"
   ]
  },
  {
   "cell_type": "code",
   "execution_count": 157,
   "metadata": {},
   "outputs": [
    {
     "name": "stdout",
     "output_type": "stream",
     "text": [
      "[1000, 1001, 1039, 1111, 1234, 1255, 1300, 1400, 1500, 1600, 1602, 1800, 1910, 1923, 1925, 1927, 1928, 1929, 1930, 1931, 1932, 1933, 1934, 1935, 1936, 1937, 1938, 1940, 1941, 1942, 1943, 1944, 1945, 1946, 1947, 1948, 1949, 1950, 1951, 1952, 1953, 1954, 1955, 1956, 1957, 1958, 1959, 1960, 1961, 1962, 1963, 1964, 1965, 1966, 1967, 1968, 1969, 1970, 1971, 1972, 1973, 1974, 1975, 1976, 1977, 1978, 1979, 1980, 1981, 1982, 1983, 1984, 1985, 1986, 1987, 1988, 1989, 1990, 1991, 1992, 1993, 1994, 1995, 1996, 1997, 1998, 1999, 2000, 2001, 2002, 2003, 2004, 2005, 2006, 2007, 2008, 2009, 2010, 2011, 2012, 2013, 2014, 2015, 2016, 2017, 2018, 2019, 2066, 2200, 2222, 2290, 2500, 2800, 2900, 3000, 3200, 3700, 3800, 4000, 4100, 4500, 4800, 5000, 5300, 5555, 5600, 5900, 5911, 6000, 6500, 7000, 7100, 7800, 8000, 8200, 8500, 8888, 9000, 9450, 9999]\n"
     ]
    }
   ],
   "source": [
    "print(sorted(list(df['RegistrationYear'].unique())))"
   ]
  },
  {
   "cell_type": "code",
   "execution_count": 158,
   "metadata": {},
   "outputs": [
    {
     "data": {
      "text/plain": [
       "2016    343571\n",
       "2015        25\n",
       "2014         1\n",
       "Name: CreatedYear, dtype: int64"
      ]
     },
     "execution_count": 158,
     "metadata": {},
     "output_type": "execute_result"
    }
   ],
   "source": [
    "df['CreatedYear'].value_counts()"
   ]
  },
  {
   "attachments": {},
   "cell_type": "markdown",
   "metadata": {},
   "source": [
    "Отбросим значения до 1910 года и после 2016, т.к. постановка на учёт не может быть позже чем выставлена анкета."
   ]
  },
  {
   "cell_type": "code",
   "execution_count": 159,
   "metadata": {},
   "outputs": [
    {
     "data": {
      "text/plain": [
       "count    329765.000000\n",
       "mean       2002.593583\n",
       "std           6.927865\n",
       "min        1910.000000\n",
       "25%        1999.000000\n",
       "50%        2003.000000\n",
       "75%        2007.000000\n",
       "max        2016.000000\n",
       "Name: RegistrationYear, dtype: float64"
      ]
     },
     "execution_count": 159,
     "metadata": {},
     "output_type": "execute_result"
    }
   ],
   "source": [
    "df = df[df['RegistrationYear']<=2016]\n",
    "df = df[df['RegistrationYear']>=1910]\n",
    "df['RegistrationYear'].describe()"
   ]
  },
  {
   "cell_type": "markdown",
   "metadata": {},
   "source": [
    "### Power"
   ]
  },
  {
   "cell_type": "code",
   "execution_count": 160,
   "metadata": {},
   "outputs": [
    {
     "data": {
      "text/plain": [
       "count    329765.000000\n",
       "mean        111.902179\n",
       "std         184.849228\n",
       "min           0.000000\n",
       "25%          71.000000\n",
       "50%         105.000000\n",
       "75%         143.000000\n",
       "max       20000.000000\n",
       "Name: Power, dtype: float64"
      ]
     },
     "execution_count": 160,
     "metadata": {},
     "output_type": "execute_result"
    }
   ],
   "source": [
    "df['Power'].describe()"
   ]
  },
  {
   "cell_type": "markdown",
   "metadata": {},
   "source": [
    "На основе исследования рынка примем автомобили мощностью ниже 30л.с. и выше 1000л.с. за выбросы. Исключим такие объекты из выборки."
   ]
  },
  {
   "cell_type": "code",
   "execution_count": 161,
   "metadata": {
    "scrolled": true
   },
   "outputs": [
    {
     "data": {
      "text/plain": [
       "count    295802.000000\n",
       "mean        121.017782\n",
       "std          54.655760\n",
       "min          30.000000\n",
       "25%          77.000000\n",
       "50%         111.000000\n",
       "75%         150.000000\n",
       "max        1000.000000\n",
       "Name: Power, dtype: float64"
      ]
     },
     "execution_count": 161,
     "metadata": {},
     "output_type": "execute_result"
    }
   ],
   "source": [
    "df = df[df['Power']<=1000]\n",
    "df = df[df['Power']>=30]\n",
    "df['Power'].describe()"
   ]
  },
  {
   "cell_type": "markdown",
   "metadata": {},
   "source": [
    "Изучим категориальные признаки на предмет аномалий."
   ]
  },
  {
   "cell_type": "code",
   "execution_count": 162,
   "metadata": {},
   "outputs": [],
   "source": [
    "cat_features = []\n",
    "num_features = []\n",
    "for i in df.columns:\n",
    "    if df[i].dtype=='object':\n",
    "        cat_features.append(i)\n",
    "    else:\n",
    "        num_features.append(i)\n",
    "num_features.remove('Price')"
   ]
  },
  {
   "cell_type": "markdown",
   "metadata": {},
   "source": [
    "Petrol и gasoline это буквально одно и то же, объединим эти категории."
   ]
  },
  {
   "cell_type": "code",
   "execution_count": 163,
   "metadata": {},
   "outputs": [],
   "source": [
    "df['FuelType'].replace('gasoline', 'petrol', inplace=True)"
   ]
  },
  {
   "cell_type": "code",
   "execution_count": 164,
   "metadata": {},
   "outputs": [
    {
     "data": {
      "text/plain": [
       "petrol      274852\n",
       "unknown      15480\n",
       "lpg           4687\n",
       "cng            483\n",
       "hybrid         202\n",
       "other           59\n",
       "electric        39\n",
       "Name: FuelType, dtype: int64"
      ]
     },
     "execution_count": 164,
     "metadata": {},
     "output_type": "execute_result"
    }
   ],
   "source": [
    "df['FuelType'].value_counts()"
   ]
  },
  {
   "cell_type": "markdown",
   "metadata": {},
   "source": [
    "**Вывод**\n",
    "  \n",
    "На этапе подготовки данных были удалены признаки не влияющие на обучения модели.  \n",
    "Пропуски в категориальных признаках заполнены категорией `unknown`.  \n",
    "Из признака `DateCreated` извлечены год и месяц публикации объявления, сам признак был удалён.  \n",
    "Были обработаны аномалии в данных.  \n"
   ]
  },
  {
   "cell_type": "markdown",
   "metadata": {},
   "source": [
    "## Подготовка данных к обучению"
   ]
  },
  {
   "cell_type": "markdown",
   "metadata": {},
   "source": [
    "Забегая вперёд, были проверены два варианта обработки пропусков, заполнение категорией `unknown` и удаления объектов с пропусками, второй подход показал себя лучше во всех используемых моделях без исключения. Удалим пропуски из данных."
   ]
  },
  {
   "cell_type": "code",
   "execution_count": 165,
   "metadata": {},
   "outputs": [],
   "source": [
    "for i in cat_features:\n",
    "    df.drop(df[df[i] == 'unknown'].index, axis=0, inplace=True)"
   ]
  },
  {
   "cell_type": "markdown",
   "metadata": {},
   "source": [
    "Разделим выборку на обучающую и тестовую"
   ]
  },
  {
   "cell_type": "code",
   "execution_count": 166,
   "metadata": {},
   "outputs": [],
   "source": [
    "features = df.drop('Price', axis=1)\n",
    "target = df['Price']\n",
    "features_train, features_test, target_train, target_test = train_test_split(features, target, test_size=0.25)"
   ]
  },
  {
   "cell_type": "markdown",
   "metadata": {},
   "source": [
    "## Обучение моделей"
   ]
  },
  {
   "cell_type": "markdown",
   "metadata": {},
   "source": [
    "### Linear Regression"
   ]
  },
  {
   "cell_type": "code",
   "execution_count": 167,
   "metadata": {},
   "outputs": [],
   "source": [
    "from sklearn.preprocessing import StandardScaler\n",
    "from sklearn.preprocessing import OneHotEncoder\n",
    "from category_encoders import CatBoostEncoder\n",
    "from category_encoders.count import CountEncoder\n",
    "from category_encoders.target_encoder import TargetEncoder\n",
    "\n",
    "from sklearn.linear_model import LinearRegression\n",
    "from sklearn.metrics import mean_squared_error\n",
    "from sklearn.pipeline import Pipeline\n",
    "from sklearn.compose import ColumnTransformer\n",
    "from sklearn.model_selection import cross_val_score"
   ]
  },
  {
   "cell_type": "code",
   "execution_count": 168,
   "metadata": {},
   "outputs": [],
   "source": [
    "# # создаем список кодировщиков, которые нужно протестировать\n",
    "# encoders = [\n",
    "#     ('cbe', CatBoostEncoder(), cat_features),\n",
    "#     ('oe', CountEncoder(), cat_features),\n",
    "#     ('te', TargetEncoder(), cat_features),\n",
    "#     ('ohe', OneHotEncoder(handle_unknown='ignore'), cat_features),\n",
    "# ]"
   ]
  },
  {
   "cell_type": "code",
   "execution_count": 169,
   "metadata": {},
   "outputs": [],
   "source": [
    "# for encoder in encoders:\n",
    "#     preprocessor = ColumnTransformer([\n",
    "#         encoder,\n",
    "#         ('scaler', StandardScaler(), num_features),\n",
    "#     ])\n",
    "\n",
    "#     pipe_lr = Pipeline([\n",
    "#         ('preprocessor', preprocessor),\n",
    "#         ('regressor', LinearRegression())\n",
    "#     ])\n",
    "\n",
    "#     scores = cross_val_score(\n",
    "#         pipe_lr,\n",
    "#         features_train, \n",
    "#         target_train,\n",
    "#         cv=5,\n",
    "#         scoring='neg_mean_squared_error',\n",
    "#     );\n",
    "    \n",
    "#     print(f'RMSE {(-scores.mean())**0.5}')"
   ]
  },
  {
   "cell_type": "markdown",
   "metadata": {},
   "source": [
    "Лучший результат Linear Regression:  \n",
    "RMSE: 2541  \n",
    "Encoder: OHE"
   ]
  },
  {
   "cell_type": "markdown",
   "metadata": {},
   "source": [
    "### Decision Tree"
   ]
  },
  {
   "cell_type": "code",
   "execution_count": null,
   "metadata": {},
   "outputs": [],
   "source": [
    "from sklearn.tree import DecisionTreeRegressor\n",
    "from sklearn.model_selection import GridSearchCV\n",
    "# создаем список кодировщиков, которые нужно протестировать\n",
    "encoders = [\n",
    "    ('cbe', CatBoostEncoder(), cat_features),\n",
    "    ('oe', CountEncoder(), cat_features),\n",
    "    ('te', TargetEncoder(), cat_features),\n",
    "    ('ohe', OneHotEncoder(handle_unknown='ignore'), cat_features),\n",
    "]\n",
    "for encoder in encoders:\n",
    "    preprocessor = ColumnTransformer([\n",
    "        encoder,\n",
    "        ('scaler', StandardScaler(), num_features),\n",
    "    ])\n",
    "\n",
    "    pipe_dt = Pipeline([\n",
    "        ('preprocessor', preprocessor),\n",
    "        ('regressor', DecisionTreeRegressor(random_state = 1))\n",
    "    ])\n",
    "\n",
    "    params = {\n",
    "        'regressor__max_depth': range(13,14)\n",
    "    }\n",
    "\n",
    "    grid = GridSearchCV(\n",
    "        estimator=pipe_dt,\n",
    "        param_grid=params,\n",
    "        cv=5,\n",
    "        n_jobs=-1,\n",
    "        scoring='neg_mean_squared_error',\n",
    "    )\n",
    "\n",
    "    grid.fit(features_train, target_train)\n",
    "\n",
    "    print(f'RMSE {(-grid.best_score_ )**0.5}')\n",
    "    print(f'RMSE {grid.best_params_ }')\n"
   ]
  },
  {
   "cell_type": "markdown",
   "metadata": {},
   "source": [
    "Лучший результат Decision Tree:  \n",
    "RMSE: 1811  \n",
    "Encoder: Target Encoder  \n",
    "Max_depth: 13"
   ]
  },
  {
   "cell_type": "markdown",
   "metadata": {},
   "source": [
    "### Random Forest"
   ]
  },
  {
   "cell_type": "code",
   "execution_count": 173,
   "metadata": {},
   "outputs": [],
   "source": [
    "from sklearn.ensemble import RandomForestRegressor\n",
    "from sklearn.model_selection import GridSearchCV"
   ]
  },
  {
   "cell_type": "code",
   "execution_count": 174,
   "metadata": {},
   "outputs": [],
   "source": [
    "# # создаем список кодировщиков, которые нужно протестировать\n",
    "# encoders = [\n",
    "#     ('cbe', CatBoostEncoder(), cat_features),\n",
    "#     ('oe', CountEncoder(), cat_features),\n",
    "#     ('te', TargetEncoder(), cat_features),\n",
    "#     ('ohe', OneHotEncoder(handle_unknown='ignore'), cat_features),\n",
    "# ]"
   ]
  },
  {
   "cell_type": "code",
   "execution_count": 175,
   "metadata": {},
   "outputs": [],
   "source": [
    "# for encoder in encoders:\n",
    "#     preprocessor = ColumnTransformer([\n",
    "#         encoder,\n",
    "#         ('scaler', StandardScaler(), num_features),\n",
    "#     ])\n",
    "\n",
    "#     pipe_dt = Pipeline([\n",
    "#         ('preprocessor', preprocessor),\n",
    "#         ('regressor', RandomForestRegressor(random_state=1))\n",
    "#     ])\n",
    "\n",
    "#     params = {\n",
    "#         'regressor__max_depth': [19],\n",
    "#         'regressor__n_estimators': [143],\n",
    "#     }\n",
    "\n",
    "#     grid = GridSearchCV(\n",
    "#         estimator=pipe_dt,\n",
    "#         param_grid=params,\n",
    "#         cv=5,\n",
    "#         n_jobs=-1,\n",
    "#         scoring='neg_mean_squared_error',\n",
    "#     )\n",
    "\n",
    "#     grid.fit(features_train, target_train)\n",
    "\n",
    "#     print(f'RMSE {(-grid.best_score_ )**0.5}')\n",
    "#     print(f'RMSE {grid.best_params_ }')\n"
   ]
  },
  {
   "cell_type": "markdown",
   "metadata": {},
   "source": [
    "Лучший результат Random Forest:  \n",
    "RMSE: 1563  \n",
    "Encoder: Target Encoder  \n",
    "Max Depth: 19  \n",
    "N_Estimators: 143  "
   ]
  },
  {
   "cell_type": "markdown",
   "metadata": {},
   "source": [
    "### LightGBM"
   ]
  },
  {
   "cell_type": "code",
   "execution_count": 176,
   "metadata": {},
   "outputs": [],
   "source": [
    "import lightgbm as lgb\n",
    "import optuna\n",
    "from optuna.integration import OptunaSearchCV"
   ]
  },
  {
   "cell_type": "code",
   "execution_count": 177,
   "metadata": {},
   "outputs": [],
   "source": [
    "# # создаем список кодировщиков, которые нужно протестировать\n",
    "# encoders = [\n",
    "#     ('cbe', CatBoostEncoder(), cat_features),\n",
    "#     ('oe', CountEncoder(), cat_features),\n",
    "#     ('te', TargetEncoder(), cat_features),\n",
    "#     ('ohe', OneHotEncoder(handle_unknown='ignore'), cat_features),\n",
    "# ]"
   ]
  },
  {
   "cell_type": "code",
   "execution_count": 178,
   "metadata": {},
   "outputs": [],
   "source": [
    "# for encoder in encoders:\n",
    "#     preprocessor = ColumnTransformer([\n",
    "#         encoder,\n",
    "#         ('scaler', StandardScaler(), num_features),\n",
    "#     ])\n",
    "    \n",
    "#     pipe = Pipeline(steps=[\n",
    "#         ('preprocessor', preprocessor), \n",
    "#         ('reg', lgb.LGBMRegressor(random_state=1))\n",
    "#     ])\n",
    "\n",
    "#     param_dist = {\n",
    "#         'reg__boosting_type':optuna.distributions.CategoricalDistribution(['gbdt', 'dart', 'goss']),\n",
    "#         'reg__learning_rate': optuna.distributions.FloatDistribution(0.1, 0.5, 0.05),\n",
    "#         'reg__n_estimators': optuna.distributions.IntDistribution(100, 300, 30),\n",
    "#         'reg__num_leaves': optuna.distributions.IntDistribution(10, 200, 15),\n",
    "#         'reg__max_depth': optuna.distributions.IntDistribution(6, 20, 2),\n",
    "#         'reg__subsample_for_bin': optuna.distributions.IntDistribution(1000, 200000, 1000),\n",
    "#         'reg__min_child_samples': optuna.distributions.IntDistribution(100, 500, 50),\n",
    "#         'reg__random_state': optuna.distributions.IntDistribution(1, 1000, 1),\n",
    "#         'reg__colsample_bytree': optuna.distributions.FloatDistribution(0.2, 1, 0.1)\n",
    "#         }\n",
    "    \n",
    "#     search_cv = OptunaSearchCV(\n",
    "#         estimator=pipe,\n",
    "#         param_distributions=param_dist,\n",
    "#         scoring='neg_root_mean_squared_error',\n",
    "#         verbose=-1,\n",
    "#         n_jobs=-1,\n",
    "#         n_trials=100,\n",
    "#         cv=5,\n",
    "#         random_state=1\n",
    "#     )\n",
    "\n",
    "#     search_cv.fit(features_train, target_train)\n",
    "#     print(- search_cv.best_score_, search_cv.best_estimator_)\n"
   ]
  },
  {
   "cell_type": "markdown",
   "metadata": {},
   "source": [
    "Лучший результат LGBMRegressor:  \n",
    "RMSE = 1538  \n",
    "Encoder = Target Encoder  \n",
    "colsample_bytree=0.966173162680882  \n",
    "learning_rate=0.20960160828429944  \n",
    "max_depth=14  \n",
    "min_child_samples=101  \n",
    "n_estimators=299  \n",
    "num_leaves=82  \n",
    "random_state=108  \n",
    "subsample_for_bin=4051  "
   ]
  },
  {
   "cell_type": "markdown",
   "metadata": {},
   "source": [
    "## Анализ моделей"
   ]
  },
  {
   "cell_type": "markdown",
   "metadata": {},
   "source": [
    "### Linear Regression:  "
   ]
  },
  {
   "cell_type": "markdown",
   "metadata": {},
   "source": [
    "Лучший результат Linear Regression:  \n",
    "RMSE: 2541  \n",
    "Encoder: OHE"
   ]
  },
  {
   "cell_type": "markdown",
   "metadata": {},
   "source": [
    "Линейная регрессия не соответствует условию `RMSE`<2500. Далее эту модель мы не рассматриваем."
   ]
  },
  {
   "cell_type": "markdown",
   "metadata": {},
   "source": [
    "### Подготовка к анализу моделей"
   ]
  },
  {
   "cell_type": "markdown",
   "metadata": {},
   "source": [
    "Т.к. все остальные модели показали лучший результат с `TargetEncoder` можем сразу закодировать признаки для всех моделей."
   ]
  },
  {
   "cell_type": "code",
   "execution_count": 179,
   "metadata": {},
   "outputs": [],
   "source": [
    "features_train, features_valid, target_train, target_valid = train_test_split(features_train, target_train, test_size=0.25)"
   ]
  },
  {
   "cell_type": "code",
   "execution_count": 180,
   "metadata": {},
   "outputs": [],
   "source": [
    "cat_encoder = TargetEncoder()\n",
    "features_train = cat_encoder.fit_transform(features_train, target_train);\n",
    "features_valid = cat_encoder.transform(features_valid);\n",
    "features_test = cat_encoder.transform(features_test);"
   ]
  },
  {
   "cell_type": "markdown",
   "metadata": {},
   "source": [
    "Напишем функции для оценки времени работы моделей"
   ]
  },
  {
   "cell_type": "code",
   "execution_count": 181,
   "metadata": {},
   "outputs": [],
   "source": [
    "import time\n",
    "\n",
    "def train_model(model, X_train, y_train):\n",
    "    start_time = time.time()\n",
    "    model.fit(X_train, y_train)\n",
    "    end_time = time.time()\n",
    "    return (model, f'{end_time - start_time:.4f}')\n",
    "\n",
    "def predict_model(model, X_train):\n",
    "    start_time = time.time()\n",
    "    prediction = model.predict(X_train)\n",
    "    end_time = time.time()\n",
    "    return (prediction, f'{end_time - start_time:.4f}')"
   ]
  },
  {
   "cell_type": "markdown",
   "metadata": {},
   "source": [
    "### Decision Tree"
   ]
  },
  {
   "cell_type": "markdown",
   "metadata": {},
   "source": [
    "Лучший результат Decision Tree:  \n",
    "RMSE: 1811  \n",
    "Encoder: Target Encoder  \n",
    "Max_depth: 13"
   ]
  },
  {
   "cell_type": "code",
   "execution_count": 182,
   "metadata": {},
   "outputs": [],
   "source": [
    "model_dt =  DecisionTreeRegressor(\n",
    "    random_state=1,\n",
    "    max_depth=13,\n",
    ")\n",
    "\n",
    "model_dt, train_time = train_model(model_dt, features_train, target_train)\n",
    "prediction, prediction_time = predict_model(model_dt, features_valid)\n",
    "rmse = mean_squared_error(target_valid, prediction)**0.5\n",
    "\n",
    "dt_dict = {\n",
    "    'Model': 'Decision Tree',\n",
    "    'RMSE': rmse,\n",
    "    'Fit time' : train_time,\n",
    "    'Predict time' : prediction_time,\n",
    "}"
   ]
  },
  {
   "cell_type": "code",
   "execution_count": 183,
   "metadata": {},
   "outputs": [
    {
     "data": {
      "text/plain": [
       "{'Model': 'Decision Tree',\n",
       " 'RMSE': 1811.4119282713457,\n",
       " 'Fit time': '0.4170',\n",
       " 'Predict time': '0.0150'}"
      ]
     },
     "execution_count": 183,
     "metadata": {},
     "output_type": "execute_result"
    }
   ],
   "source": [
    "dt_dict"
   ]
  },
  {
   "cell_type": "markdown",
   "metadata": {},
   "source": [
    "### Random Forest"
   ]
  },
  {
   "cell_type": "markdown",
   "metadata": {},
   "source": [
    "Лучший результат Random Forest:  \n",
    "RMSE: 1563  \n",
    "Enсoder: Target Encoder  \n",
    "Max Depth: 19  \n",
    "N_Estimators: 143  "
   ]
  },
  {
   "cell_type": "code",
   "execution_count": 184,
   "metadata": {},
   "outputs": [],
   "source": [
    "model_rf = RandomForestRegressor(\n",
    "    random_state=1,\n",
    "    max_depth=19,\n",
    "    n_estimators=143,\n",
    ")\n",
    "\n",
    "model_rf, train_time = train_model(model_rf, features_train, target_train)\n",
    "prediction, prediction_time = predict_model(model_rf, features_valid)\n",
    "rmse = mean_squared_error(target_valid, prediction)**0.5\n",
    "\n",
    "rf_dict = {\n",
    "    'Model': 'Random Forest',\n",
    "    'RMSE': rmse,\n",
    "    'Fit time' : train_time,\n",
    "    'Predict time' : prediction_time,\n",
    "}"
   ]
  },
  {
   "cell_type": "code",
   "execution_count": 185,
   "metadata": {},
   "outputs": [
    {
     "data": {
      "text/plain": [
       "{'Model': 'Random Forest',\n",
       " 'RMSE': 1565.943555971756,\n",
       " 'Fit time': '55.9672',\n",
       " 'Predict time': '1.8300'}"
      ]
     },
     "execution_count": 185,
     "metadata": {},
     "output_type": "execute_result"
    }
   ],
   "source": [
    "rf_dict"
   ]
  },
  {
   "cell_type": "markdown",
   "metadata": {},
   "source": [
    "### LightGBM"
   ]
  },
  {
   "cell_type": "markdown",
   "metadata": {},
   "source": [
    "Лучший результат LGBMRegressor:  \n",
    "RMSE = 1538  \n",
    "Encoder = Target Encoder  \n",
    "colsample_bytree=0.966173162680882  \n",
    "learning_rate=0.20960160828429944  \n",
    "max_depth=14  \n",
    "min_child_samples=101  \n",
    "n_estimators=299  \n",
    "num_leaves=82  \n",
    "random_state=108  \n",
    "subsample_for_bin=4051  "
   ]
  },
  {
   "cell_type": "code",
   "execution_count": 186,
   "metadata": {},
   "outputs": [],
   "source": [
    "model_lgbm = lightgbm.LGBMRegressor(\n",
    "    colsample_bytree=0.966173162680882,\n",
    "    learning_rate=0.20960160828429944,\n",
    "    max_depth=14,\n",
    "    min_child_samples=101, \n",
    "    n_estimators=299,\n",
    "    num_leaves=82, \n",
    "    random_state=108,\n",
    "    subsample_for_bin=4051\n",
    ")"
   ]
  },
  {
   "cell_type": "code",
   "execution_count": 187,
   "metadata": {},
   "outputs": [],
   "source": [
    "model_lgbm, train_time = train_model(model_lgbm, features_train, target_train)\n",
    "prediction, prediction_time = predict_model(model_lgbm, features_valid)\n",
    "rmse = mean_squared_error(target_valid, prediction)**0.5\n",
    "\n",
    "lgbm_dict = {\n",
    "    'Model': 'LightGBM',\n",
    "    'RMSE': rmse,\n",
    "    'Fit time' : train_time,\n",
    "    'Predict time' : prediction_time,\n",
    "}"
   ]
  },
  {
   "cell_type": "code",
   "execution_count": 188,
   "metadata": {},
   "outputs": [
    {
     "data": {
      "text/plain": [
       "{'Model': 'LightGBM',\n",
       " 'RMSE': 1521.62871332792,\n",
       " 'Fit time': '1.9020',\n",
       " 'Predict time': '0.4860'}"
      ]
     },
     "execution_count": 188,
     "metadata": {},
     "output_type": "execute_result"
    }
   ],
   "source": [
    "lgbm_dict"
   ]
  },
  {
   "cell_type": "markdown",
   "metadata": {},
   "source": [
    "### Сравнение моделей"
   ]
  },
  {
   "cell_type": "code",
   "execution_count": 189,
   "metadata": {},
   "outputs": [
    {
     "data": {
      "text/html": [
       "<div>\n",
       "<style scoped>\n",
       "    .dataframe tbody tr th:only-of-type {\n",
       "        vertical-align: middle;\n",
       "    }\n",
       "\n",
       "    .dataframe tbody tr th {\n",
       "        vertical-align: top;\n",
       "    }\n",
       "\n",
       "    .dataframe thead th {\n",
       "        text-align: right;\n",
       "    }\n",
       "</style>\n",
       "<table border=\"1\" class=\"dataframe\">\n",
       "  <thead>\n",
       "    <tr style=\"text-align: right;\">\n",
       "      <th></th>\n",
       "      <th>Model</th>\n",
       "      <th>RMSE</th>\n",
       "      <th>Fit time</th>\n",
       "      <th>Predict time</th>\n",
       "    </tr>\n",
       "  </thead>\n",
       "  <tbody>\n",
       "    <tr>\n",
       "      <th>0</th>\n",
       "      <td>Decision Tree</td>\n",
       "      <td>1811.411928</td>\n",
       "      <td>0.4170</td>\n",
       "      <td>0.0150</td>\n",
       "    </tr>\n",
       "    <tr>\n",
       "      <th>1</th>\n",
       "      <td>Random Forest</td>\n",
       "      <td>1565.943556</td>\n",
       "      <td>55.9672</td>\n",
       "      <td>1.8300</td>\n",
       "    </tr>\n",
       "    <tr>\n",
       "      <th>2</th>\n",
       "      <td>LightGBM</td>\n",
       "      <td>1521.628713</td>\n",
       "      <td>1.9020</td>\n",
       "      <td>0.4860</td>\n",
       "    </tr>\n",
       "  </tbody>\n",
       "</table>\n",
       "</div>"
      ],
      "text/plain": [
       "           Model         RMSE Fit time Predict time\n",
       "0  Decision Tree  1811.411928   0.4170       0.0150\n",
       "1  Random Forest  1565.943556  55.9672       1.8300\n",
       "2       LightGBM  1521.628713   1.9020       0.4860"
      ]
     },
     "execution_count": 189,
     "metadata": {},
     "output_type": "execute_result"
    }
   ],
   "source": [
    "analysis_table = pd.DataFrame.from_dict([dt_dict, rf_dict, lgbm_dict])\n",
    "analysis_table"
   ]
  },
  {
   "cell_type": "markdown",
   "metadata": {},
   "source": [
    "Однозначно следует исключить `Random Forest`, эта модель не обладает ни одним преимуществом при решении поставленой задачи.  \n",
    "У оставшихся моделей есть свои преимущества и недостатки:  \n",
    "- выбираем `LightGBM`, если нам важнее показатель RMSE;  \n",
    "- выбираем `Decision Tree`, если нам важнее скорость обучения и предсказания (~0.4 секунды суммарно).  "
   ]
  },
  {
   "attachments": {},
   "cell_type": "markdown",
   "metadata": {},
   "source": [
    "Для теста выбираем `Decision Tree`"
   ]
  },
  {
   "attachments": {},
   "cell_type": "markdown",
   "metadata": {},
   "source": [
    "### Тестирование модели"
   ]
  },
  {
   "cell_type": "code",
   "execution_count": 190,
   "metadata": {},
   "outputs": [],
   "source": [
    "prediction, prediction_time = predict_model(model_dt, features_test)\n",
    "rmse = mean_squared_error(target_test, prediction)**0.5\n",
    "\n",
    "dt_dict = {\n",
    "    'Model': 'Decision Tree',\n",
    "    'RMSE': rmse,\n",
    "    'Fit time' : train_time,\n",
    "    'Predict time' : prediction_time,\n",
    "}"
   ]
  },
  {
   "cell_type": "code",
   "execution_count": 191,
   "metadata": {},
   "outputs": [
    {
     "data": {
      "text/plain": [
       "{'Model': 'Decision Tree',\n",
       " 'RMSE': 1837.4357792914006,\n",
       " 'Fit time': '1.9020',\n",
       " 'Predict time': '0.0260'}"
      ]
     },
     "execution_count": 191,
     "metadata": {},
     "output_type": "execute_result"
    }
   ],
   "source": [
    "dt_dict"
   ]
  },
  {
   "attachments": {},
   "cell_type": "markdown",
   "metadata": {},
   "source": [
    "На тестовой выборке модель показала результат схожий с валидационной из чего заключаем, что модель обучена корректно и может быть предложена к дальнейшему использованию."
   ]
  },
  {
   "cell_type": "markdown",
   "metadata": {},
   "source": [
    "## Вывод"
   ]
  },
  {
   "cell_type": "markdown",
   "metadata": {},
   "source": [
    "В ходе работы были проведёны анализ и предобратка исходных данных.  \n",
    "На обработанных данных были обучены 4 различные модели.  \n",
    "Для каждой модели подобраны гиперпараметры показавшие лучший результат на метрике `RMSE`.  \n",
    "Был проведён анализ качества обучения и времени обучения и предсказания лучших моделей и выбраны следующие две:\n",
    " - LightGBM - если в приоритете метрика RMSE;\n",
    " - DecisionTree - если приоритет на скорости обучения и предсказания."
   ]
  }
 ],
 "metadata": {
  "ExecuteTimeLog": [
   {
    "duration": 14,
    "start_time": "2023-03-17T10:31:32.116Z"
   },
   {
    "duration": 11898,
    "start_time": "2023-03-17T10:31:32.132Z"
   },
   {
    "duration": 6,
    "start_time": "2023-03-17T10:31:44.038Z"
   },
   {
    "duration": 9,
    "start_time": "2023-03-17T10:31:44.046Z"
   },
   {
    "duration": 211,
    "start_time": "2023-03-17T10:31:44.058Z"
   },
   {
    "duration": 0,
    "start_time": "2023-03-17T10:31:44.276Z"
   },
   {
    "duration": 0,
    "start_time": "2023-03-17T10:31:44.278Z"
   },
   {
    "duration": 0,
    "start_time": "2023-03-17T10:31:44.279Z"
   },
   {
    "duration": 0,
    "start_time": "2023-03-17T10:31:44.288Z"
   },
   {
    "duration": 0,
    "start_time": "2023-03-17T10:31:44.291Z"
   },
   {
    "duration": 0,
    "start_time": "2023-03-17T10:31:44.292Z"
   },
   {
    "duration": 0,
    "start_time": "2023-03-17T10:31:44.292Z"
   },
   {
    "duration": 0,
    "start_time": "2023-03-17T10:31:44.293Z"
   },
   {
    "duration": 0,
    "start_time": "2023-03-17T10:31:44.296Z"
   },
   {
    "duration": 0,
    "start_time": "2023-03-17T10:31:44.298Z"
   },
   {
    "duration": 0,
    "start_time": "2023-03-17T10:31:44.299Z"
   },
   {
    "duration": 0,
    "start_time": "2023-03-17T10:31:44.302Z"
   },
   {
    "duration": 0,
    "start_time": "2023-03-17T10:31:44.304Z"
   },
   {
    "duration": 0,
    "start_time": "2023-03-17T10:31:44.306Z"
   },
   {
    "duration": 0,
    "start_time": "2023-03-17T10:31:44.307Z"
   },
   {
    "duration": 0,
    "start_time": "2023-03-17T10:31:44.312Z"
   },
   {
    "duration": 0,
    "start_time": "2023-03-17T10:31:44.314Z"
   },
   {
    "duration": 0,
    "start_time": "2023-03-17T10:31:44.315Z"
   },
   {
    "duration": 0,
    "start_time": "2023-03-17T10:31:44.317Z"
   },
   {
    "duration": 0,
    "start_time": "2023-03-17T10:31:44.318Z"
   },
   {
    "duration": 0,
    "start_time": "2023-03-17T10:31:44.320Z"
   },
   {
    "duration": 0,
    "start_time": "2023-03-17T10:31:44.322Z"
   },
   {
    "duration": 0,
    "start_time": "2023-03-17T10:31:44.324Z"
   },
   {
    "duration": 0,
    "start_time": "2023-03-17T10:31:44.327Z"
   },
   {
    "duration": 0,
    "start_time": "2023-03-17T10:31:44.329Z"
   },
   {
    "duration": 0,
    "start_time": "2023-03-17T10:31:44.330Z"
   },
   {
    "duration": 0,
    "start_time": "2023-03-17T10:31:44.332Z"
   },
   {
    "duration": 0,
    "start_time": "2023-03-17T10:31:44.334Z"
   },
   {
    "duration": 0,
    "start_time": "2023-03-17T10:31:44.335Z"
   },
   {
    "duration": 0,
    "start_time": "2023-03-17T10:31:44.336Z"
   },
   {
    "duration": 1,
    "start_time": "2023-03-17T10:31:44.337Z"
   },
   {
    "duration": 0,
    "start_time": "2023-03-17T10:31:44.339Z"
   },
   {
    "duration": 0,
    "start_time": "2023-03-17T10:31:44.341Z"
   },
   {
    "duration": 0,
    "start_time": "2023-03-17T10:31:44.342Z"
   },
   {
    "duration": 0,
    "start_time": "2023-03-17T10:31:44.344Z"
   },
   {
    "duration": 0,
    "start_time": "2023-03-17T10:31:44.348Z"
   },
   {
    "duration": 0,
    "start_time": "2023-03-17T10:31:44.350Z"
   },
   {
    "duration": 0,
    "start_time": "2023-03-17T10:31:44.352Z"
   },
   {
    "duration": 0,
    "start_time": "2023-03-17T10:31:44.356Z"
   },
   {
    "duration": 0,
    "start_time": "2023-03-17T10:31:44.357Z"
   },
   {
    "duration": 0,
    "start_time": "2023-03-17T10:31:44.359Z"
   },
   {
    "duration": 0,
    "start_time": "2023-03-17T10:31:44.360Z"
   },
   {
    "duration": 0,
    "start_time": "2023-03-17T10:31:44.362Z"
   },
   {
    "duration": 0,
    "start_time": "2023-03-17T10:31:44.363Z"
   },
   {
    "duration": 0,
    "start_time": "2023-03-17T10:31:44.365Z"
   },
   {
    "duration": 0,
    "start_time": "2023-03-17T10:31:44.387Z"
   },
   {
    "duration": 0,
    "start_time": "2023-03-17T10:31:44.392Z"
   },
   {
    "duration": 0,
    "start_time": "2023-03-17T10:31:44.393Z"
   },
   {
    "duration": 0,
    "start_time": "2023-03-17T10:31:44.394Z"
   },
   {
    "duration": 0,
    "start_time": "2023-03-17T10:31:44.400Z"
   },
   {
    "duration": 0,
    "start_time": "2023-03-17T10:31:44.401Z"
   },
   {
    "duration": 0,
    "start_time": "2023-03-17T10:31:44.402Z"
   },
   {
    "duration": 1,
    "start_time": "2023-03-17T10:31:44.410Z"
   },
   {
    "duration": 0,
    "start_time": "2023-03-17T10:31:44.419Z"
   },
   {
    "duration": 46,
    "start_time": "2023-03-17T10:32:05.949Z"
   },
   {
    "duration": 3706,
    "start_time": "2023-03-17T10:33:42.419Z"
   },
   {
    "duration": 5,
    "start_time": "2023-03-17T10:33:51.355Z"
   },
   {
    "duration": 9,
    "start_time": "2023-03-17T10:33:51.363Z"
   },
   {
    "duration": 13,
    "start_time": "2023-03-17T10:33:51.374Z"
   },
   {
    "duration": 8,
    "start_time": "2023-03-17T10:33:51.393Z"
   },
   {
    "duration": 1139,
    "start_time": "2023-03-17T10:33:51.403Z"
   },
   {
    "duration": 22,
    "start_time": "2023-03-17T10:33:52.544Z"
   },
   {
    "duration": 209,
    "start_time": "2023-03-17T10:33:52.569Z"
   },
   {
    "duration": 322,
    "start_time": "2023-03-17T10:33:52.780Z"
   },
   {
    "duration": 27,
    "start_time": "2023-03-17T10:33:53.108Z"
   },
   {
    "duration": 55,
    "start_time": "2023-03-17T10:33:53.137Z"
   },
   {
    "duration": 58,
    "start_time": "2023-03-17T10:33:53.193Z"
   },
   {
    "duration": 63,
    "start_time": "2023-03-17T10:33:53.254Z"
   },
   {
    "duration": 31,
    "start_time": "2023-03-17T10:33:53.319Z"
   },
   {
    "duration": 43,
    "start_time": "2023-03-17T10:33:53.353Z"
   },
   {
    "duration": 198,
    "start_time": "2023-03-17T10:33:53.407Z"
   },
   {
    "duration": 73,
    "start_time": "2023-03-17T10:33:53.613Z"
   },
   {
    "duration": 68,
    "start_time": "2023-03-17T10:33:53.696Z"
   },
   {
    "duration": 74,
    "start_time": "2023-03-17T10:33:53.767Z"
   },
   {
    "duration": 59,
    "start_time": "2023-03-17T10:33:53.843Z"
   },
   {
    "duration": 34,
    "start_time": "2023-03-17T10:33:53.904Z"
   },
   {
    "duration": 190,
    "start_time": "2023-03-17T10:33:53.940Z"
   },
   {
    "duration": 235,
    "start_time": "2023-03-17T10:33:54.132Z"
   },
   {
    "duration": 173,
    "start_time": "2023-03-17T10:33:54.370Z"
   },
   {
    "duration": 111,
    "start_time": "2023-03-17T10:33:54.548Z"
   },
   {
    "duration": 12,
    "start_time": "2023-03-17T10:33:54.662Z"
   },
   {
    "duration": 40,
    "start_time": "2023-03-17T10:33:54.676Z"
   },
   {
    "duration": 1293,
    "start_time": "2023-03-17T10:33:54.718Z"
   },
   {
    "duration": 38,
    "start_time": "2023-03-17T10:33:56.013Z"
   },
   {
    "duration": 24,
    "start_time": "2023-03-17T10:33:56.053Z"
   },
   {
    "duration": 9,
    "start_time": "2023-03-17T10:33:56.089Z"
   },
   {
    "duration": 92,
    "start_time": "2023-03-17T10:33:56.106Z"
   },
   {
    "duration": 26,
    "start_time": "2023-03-17T10:33:56.202Z"
   },
   {
    "duration": 77,
    "start_time": "2023-03-17T10:33:56.230Z"
   },
   {
    "duration": 6,
    "start_time": "2023-03-17T10:33:56.309Z"
   },
   {
    "duration": 28,
    "start_time": "2023-03-17T10:33:56.317Z"
   },
   {
    "duration": 61,
    "start_time": "2023-03-17T10:33:56.347Z"
   },
   {
    "duration": 448,
    "start_time": "2023-03-17T10:33:56.411Z"
   },
   {
    "duration": 92,
    "start_time": "2023-03-17T10:33:56.862Z"
   },
   {
    "duration": 47,
    "start_time": "2023-03-17T10:33:56.957Z"
   },
   {
    "duration": 3,
    "start_time": "2023-03-17T10:33:57.006Z"
   },
   {
    "duration": 13,
    "start_time": "2023-03-17T10:33:57.011Z"
   },
   {
    "duration": 32,
    "start_time": "2023-03-17T10:33:57.029Z"
   },
   {
    "duration": 4,
    "start_time": "2023-03-17T10:33:57.065Z"
   },
   {
    "duration": 20,
    "start_time": "2023-03-17T10:33:57.072Z"
   },
   {
    "duration": 21,
    "start_time": "2023-03-17T10:33:57.095Z"
   },
   {
    "duration": 3,
    "start_time": "2023-03-17T10:33:57.119Z"
   },
   {
    "duration": 5,
    "start_time": "2023-03-17T10:33:57.124Z"
   },
   {
    "duration": 9,
    "start_time": "2023-03-17T10:33:57.131Z"
   },
   {
    "duration": 14,
    "start_time": "2023-03-17T10:33:57.142Z"
   },
   {
    "duration": 5,
    "start_time": "2023-03-17T10:33:57.159Z"
   },
   {
    "duration": 2268,
    "start_time": "2023-03-17T10:33:57.167Z"
   },
   {
    "duration": 6,
    "start_time": "2023-03-17T10:33:59.437Z"
   },
   {
    "duration": 624,
    "start_time": "2023-03-17T10:33:59.445Z"
   },
   {
    "duration": 6,
    "start_time": "2023-03-17T10:34:00.071Z"
   },
   {
    "duration": 77942,
    "start_time": "2023-03-17T10:34:00.080Z"
   },
   {
    "duration": 5,
    "start_time": "2023-03-17T10:35:18.024Z"
   },
   {
    "duration": 0,
    "start_time": "2023-03-17T10:54:30.119Z"
   },
   {
    "duration": 0,
    "start_time": "2023-03-17T10:54:30.121Z"
   },
   {
    "duration": 0,
    "start_time": "2023-03-17T10:54:30.122Z"
   },
   {
    "duration": 0,
    "start_time": "2023-03-17T10:54:30.123Z"
   },
   {
    "duration": 0,
    "start_time": "2023-03-17T10:54:30.125Z"
   },
   {
    "duration": 0,
    "start_time": "2023-03-17T10:54:30.127Z"
   },
   {
    "duration": 0,
    "start_time": "2023-03-17T10:54:30.129Z"
   },
   {
    "duration": 0,
    "start_time": "2023-03-17T10:54:30.130Z"
   },
   {
    "duration": 0,
    "start_time": "2023-03-17T10:54:30.132Z"
   },
   {
    "duration": 0,
    "start_time": "2023-03-17T10:54:30.133Z"
   },
   {
    "duration": 0,
    "start_time": "2023-03-17T10:54:30.135Z"
   },
   {
    "duration": 0,
    "start_time": "2023-03-17T10:54:30.188Z"
   },
   {
    "duration": 0,
    "start_time": "2023-03-17T10:54:30.189Z"
   },
   {
    "duration": 0,
    "start_time": "2023-03-17T10:54:30.193Z"
   },
   {
    "duration": 0,
    "start_time": "2023-03-17T10:54:30.194Z"
   },
   {
    "duration": 0,
    "start_time": "2023-03-17T10:54:30.195Z"
   },
   {
    "duration": 0,
    "start_time": "2023-03-17T10:54:30.196Z"
   },
   {
    "duration": 0,
    "start_time": "2023-03-17T10:54:30.197Z"
   },
   {
    "duration": 0,
    "start_time": "2023-03-17T10:54:30.198Z"
   },
   {
    "duration": 0,
    "start_time": "2023-03-17T10:54:30.199Z"
   },
   {
    "duration": 0,
    "start_time": "2023-03-17T10:54:30.200Z"
   },
   {
    "duration": 0,
    "start_time": "2023-03-17T10:54:30.201Z"
   },
   {
    "duration": 0,
    "start_time": "2023-03-17T10:54:30.202Z"
   },
   {
    "duration": 0,
    "start_time": "2023-03-17T10:54:30.203Z"
   },
   {
    "duration": 0,
    "start_time": "2023-03-17T10:54:30.204Z"
   },
   {
    "duration": 0,
    "start_time": "2023-03-17T10:54:30.205Z"
   },
   {
    "duration": 0,
    "start_time": "2023-03-17T10:54:30.206Z"
   },
   {
    "duration": 0,
    "start_time": "2023-03-17T10:54:30.207Z"
   },
   {
    "duration": 0,
    "start_time": "2023-03-17T10:54:30.208Z"
   },
   {
    "duration": 0,
    "start_time": "2023-03-17T10:54:30.209Z"
   },
   {
    "duration": 0,
    "start_time": "2023-03-17T10:54:30.210Z"
   },
   {
    "duration": 0,
    "start_time": "2023-03-17T10:54:30.211Z"
   },
   {
    "duration": 0,
    "start_time": "2023-03-17T10:54:30.211Z"
   },
   {
    "duration": 0,
    "start_time": "2023-03-17T10:54:30.213Z"
   },
   {
    "duration": 0,
    "start_time": "2023-03-17T10:54:30.214Z"
   },
   {
    "duration": 0,
    "start_time": "2023-03-17T10:54:30.215Z"
   },
   {
    "duration": 0,
    "start_time": "2023-03-17T10:54:30.217Z"
   },
   {
    "duration": 0,
    "start_time": "2023-03-17T10:54:30.218Z"
   },
   {
    "duration": 0,
    "start_time": "2023-03-17T10:54:30.220Z"
   },
   {
    "duration": 0,
    "start_time": "2023-03-17T10:54:30.222Z"
   },
   {
    "duration": 0,
    "start_time": "2023-03-17T10:54:30.223Z"
   },
   {
    "duration": 0,
    "start_time": "2023-03-17T10:54:30.226Z"
   },
   {
    "duration": 0,
    "start_time": "2023-03-17T10:54:30.227Z"
   },
   {
    "duration": 0,
    "start_time": "2023-03-17T10:54:30.229Z"
   },
   {
    "duration": 0,
    "start_time": "2023-03-17T10:54:30.231Z"
   },
   {
    "duration": 0,
    "start_time": "2023-03-17T10:54:30.289Z"
   },
   {
    "duration": 1,
    "start_time": "2023-03-17T10:54:30.290Z"
   },
   {
    "duration": 1,
    "start_time": "2023-03-17T10:54:30.291Z"
   },
   {
    "duration": 0,
    "start_time": "2023-03-17T10:54:30.293Z"
   },
   {
    "duration": 0,
    "start_time": "2023-03-17T10:54:30.294Z"
   },
   {
    "duration": 0,
    "start_time": "2023-03-17T10:54:30.295Z"
   },
   {
    "duration": 0,
    "start_time": "2023-03-17T10:54:30.296Z"
   },
   {
    "duration": 0,
    "start_time": "2023-03-17T10:54:30.297Z"
   },
   {
    "duration": 0,
    "start_time": "2023-03-17T10:54:30.297Z"
   },
   {
    "duration": 0,
    "start_time": "2023-03-17T10:54:30.298Z"
   },
   {
    "duration": 0,
    "start_time": "2023-03-17T10:54:30.299Z"
   },
   {
    "duration": 0,
    "start_time": "2023-03-17T10:54:30.300Z"
   },
   {
    "duration": 0,
    "start_time": "2023-03-17T10:54:30.301Z"
   },
   {
    "duration": 0,
    "start_time": "2023-03-17T10:54:30.302Z"
   },
   {
    "duration": 4,
    "start_time": "2023-03-17T10:55:38.024Z"
   },
   {
    "duration": 3,
    "start_time": "2023-03-17T10:55:39.548Z"
   },
   {
    "duration": 6,
    "start_time": "2023-03-17T10:55:46.943Z"
   },
   {
    "duration": 5,
    "start_time": "2023-03-17T10:55:46.955Z"
   },
   {
    "duration": 50,
    "start_time": "2023-03-17T10:55:46.962Z"
   },
   {
    "duration": 4,
    "start_time": "2023-03-17T10:55:47.014Z"
   },
   {
    "duration": 921,
    "start_time": "2023-03-17T10:55:47.021Z"
   },
   {
    "duration": 14,
    "start_time": "2023-03-17T10:55:47.945Z"
   },
   {
    "duration": 189,
    "start_time": "2023-03-17T10:55:47.961Z"
   },
   {
    "duration": 320,
    "start_time": "2023-03-17T10:55:48.152Z"
   },
   {
    "duration": 23,
    "start_time": "2023-03-17T10:55:48.474Z"
   },
   {
    "duration": 50,
    "start_time": "2023-03-17T10:55:48.499Z"
   },
   {
    "duration": 73,
    "start_time": "2023-03-17T10:55:48.551Z"
   },
   {
    "duration": 49,
    "start_time": "2023-03-17T10:55:48.629Z"
   },
   {
    "duration": 133,
    "start_time": "2023-03-17T10:55:48.688Z"
   },
   {
    "duration": 56,
    "start_time": "2023-03-17T10:55:48.824Z"
   },
   {
    "duration": 208,
    "start_time": "2023-03-17T10:55:48.883Z"
   },
   {
    "duration": 51,
    "start_time": "2023-03-17T10:55:49.092Z"
   },
   {
    "duration": 50,
    "start_time": "2023-03-17T10:55:49.145Z"
   },
   {
    "duration": 51,
    "start_time": "2023-03-17T10:55:49.198Z"
   },
   {
    "duration": 45,
    "start_time": "2023-03-17T10:55:49.251Z"
   },
   {
    "duration": 37,
    "start_time": "2023-03-17T10:55:49.302Z"
   },
   {
    "duration": 118,
    "start_time": "2023-03-17T10:55:49.340Z"
   },
   {
    "duration": 190,
    "start_time": "2023-03-17T10:55:49.459Z"
   },
   {
    "duration": 170,
    "start_time": "2023-03-17T10:55:49.651Z"
   },
   {
    "duration": 96,
    "start_time": "2023-03-17T10:55:49.823Z"
   },
   {
    "duration": 18,
    "start_time": "2023-03-17T10:55:49.925Z"
   },
   {
    "duration": 18,
    "start_time": "2023-03-17T10:55:49.945Z"
   },
   {
    "duration": 662,
    "start_time": "2023-03-17T10:55:49.965Z"
   },
   {
    "duration": 30,
    "start_time": "2023-03-17T10:55:50.630Z"
   },
   {
    "duration": 18,
    "start_time": "2023-03-17T10:55:50.661Z"
   },
   {
    "duration": 40,
    "start_time": "2023-03-17T10:55:50.681Z"
   },
   {
    "duration": 81,
    "start_time": "2023-03-17T10:55:50.724Z"
   },
   {
    "duration": 21,
    "start_time": "2023-03-17T10:55:50.808Z"
   },
   {
    "duration": 79,
    "start_time": "2023-03-17T10:55:50.834Z"
   },
   {
    "duration": 13,
    "start_time": "2023-03-17T10:55:50.914Z"
   },
   {
    "duration": 19,
    "start_time": "2023-03-17T10:55:50.930Z"
   },
   {
    "duration": 58,
    "start_time": "2023-03-17T10:55:50.951Z"
   },
   {
    "duration": 369,
    "start_time": "2023-03-17T10:55:51.012Z"
   },
   {
    "duration": 75,
    "start_time": "2023-03-17T10:55:51.383Z"
   },
   {
    "duration": 5,
    "start_time": "2023-03-17T10:55:51.460Z"
   },
   {
    "duration": 34,
    "start_time": "2023-03-17T10:55:51.467Z"
   },
   {
    "duration": 25,
    "start_time": "2023-03-17T10:55:51.503Z"
   },
   {
    "duration": 9,
    "start_time": "2023-03-17T10:55:51.535Z"
   },
   {
    "duration": 32,
    "start_time": "2023-03-17T10:55:51.546Z"
   },
   {
    "duration": 26,
    "start_time": "2023-03-17T10:55:51.580Z"
   },
   {
    "duration": 26,
    "start_time": "2023-03-17T10:55:51.608Z"
   },
   {
    "duration": 22,
    "start_time": "2023-03-17T10:55:51.635Z"
   },
   {
    "duration": 13,
    "start_time": "2023-03-17T10:55:51.659Z"
   },
   {
    "duration": 24,
    "start_time": "2023-03-17T10:55:51.674Z"
   },
   {
    "duration": 16,
    "start_time": "2023-03-17T10:55:51.699Z"
   },
   {
    "duration": 11,
    "start_time": "2023-03-17T10:55:51.717Z"
   },
   {
    "duration": 1629,
    "start_time": "2023-03-17T10:55:51.730Z"
   },
   {
    "duration": 4,
    "start_time": "2023-03-17T10:55:53.361Z"
   },
   {
    "duration": 546,
    "start_time": "2023-03-17T10:55:53.366Z"
   },
   {
    "duration": 14,
    "start_time": "2023-03-17T10:55:53.913Z"
   },
   {
    "duration": 64971,
    "start_time": "2023-03-17T10:55:53.934Z"
   },
   {
    "duration": 7,
    "start_time": "2023-03-17T10:56:58.915Z"
   },
   {
    "duration": 10,
    "start_time": "2023-03-17T11:00:11.175Z"
   },
   {
    "duration": 2127,
    "start_time": "2023-03-17T11:00:11.188Z"
   },
   {
    "duration": 8,
    "start_time": "2023-03-17T11:00:13.321Z"
   },
   {
    "duration": 6,
    "start_time": "2023-03-17T11:00:13.336Z"
   },
   {
    "duration": 1289,
    "start_time": "2023-03-17T11:00:13.345Z"
   },
   {
    "duration": 32,
    "start_time": "2023-03-17T11:00:14.640Z"
   },
   {
    "duration": 290,
    "start_time": "2023-03-17T11:00:14.674Z"
   },
   {
    "duration": 491,
    "start_time": "2023-03-17T11:00:14.970Z"
   },
   {
    "duration": 21,
    "start_time": "2023-03-17T11:00:15.467Z"
   },
   {
    "duration": 73,
    "start_time": "2023-03-17T11:00:15.503Z"
   },
   {
    "duration": 71,
    "start_time": "2023-03-17T11:00:15.579Z"
   },
   {
    "duration": 77,
    "start_time": "2023-03-17T11:00:15.652Z"
   },
   {
    "duration": 36,
    "start_time": "2023-03-17T11:00:15.735Z"
   },
   {
    "duration": 84,
    "start_time": "2023-03-17T11:00:15.773Z"
   },
   {
    "duration": 333,
    "start_time": "2023-03-17T11:00:15.859Z"
   },
   {
    "duration": 67,
    "start_time": "2023-03-17T11:00:16.196Z"
   },
   {
    "duration": 62,
    "start_time": "2023-03-17T11:00:16.265Z"
   },
   {
    "duration": 85,
    "start_time": "2023-03-17T11:00:16.329Z"
   },
   {
    "duration": 65,
    "start_time": "2023-03-17T11:00:16.423Z"
   },
   {
    "duration": 63,
    "start_time": "2023-03-17T11:00:16.490Z"
   },
   {
    "duration": 181,
    "start_time": "2023-03-17T11:00:16.555Z"
   },
   {
    "duration": 268,
    "start_time": "2023-03-17T11:00:16.738Z"
   },
   {
    "duration": 192,
    "start_time": "2023-03-17T11:00:17.010Z"
   },
   {
    "duration": 94,
    "start_time": "2023-03-17T11:00:17.214Z"
   },
   {
    "duration": 25,
    "start_time": "2023-03-17T11:00:17.316Z"
   },
   {
    "duration": 78,
    "start_time": "2023-03-17T11:00:17.344Z"
   },
   {
    "duration": 1007,
    "start_time": "2023-03-17T11:00:17.425Z"
   },
   {
    "duration": 49,
    "start_time": "2023-03-17T11:00:18.447Z"
   },
   {
    "duration": 31,
    "start_time": "2023-03-17T11:00:18.499Z"
   },
   {
    "duration": 13,
    "start_time": "2023-03-17T11:00:18.536Z"
   },
   {
    "duration": 109,
    "start_time": "2023-03-17T11:00:18.554Z"
   },
   {
    "duration": 20,
    "start_time": "2023-03-17T11:00:18.665Z"
   },
   {
    "duration": 140,
    "start_time": "2023-03-17T11:00:18.687Z"
   },
   {
    "duration": 13,
    "start_time": "2023-03-17T11:00:18.830Z"
   },
   {
    "duration": 25,
    "start_time": "2023-03-17T11:00:18.850Z"
   },
   {
    "duration": 64,
    "start_time": "2023-03-17T11:00:18.877Z"
   },
   {
    "duration": 462,
    "start_time": "2023-03-17T11:00:18.945Z"
   },
   {
    "duration": 104,
    "start_time": "2023-03-17T11:00:19.409Z"
   },
   {
    "duration": 46,
    "start_time": "2023-03-17T11:00:19.516Z"
   },
   {
    "duration": 6,
    "start_time": "2023-03-17T11:00:19.567Z"
   },
   {
    "duration": 6,
    "start_time": "2023-03-17T11:00:19.576Z"
   },
   {
    "duration": 54,
    "start_time": "2023-03-17T11:00:19.590Z"
   },
   {
    "duration": 3,
    "start_time": "2023-03-17T11:00:19.649Z"
   },
   {
    "duration": 17,
    "start_time": "2023-03-17T11:00:19.655Z"
   },
   {
    "duration": 27,
    "start_time": "2023-03-17T11:00:19.674Z"
   },
   {
    "duration": 14,
    "start_time": "2023-03-17T11:00:19.709Z"
   },
   {
    "duration": 28,
    "start_time": "2023-03-17T11:00:19.731Z"
   },
   {
    "duration": 8,
    "start_time": "2023-03-17T11:00:19.761Z"
   },
   {
    "duration": 7,
    "start_time": "2023-03-17T11:00:19.772Z"
   },
   {
    "duration": 18,
    "start_time": "2023-03-17T11:00:19.782Z"
   },
   {
    "duration": 2350,
    "start_time": "2023-03-17T11:00:19.802Z"
   },
   {
    "duration": 4,
    "start_time": "2023-03-17T11:00:22.154Z"
   },
   {
    "duration": 565,
    "start_time": "2023-03-17T11:00:22.160Z"
   },
   {
    "duration": 4,
    "start_time": "2023-03-17T11:00:22.727Z"
   },
   {
    "duration": 67382,
    "start_time": "2023-03-17T11:00:22.737Z"
   },
   {
    "duration": 19,
    "start_time": "2023-03-17T11:01:30.121Z"
   },
   {
    "duration": 8,
    "start_time": "2023-03-17T11:01:30.143Z"
   },
   {
    "duration": 13,
    "start_time": "2023-03-17T11:04:46.404Z"
   },
   {
    "duration": 1667,
    "start_time": "2023-03-17T11:04:46.419Z"
   },
   {
    "duration": 16,
    "start_time": "2023-03-17T11:04:48.087Z"
   },
   {
    "duration": 5,
    "start_time": "2023-03-17T11:04:48.108Z"
   },
   {
    "duration": 928,
    "start_time": "2023-03-17T11:04:48.114Z"
   },
   {
    "duration": 31,
    "start_time": "2023-03-17T11:04:49.045Z"
   },
   {
    "duration": 153,
    "start_time": "2023-03-17T11:04:49.089Z"
   },
   {
    "duration": 303,
    "start_time": "2023-03-17T11:04:49.245Z"
   },
   {
    "duration": 25,
    "start_time": "2023-03-17T11:04:49.550Z"
   },
   {
    "duration": 48,
    "start_time": "2023-03-17T11:04:49.594Z"
   },
   {
    "duration": 69,
    "start_time": "2023-03-17T11:04:49.644Z"
   },
   {
    "duration": 40,
    "start_time": "2023-03-17T11:04:49.716Z"
   },
   {
    "duration": 50,
    "start_time": "2023-03-17T11:04:49.759Z"
   },
   {
    "duration": 53,
    "start_time": "2023-03-17T11:04:49.815Z"
   },
   {
    "duration": 233,
    "start_time": "2023-03-17T11:04:49.870Z"
   },
   {
    "duration": 56,
    "start_time": "2023-03-17T11:04:50.105Z"
   },
   {
    "duration": 57,
    "start_time": "2023-03-17T11:04:50.163Z"
   },
   {
    "duration": 41,
    "start_time": "2023-03-17T11:04:50.222Z"
   },
   {
    "duration": 57,
    "start_time": "2023-03-17T11:04:50.265Z"
   },
   {
    "duration": 23,
    "start_time": "2023-03-17T11:04:50.324Z"
   },
   {
    "duration": 126,
    "start_time": "2023-03-17T11:04:50.349Z"
   },
   {
    "duration": 207,
    "start_time": "2023-03-17T11:04:50.477Z"
   },
   {
    "duration": 125,
    "start_time": "2023-03-17T11:04:50.686Z"
   },
   {
    "duration": 98,
    "start_time": "2023-03-17T11:04:50.813Z"
   },
   {
    "duration": 11,
    "start_time": "2023-03-17T11:04:50.913Z"
   },
   {
    "duration": 30,
    "start_time": "2023-03-17T11:04:50.926Z"
   },
   {
    "duration": 691,
    "start_time": "2023-03-17T11:04:50.958Z"
   },
   {
    "duration": 51,
    "start_time": "2023-03-17T11:04:51.653Z"
   },
   {
    "duration": 18,
    "start_time": "2023-03-17T11:04:51.706Z"
   },
   {
    "duration": 5,
    "start_time": "2023-03-17T11:04:51.726Z"
   },
   {
    "duration": 79,
    "start_time": "2023-03-17T11:04:51.733Z"
   },
   {
    "duration": 17,
    "start_time": "2023-03-17T11:04:51.814Z"
   },
   {
    "duration": 90,
    "start_time": "2023-03-17T11:04:51.833Z"
   },
   {
    "duration": 4,
    "start_time": "2023-03-17T11:04:51.925Z"
   },
   {
    "duration": 45,
    "start_time": "2023-03-17T11:04:51.931Z"
   },
   {
    "duration": 49,
    "start_time": "2023-03-17T11:04:51.978Z"
   },
   {
    "duration": 350,
    "start_time": "2023-03-17T11:04:52.029Z"
   },
   {
    "duration": 71,
    "start_time": "2023-03-17T11:04:52.381Z"
   },
   {
    "duration": 49,
    "start_time": "2023-03-17T11:04:52.454Z"
   },
   {
    "duration": 3,
    "start_time": "2023-03-17T11:04:52.508Z"
   },
   {
    "duration": 20,
    "start_time": "2023-03-17T11:04:52.513Z"
   },
   {
    "duration": 28,
    "start_time": "2023-03-17T11:04:52.534Z"
   },
   {
    "duration": 3,
    "start_time": "2023-03-17T11:04:52.564Z"
   },
   {
    "duration": 18,
    "start_time": "2023-03-17T11:04:52.569Z"
   },
   {
    "duration": 30,
    "start_time": "2023-03-17T11:04:52.589Z"
   },
   {
    "duration": 10,
    "start_time": "2023-03-17T11:04:52.621Z"
   },
   {
    "duration": 39,
    "start_time": "2023-03-17T11:04:52.632Z"
   },
   {
    "duration": 26,
    "start_time": "2023-03-17T11:04:52.674Z"
   },
   {
    "duration": 33,
    "start_time": "2023-03-17T11:04:52.703Z"
   },
   {
    "duration": 21,
    "start_time": "2023-03-17T11:04:52.738Z"
   },
   {
    "duration": 1549,
    "start_time": "2023-03-17T11:04:52.761Z"
   },
   {
    "duration": 5,
    "start_time": "2023-03-17T11:04:54.311Z"
   },
   {
    "duration": 527,
    "start_time": "2023-03-17T11:04:54.318Z"
   },
   {
    "duration": 5,
    "start_time": "2023-03-17T11:04:54.846Z"
   },
   {
    "duration": 10,
    "start_time": "2023-03-17T11:04:54.854Z"
   },
   {
    "duration": 199,
    "start_time": "2023-03-17T11:04:54.867Z"
   },
   {
    "duration": 0,
    "start_time": "2023-03-17T11:04:55.067Z"
   },
   {
    "duration": 0,
    "start_time": "2023-03-17T11:04:55.069Z"
   },
   {
    "duration": 0,
    "start_time": "2023-03-17T11:04:55.070Z"
   },
   {
    "duration": 12,
    "start_time": "2023-03-17T11:05:27.019Z"
   },
   {
    "duration": 3,
    "start_time": "2023-03-17T11:05:56.940Z"
   },
   {
    "duration": 7,
    "start_time": "2023-03-17T11:06:09.284Z"
   },
   {
    "duration": 13,
    "start_time": "2023-03-17T11:07:08.312Z"
   },
   {
    "duration": 1780,
    "start_time": "2023-03-17T11:07:08.328Z"
   },
   {
    "duration": 3,
    "start_time": "2023-03-17T11:07:10.110Z"
   },
   {
    "duration": 107,
    "start_time": "2023-03-17T11:07:10.114Z"
   },
   {
    "duration": 93,
    "start_time": "2023-03-17T11:07:10.224Z"
   },
   {
    "duration": 962,
    "start_time": "2023-03-17T11:07:10.319Z"
   },
   {
    "duration": 27,
    "start_time": "2023-03-17T11:07:11.282Z"
   },
   {
    "duration": 148,
    "start_time": "2023-03-17T11:07:11.312Z"
   },
   {
    "duration": 297,
    "start_time": "2023-03-17T11:07:11.462Z"
   },
   {
    "duration": 38,
    "start_time": "2023-03-17T11:07:11.760Z"
   },
   {
    "duration": 38,
    "start_time": "2023-03-17T11:07:11.800Z"
   },
   {
    "duration": 53,
    "start_time": "2023-03-17T11:07:11.839Z"
   },
   {
    "duration": 43,
    "start_time": "2023-03-17T11:07:11.897Z"
   },
   {
    "duration": 48,
    "start_time": "2023-03-17T11:07:11.944Z"
   },
   {
    "duration": 52,
    "start_time": "2023-03-17T11:07:12.000Z"
   },
   {
    "duration": 225,
    "start_time": "2023-03-17T11:07:12.054Z"
   },
   {
    "duration": 53,
    "start_time": "2023-03-17T11:07:12.281Z"
   },
   {
    "duration": 35,
    "start_time": "2023-03-17T11:07:12.336Z"
   },
   {
    "duration": 64,
    "start_time": "2023-03-17T11:07:12.372Z"
   },
   {
    "duration": 65,
    "start_time": "2023-03-17T11:07:12.439Z"
   },
   {
    "duration": 35,
    "start_time": "2023-03-17T11:07:12.507Z"
   },
   {
    "duration": 152,
    "start_time": "2023-03-17T11:07:12.544Z"
   },
   {
    "duration": 219,
    "start_time": "2023-03-17T11:07:12.698Z"
   },
   {
    "duration": 105,
    "start_time": "2023-03-17T11:07:12.919Z"
   },
   {
    "duration": 91,
    "start_time": "2023-03-17T11:07:13.026Z"
   },
   {
    "duration": 11,
    "start_time": "2023-03-17T11:07:13.119Z"
   },
   {
    "duration": 20,
    "start_time": "2023-03-17T11:07:13.132Z"
   },
   {
    "duration": 754,
    "start_time": "2023-03-17T11:07:13.154Z"
   },
   {
    "duration": 31,
    "start_time": "2023-03-17T11:07:13.910Z"
   },
   {
    "duration": 18,
    "start_time": "2023-03-17T11:07:13.943Z"
   },
   {
    "duration": 5,
    "start_time": "2023-03-17T11:07:13.963Z"
   },
   {
    "duration": 65,
    "start_time": "2023-03-17T11:07:13.991Z"
   },
   {
    "duration": 38,
    "start_time": "2023-03-17T11:07:14.058Z"
   },
   {
    "duration": 60,
    "start_time": "2023-03-17T11:07:14.098Z"
   },
   {
    "duration": 4,
    "start_time": "2023-03-17T11:07:14.160Z"
   },
   {
    "duration": 40,
    "start_time": "2023-03-17T11:07:14.166Z"
   },
   {
    "duration": 43,
    "start_time": "2023-03-17T11:07:14.208Z"
   },
   {
    "duration": 382,
    "start_time": "2023-03-17T11:07:14.254Z"
   },
   {
    "duration": 71,
    "start_time": "2023-03-17T11:07:14.638Z"
   },
   {
    "duration": 29,
    "start_time": "2023-03-17T11:07:14.711Z"
   },
   {
    "duration": 3,
    "start_time": "2023-03-17T11:07:14.744Z"
   },
   {
    "duration": 7,
    "start_time": "2023-03-17T11:07:14.748Z"
   },
   {
    "duration": 40,
    "start_time": "2023-03-17T11:07:14.758Z"
   },
   {
    "duration": 3,
    "start_time": "2023-03-17T11:07:14.808Z"
   },
   {
    "duration": 5,
    "start_time": "2023-03-17T11:07:14.812Z"
   },
   {
    "duration": 13,
    "start_time": "2023-03-17T11:07:14.819Z"
   },
   {
    "duration": 2,
    "start_time": "2023-03-17T11:07:14.834Z"
   },
   {
    "duration": 9,
    "start_time": "2023-03-17T11:07:14.838Z"
   },
   {
    "duration": 7,
    "start_time": "2023-03-17T11:07:14.849Z"
   },
   {
    "duration": 3,
    "start_time": "2023-03-17T11:07:14.858Z"
   },
   {
    "duration": 34,
    "start_time": "2023-03-17T11:07:14.863Z"
   },
   {
    "duration": 1499,
    "start_time": "2023-03-17T11:07:14.899Z"
   },
   {
    "duration": 7,
    "start_time": "2023-03-17T11:07:16.400Z"
   },
   {
    "duration": 506,
    "start_time": "2023-03-17T11:07:16.409Z"
   },
   {
    "duration": 3,
    "start_time": "2023-03-17T11:07:16.917Z"
   },
   {
    "duration": 27,
    "start_time": "2023-03-17T11:07:16.922Z"
   },
   {
    "duration": 156,
    "start_time": "2023-03-17T11:07:16.951Z"
   },
   {
    "duration": 3,
    "start_time": "2023-03-17T11:07:21.010Z"
   },
   {
    "duration": 9,
    "start_time": "2023-03-17T11:16:43.324Z"
   },
   {
    "duration": 1596,
    "start_time": "2023-03-17T11:16:43.335Z"
   },
   {
    "duration": 3,
    "start_time": "2023-03-17T11:16:44.933Z"
   },
   {
    "duration": 39,
    "start_time": "2023-03-17T11:16:44.939Z"
   },
   {
    "duration": 52,
    "start_time": "2023-03-17T11:16:44.981Z"
   },
   {
    "duration": 970,
    "start_time": "2023-03-17T11:16:45.034Z"
   },
   {
    "duration": 29,
    "start_time": "2023-03-17T11:16:46.007Z"
   },
   {
    "duration": 163,
    "start_time": "2023-03-17T11:16:46.038Z"
   },
   {
    "duration": 285,
    "start_time": "2023-03-17T11:16:46.207Z"
   },
   {
    "duration": 27,
    "start_time": "2023-03-17T11:16:46.497Z"
   },
   {
    "duration": 79,
    "start_time": "2023-03-17T11:16:46.526Z"
   },
   {
    "duration": 40,
    "start_time": "2023-03-17T11:16:46.607Z"
   },
   {
    "duration": 54,
    "start_time": "2023-03-17T11:16:46.648Z"
   },
   {
    "duration": 25,
    "start_time": "2023-03-17T11:16:46.708Z"
   },
   {
    "duration": 72,
    "start_time": "2023-03-17T11:16:46.735Z"
   },
   {
    "duration": 234,
    "start_time": "2023-03-17T11:16:46.810Z"
   },
   {
    "duration": 57,
    "start_time": "2023-03-17T11:16:47.045Z"
   },
   {
    "duration": 41,
    "start_time": "2023-03-17T11:16:47.106Z"
   },
   {
    "duration": 45,
    "start_time": "2023-03-17T11:16:47.149Z"
   },
   {
    "duration": 37,
    "start_time": "2023-03-17T11:16:47.203Z"
   },
   {
    "duration": 30,
    "start_time": "2023-03-17T11:16:47.241Z"
   },
   {
    "duration": 129,
    "start_time": "2023-03-17T11:16:47.272Z"
   },
   {
    "duration": 202,
    "start_time": "2023-03-17T11:16:47.407Z"
   },
   {
    "duration": 108,
    "start_time": "2023-03-17T11:16:47.611Z"
   },
   {
    "duration": 93,
    "start_time": "2023-03-17T11:16:47.721Z"
   },
   {
    "duration": 11,
    "start_time": "2023-03-17T11:16:47.816Z"
   },
   {
    "duration": 17,
    "start_time": "2023-03-17T11:16:47.829Z"
   },
   {
    "duration": 748,
    "start_time": "2023-03-17T11:16:47.850Z"
   },
   {
    "duration": 32,
    "start_time": "2023-03-17T11:16:48.600Z"
   },
   {
    "duration": 20,
    "start_time": "2023-03-17T11:16:48.633Z"
   },
   {
    "duration": 6,
    "start_time": "2023-03-17T11:16:48.655Z"
   },
   {
    "duration": 91,
    "start_time": "2023-03-17T11:16:48.663Z"
   },
   {
    "duration": 35,
    "start_time": "2023-03-17T11:16:48.756Z"
   },
   {
    "duration": 64,
    "start_time": "2023-03-17T11:16:48.793Z"
   },
   {
    "duration": 4,
    "start_time": "2023-03-17T11:16:48.859Z"
   },
   {
    "duration": 44,
    "start_time": "2023-03-17T11:16:48.865Z"
   },
   {
    "duration": 53,
    "start_time": "2023-03-17T11:16:48.911Z"
   },
   {
    "duration": 341,
    "start_time": "2023-03-17T11:16:48.966Z"
   },
   {
    "duration": 59,
    "start_time": "2023-03-17T11:16:49.309Z"
   },
   {
    "duration": 48,
    "start_time": "2023-03-17T11:16:49.370Z"
   },
   {
    "duration": 3,
    "start_time": "2023-03-17T11:16:49.420Z"
   },
   {
    "duration": 5,
    "start_time": "2023-03-17T11:16:49.425Z"
   },
   {
    "duration": 35,
    "start_time": "2023-03-17T11:16:49.432Z"
   },
   {
    "duration": 3,
    "start_time": "2023-03-17T11:16:49.469Z"
   },
   {
    "duration": 16,
    "start_time": "2023-03-17T11:16:49.488Z"
   },
   {
    "duration": 12,
    "start_time": "2023-03-17T11:16:49.509Z"
   },
   {
    "duration": 3,
    "start_time": "2023-03-17T11:16:49.523Z"
   },
   {
    "duration": 6,
    "start_time": "2023-03-17T11:16:49.528Z"
   },
   {
    "duration": 10,
    "start_time": "2023-03-17T11:16:49.536Z"
   },
   {
    "duration": 6,
    "start_time": "2023-03-17T11:16:49.548Z"
   },
   {
    "duration": 27,
    "start_time": "2023-03-17T11:16:49.556Z"
   },
   {
    "duration": 1692,
    "start_time": "2023-03-17T11:16:49.585Z"
   },
   {
    "duration": 5,
    "start_time": "2023-03-17T11:16:51.279Z"
   },
   {
    "duration": 523,
    "start_time": "2023-03-17T11:16:51.291Z"
   },
   {
    "duration": 5,
    "start_time": "2023-03-17T11:16:51.816Z"
   },
   {
    "duration": 19,
    "start_time": "2023-03-17T11:16:51.823Z"
   },
   {
    "duration": 18,
    "start_time": "2023-03-17T11:16:51.844Z"
   },
   {
    "duration": 4,
    "start_time": "2023-03-17T11:16:59.957Z"
   },
   {
    "duration": 7,
    "start_time": "2023-03-17T11:17:08.551Z"
   }
  ],
  "kernelspec": {
   "display_name": "base",
   "language": "python",
   "name": "python3"
  },
  "language_info": {
   "codemirror_mode": {
    "name": "ipython",
    "version": 3
   },
   "file_extension": ".py",
   "mimetype": "text/x-python",
   "name": "python",
   "nbconvert_exporter": "python",
   "pygments_lexer": "ipython3",
   "version": "3.9.13"
  },
  "toc": {
   "base_numbering": 1,
   "nav_menu": {},
   "number_sections": true,
   "sideBar": true,
   "skip_h1_title": true,
   "title_cell": "Table of Contents",
   "title_sidebar": "Contents",
   "toc_cell": false,
   "toc_position": {},
   "toc_section_display": true,
   "toc_window_display": false
  },
  "vscode": {
   "interpreter": {
    "hash": "4c92d8243b79105ece22f62cbc9d027ec4d9f41016a549dd41aae58de4f9682a"
   }
  }
 },
 "nbformat": 4,
 "nbformat_minor": 4
}
